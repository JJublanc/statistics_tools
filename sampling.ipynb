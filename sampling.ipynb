{
 "cells": [
  {
   "cell_type": "markdown",
   "metadata": {
    "slideshow": {
     "slide_type": "slide"
    }
   },
   "source": [
    "# <center> <h1> Titre </h1> </center>\n",
    "\n",
    "<img src=\"./images/example.png\" width=\"200\">"
   ]
  },
  {
   "cell_type": "markdown",
   "metadata": {},
   "source": [
    "# Quand doit-on échantillonner ?"
   ]
  },
  {
   "cell_type": "markdown",
   "metadata": {},
   "source": [
    "## A/ Impossible d'utiliser toutes les données"
   ]
  },
  {
   "cell_type": "markdown",
   "metadata": {},
   "source": [
    "Il est parfois impossible ou trop coûteux d'utiliser toutes les données.\n",
    "\n",
    "__Données difficile à rassembler__\n",
    "Les données ne sont pas toujours toutes disponibles : \n",
    "* certaines sont détruites régulièrement ;\n",
    "* d'autres sont inexistantes.\n",
    "\n",
    "__Traitements trop coûteux__\n",
    "Il est parfois très coûteux en temps et/ou en argent :\n",
    "* de les traiter toutes ensembles ;\n",
    "* de les récupérer (stockage décentralisé, formats hétérogènes).\n",
    "\n",
    "Dans tous ces cas il peut être utile de procéder à un échantillonnage pour réduire le coût de récupération et de traitement des données."
   ]
  },
  {
   "cell_type": "markdown",
   "metadata": {},
   "source": [
    "<img src=\"./images/warning.png\" width=\"100\">\n",
    "Lorsque l'on peut travailler sur toutes les données c'est toujours mieux !"
   ]
  },
  {
   "cell_type": "markdown",
   "metadata": {},
   "source": [
    "## B/ Améliorer les performances"
   ]
  },
  {
   "cell_type": "markdown",
   "metadata": {},
   "source": [
    "Dans certains cas l'échantillonnage est une technique qui peut être répéter pour :\n",
    "* améliorer les performances d'un algorithme de machine learning : bootstraping ;\n",
    "* vérifier la stabilité d'un modèle et éventuellemnt en réduire la variance."
   ]
  },
  {
   "cell_type": "markdown",
   "metadata": {},
   "source": [
    "## Limites"
   ]
  },
  {
   "cell_type": "markdown",
   "metadata": {},
   "source": [
    "# Comment échantillonner ?"
   ]
  },
  {
   "cell_type": "markdown",
   "metadata": {},
   "source": [
    "## A/ L'aléa au coeur de l'échantillonnage"
   ]
  },
  {
   "cell_type": "markdown",
   "metadata": {},
   "source": [
    "Le principe général est de procéder de manière la plus aléatoire possible. Ceci vient du fait que l'aléatoire pur permet d'éviter les biais. C'est donc une condition essentielle pour que l'échantillon soit représentatif de l'ensemble des données."
   ]
  },
  {
   "cell_type": "markdown",
   "metadata": {},
   "source": [
    "__Les quotas__\n",
    "\n",
    "On __choisit__ des individus dans une liste en fonction de leurs caractéristiques pour coller aux caractéristiques principales de l'ensemble des données (population générale).\n",
    "\n",
    "Cette méthode introduit plusieurs biais :\n",
    "* les mêmes personnes sont souvent interrogées (il est moins chers d'interroger des meilleurs répondants) ;\n",
    "* souvent peu d'individus représentent toutes leur catégorie.\n",
    "\n",
    "La méthode des quotas présente égakement l'incovénient d'empêcher de calculer sérieuseument les erreurs que l'on va avoir sur les résultats."
   ]
  },
  {
   "cell_type": "markdown",
   "metadata": {},
   "source": [
    "__Le tirage aléatiore pur__\n",
    "\n",
    "Cette méthode est la plus simple et permet une bonne représentation non biaisée de l'ensemble des données, à condition d'avoir un échantillon de taille suffisante.\n",
    "\n",
    "Dans la suite nous verrons comment calculer la taille de l'échantillon.\n",
    "\n",
    "_TODO : ajouter l'illustration_"
   ]
  },
  {
   "cell_type": "markdown",
   "metadata": {},
   "source": [
    "__L'échantillonnage par strat__\n",
    "\n",
    "On réalise un tirage aléatoire au sein de chaque strat en proportion de la strat dans la population total (i.e dans l'ensemble des données).\n",
    "\n",
    "Les strates doivent constituer une partition des données. C'est-à-dire que chaque individu à appartient à une et une seule strate.\n",
    "\n",
    "Cette méthode est meilleure qu'un tirage aléatoire simple (au sens de la variance de la variable observée) si la variance intra-strate est faible.\n",
    "\n",
    "_TODO : ajouter la formule + illustration_\n",
    "\n",
    "Cette méthode nécessite d'avoir un minimum d'information sur l'ensemble des données pour pouvoir réaliser le partitionnement."
   ]
  },
  {
   "cell_type": "markdown",
   "metadata": {},
   "source": [
    "__L'échantillonnage par grappe__\n",
    "\n",
    "L'échantillonnage par grappe consiste à réaliser un tirage aléatoire de groupes d'individus et de retenir dans l'échantillon tous les individus des groupes échantillonnés.\n",
    "\n",
    "Cette méthode est moins bonne mais a l'avantage parfois d'être très économique.\n",
    "\n",
    "TODO : ajouter une illustration"
   ]
  },
  {
   "cell_type": "markdown",
   "metadata": {},
   "source": [
    "__Le principe du boostrap__\n",
    "\n",
    "_Problème_\n",
    "\n",
    "Dans l'idéal on souhaite tirer un grand nombre d'échantillons pour :\n",
    "* estimer un intervalle de confiance de manière empirique ;\n",
    "* vérifier la stabilité de résultats ;\n",
    "* améliorer des algorithmes en utilisant la technique du bagging (sous certaines conditions), comme dans le random forest.\n",
    "\n",
    "Le problème est qu'il est parfois coûteux voire impossible de tirer plusieurs échantillons.\n",
    "\n",
    "_Solution_\n",
    "\n",
    "La solution est de tirer des échantillons, dits bootstrappés, à partir de l'échantillon de départ et non dans l'ensemble des données.\n",
    "\n",
    "Le bootstrap s'effectue en trois étapes : \n",
    "* d'abord on tire $m$ échantillons de même taille $n$ que l'échantillon initial. Les tirages se font avec remises car sinon on obtient $m$ fois le même échantillon ;\n",
    "* ensuite on calcule les résultats sur chacun des sous échantillons ;\n",
    "* enfin on aggrège les résultats (en utilisant la moyenne ou la majorité des résultats dans le cas d'une classification)."
   ]
  },
  {
   "cell_type": "markdown",
   "metadata": {},
   "source": [
    "#### Exemple du calcul d'un intervalle de confiance autour d'une moyenne"
   ]
  },
  {
   "cell_type": "code",
   "execution_count": 309,
   "metadata": {},
   "outputs": [],
   "source": [
    "import numpy as np\n",
    "mean = 0\n",
    "var = 1\n",
    "sample_size = 1000\n",
    "sample = np.random.normal(mean, var, size=sample_size)"
   ]
  },
  {
   "cell_type": "code",
   "execution_count": 310,
   "metadata": {},
   "outputs": [],
   "source": [
    "def bootstrap_mean(sample, boot_size = 1000):\n",
    "    n = len(sample)\n",
    "    mean_boot = []\n",
    "    for ii in range(boot_size) :\n",
    "        sample_boot = np.random.choice(sample, n, replace=True)\n",
    "        mean_boot.append(np.mean(sample_boot))\n",
    "    return mean_boot"
   ]
  },
  {
   "cell_type": "code",
   "execution_count": 311,
   "metadata": {},
   "outputs": [],
   "source": [
    "boot_mean = bootstrap_mean(sample, boot_size = 5000)"
   ]
  },
  {
   "cell_type": "code",
   "execution_count": 313,
   "metadata": {},
   "outputs": [
    {
     "data": {
      "text/plain": [
       "-0.0029865712001975525"
      ]
     },
     "execution_count": 313,
     "metadata": {},
     "output_type": "execute_result"
    }
   ],
   "source": [
    "np.mean(sample)"
   ]
  },
  {
   "cell_type": "code",
   "execution_count": 314,
   "metadata": {
    "scrolled": true
   },
   "outputs": [
    {
     "data": {
      "text/plain": [
       "array([-0.064094  ,  0.05952682])"
      ]
     },
     "execution_count": 314,
     "metadata": {},
     "output_type": "execute_result"
    }
   ],
   "source": [
    "np.quantile(boot_mean, q=[0.025,0.975])"
   ]
  },
  {
   "cell_type": "markdown",
   "metadata": {},
   "source": [
    "# Pratique"
   ]
  },
  {
   "cell_type": "markdown",
   "metadata": {},
   "source": [
    "##### Imports"
   ]
  },
  {
   "cell_type": "code",
   "execution_count": 2,
   "metadata": {
    "scrolled": true,
    "slideshow": {
     "slide_type": "skip"
    }
   },
   "outputs": [
    {
     "data": {
      "text/html": [
       "<script type=\"text/javascript\">window.PlotlyConfig = {MathJaxConfig: 'local'};</script><script type=\"text/javascript\">if (window.MathJax) {MathJax.Hub.Config({SVG: {font: \"STIX-Web\"}});}</script><script>requirejs.config({paths: { 'plotly': ['https://cdn.plot.ly/plotly-latest.min']},});if(!window._Plotly) {require(['plotly'],function(plotly) {window._Plotly=plotly;});}</script>"
      ],
      "text/vnd.plotly.v1+html": [
       "<script type=\"text/javascript\">window.PlotlyConfig = {MathJaxConfig: 'local'};</script><script type=\"text/javascript\">if (window.MathJax) {MathJax.Hub.Config({SVG: {font: \"STIX-Web\"}});}</script><script>requirejs.config({paths: { 'plotly': ['https://cdn.plot.ly/plotly-latest.min']},});if(!window._Plotly) {require(['plotly'],function(plotly) {window._Plotly=plotly;});}</script>"
      ]
     },
     "metadata": {},
     "output_type": "display_data"
    }
   ],
   "source": [
    "get_ipython().magic(u'matplotlib inline')\n",
    "%run -i ./utils/credentials.py\n",
    "%run -i ./utils/imports.py\n",
    "%run -i ./utils/plots.py\n",
    "%run -i ./utils/stats.py"
   ]
  },
  {
   "cell_type": "code",
   "execution_count": null,
   "metadata": {},
   "outputs": [],
   "source": []
  },
  {
   "cell_type": "code",
   "execution_count": null,
   "metadata": {},
   "outputs": [],
   "source": []
  },
  {
   "cell_type": "markdown",
   "metadata": {},
   "source": [
    "<center> <h1>Take away</h1> </center>\n",
    "\n",
    "<img src=\"./images/coffee.png\" width=\"200\">\n",
    "\n",
    "\n",
    "__Expresso__ : \n",
    "\n",
    "* point 1\n",
    "* point 2\n",
    "\n",
    "__Sugar Story__ :\n",
    "\n",
    "* point 1\n",
    "* point 2"
   ]
  },
  {
   "cell_type": "markdown",
   "metadata": {},
   "source": [
    "# Get more on my github <img src=\"./images/github.png\" width=\"100\">\n",
    "https://github.com/JohanJublancPerso/datascience_statistics_tools"
   ]
  }
 ],
 "metadata": {
  "celltoolbar": "Format de la Cellule Texte Brut",
  "kernelspec": {
   "display_name": "Python 3",
   "language": "python",
   "name": "python3"
  },
  "language_info": {
   "codemirror_mode": {
    "name": "ipython",
    "version": 3
   },
   "file_extension": ".py",
   "mimetype": "text/x-python",
   "name": "python",
   "nbconvert_exporter": "python",
   "pygments_lexer": "ipython3",
   "version": "3.7.1"
  }
 },
 "nbformat": 4,
 "nbformat_minor": 2
}
