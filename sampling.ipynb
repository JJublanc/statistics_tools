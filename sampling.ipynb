{
 "cells": [
  {
   "cell_type": "markdown",
   "metadata": {
    "slideshow": {
     "slide_type": "slide"
    }
   },
   "source": [
    "# <center> <h1> Echantillonnage </h1> </center>\n",
    "\n",
    "<img src=\"./images/sample.png\" width=\"300\">"
   ]
  },
  {
   "cell_type": "code",
   "execution_count": 13,
   "metadata": {
    "scrolled": true,
    "slideshow": {
     "slide_type": "skip"
    }
   },
   "outputs": [
    {
     "data": {
      "text/html": [
       "        <script type=\"text/javascript\">\n",
       "        window.PlotlyConfig = {MathJaxConfig: 'local'};\n",
       "        if (window.MathJax) {MathJax.Hub.Config({SVG: {font: \"STIX-Web\"}});}\n",
       "        if (typeof require !== 'undefined') {\n",
       "        require.undef(\"plotly\");\n",
       "        requirejs.config({\n",
       "            paths: {\n",
       "                'plotly': ['https://cdn.plot.ly/plotly-latest.min']\n",
       "            }\n",
       "        });\n",
       "        require(['plotly'], function(Plotly) {\n",
       "            window._Plotly = Plotly;\n",
       "        });\n",
       "        }\n",
       "        </script>\n",
       "        "
      ]
     },
     "metadata": {},
     "output_type": "display_data"
    }
   ],
   "source": [
    "get_ipython().magic(u'matplotlib inline')\n",
    "%run -i ./utils/credentials.py\n",
    "%run -i ./utils/imports.py\n",
    "%run -i ./utils/plots.py\n",
    "%run -i ./utils/stats.py"
   ]
  },
  {
   "cell_type": "markdown",
   "metadata": {
    "slideshow": {
     "slide_type": "slide"
    }
   },
   "source": [
    "## Définitions\n",
    "L'échantillonnage est un ensemble de techniques permettant d'extraire des individus à partir d'un ensemble. Cette extraction est un __échantillon__\n",
    "\n",
    "L'ensemble des individus est appelée la __population totale__. Il correspond à l'ensemble des individus réels ou potentiels.\n",
    "\n",
    "L'échantillon tiré doit avoir une caractéristique essentielle : __la représentativité__.\n",
    "Cela signifie que les résultats calculés à partir de l'échantillondoivent être proches de ceux qui seraient obtenus à partir de la population totale."
   ]
  },
  {
   "cell_type": "markdown",
   "metadata": {
    "slideshow": {
     "slide_type": "fragment"
    }
   },
   "source": [
    "Le principe général est de procéder de manière la plus __aléatoire__ possible. Ceci vient du fait que l'aléatoire pur permet d'éviter les biais. C'est donc une condition essentielle pour que l'échantillon soit représentatif de l'ensemble des données."
   ]
  },
  {
   "cell_type": "markdown",
   "metadata": {
    "slideshow": {
     "slide_type": "slide"
    }
   },
   "source": [
    "# Les use-cases"
   ]
  },
  {
   "cell_type": "markdown",
   "metadata": {
    "slideshow": {
     "slide_type": "slide"
    }
   },
   "source": [
    "## A/ Impossible d'utiliser toutes les données"
   ]
  },
  {
   "cell_type": "markdown",
   "metadata": {
    "slideshow": {
     "slide_type": "fragment"
    }
   },
   "source": [
    "Il est parfois impossible ou trop coûteux d'utiliser toutes les données.\n",
    "\n",
    "__Données difficile à rassembler__\n",
    "\n",
    "Les données ne sont pas toujours toutes disponibles : \n",
    "* certaines sont détruites régulièrement ;\n",
    "* d'autres sont inexistantes ;\n",
    "* il complexe et long de les récupérer (stockage décentralisé, formats hétérogènes)\n",
    "\n",
    "__Traitements trop coûteux__\n",
    "\n",
    "Il est parfois très coûteux de traiter les données : \n",
    "* en temps ;\n",
    "* en argent.\n",
    "\n",
    "Dans tous ces cas il peut être utile de procéder à un échantillonnage pour réduire le coût de récupération et de traitement des données."
   ]
  },
  {
   "cell_type": "markdown",
   "metadata": {
    "slideshow": {
     "slide_type": "subslide"
    }
   },
   "source": [
    "<img src=\"./images/warning.png\" width=\"100\">\n",
    "Lorsque l'on peut travailler sur toutes les données c'est toujours mieux !"
   ]
  },
  {
   "cell_type": "markdown",
   "metadata": {
    "slideshow": {
     "slide_type": "slide"
    }
   },
   "source": [
    "## B/ Améliorer ou estimer des performances - bootstrap"
   ]
  },
  {
   "cell_type": "markdown",
   "metadata": {
    "slideshow": {
     "slide_type": "fragment"
    }
   },
   "source": [
    "La technique du boostrap peut être utilisée dans certains cas pour :\n",
    "* améliorer les performances d'un algorithme de machine learning : bagging (boostrap aggregating) ;\n",
    "* estimer des intervalle de confiance et plus généralement la stabilité d'un modèle."
   ]
  },
  {
   "cell_type": "markdown",
   "metadata": {
    "slideshow": {
     "slide_type": "slide"
    }
   },
   "source": [
    "# La base de sondage"
   ]
  },
  {
   "cell_type": "markdown",
   "metadata": {
    "slideshow": {
     "slide_type": "fragment"
    }
   },
   "source": [
    "Pour commencer il faut une base de sondage, c'est-à-dire un minimum d'informations sur l'ensemble de la population, afin de tirer les individus échantillonnés.\n",
    "\n",
    "Si la base de sondage est riche, on peut envisager de procéder par strate. Il faut pour cela que les informations de la base de sondages soient suffisantes pour regrouper les individus selon des caractéristiques pertinentes. Cela ne sert _a priori_ à rien de regrouper les individus en fonction de la valeur du dernier chiffre de leur numéro de téléphone.\n",
    "\n",
    "__NB__\n",
    "La base de sondage ne doit pas être partielle sinon on risque d'avoir un biais de sélection des individus."
   ]
  },
  {
   "cell_type": "markdown",
   "metadata": {
    "slideshow": {
     "slide_type": "slide"
    }
   },
   "source": [
    "# La taille de l'échantillon"
   ]
  },
  {
   "cell_type": "markdown",
   "metadata": {
    "slideshow": {
     "slide_type": "fragment"
    }
   },
   "source": [
    "D'un point de vue statistique, plus on a d'indivdus, mieux c'est. Mais l'échantillonnage a un coût. Il va donc falloire arbitre entre coût et précision des résultats. Pour cela on va estimer la précision que l'on peut espérer pour les résultats qui seront calculés grâce à l'échantillon."
   ]
  },
  {
   "cell_type": "markdown",
   "metadata": {
    "slideshow": {
     "slide_type": "subslide"
    }
   },
   "source": [
    "##### Exemple calcul d'un taux pour un tirage aléatoire simple"
   ]
  },
  {
   "cell_type": "markdown",
   "metadata": {
    "slideshow": {
     "slide_type": "fragment"
    }
   },
   "source": [
    "Lorsque l'on calcule une moyenne empirique sur un échantillon, la valeur s'écarte de la _vraie valeur_ (sur l'ensemble de la population ou théorique). Ce que l'on cherche à prévoir ici c'est de combien on risque de se tromper pour une taille d'échantillon donnée.\n",
    "Pour cela on utilise (encore) le théorème central limite :\n",
    "\n",
    "$$ \\frac{\\bar{X} - \\mu}{\\sqrt{\\frac{\\sigma^2}{n}}} \\rightarrow \\mathcal{N}\\Big(0, 1\\big)$$\n",
    "\n",
    "Qui est équivalent à :\n",
    "\n",
    "$$ \\bar{X} - \\mu \\rightarrow \\mathcal{N}\\Big(0, \\sqrt{\\frac{\\sigma^2}{n}} \\Big)$$"
   ]
  },
  {
   "cell_type": "markdown",
   "metadata": {
    "slideshow": {
     "slide_type": "subslide"
    }
   },
   "source": [
    "Souvent on ne connaît pas $\\sigma$, mais on peut l'approximer. Lorsque l'on calcul un taux c'est à partir de valeur binaires, on a alors $\\forall i, X_i \\in \\{0,1\\}$.\n",
    "\n",
    "Nos variables aléatoires suivent donc une loi de Bernouilli, ce qui nous permet d'approximer $\\sigma^2$ par $\\bar{X}\\times(1-\\bar{X})$\n",
    "\n",
    "$$ \\frac{\\bar{X} - \\mu}{\\sqrt{\\frac{\\bar{X}\\times(1-\\bar{X})}{n}}} \\rightarrow \\mathcal{t}(n-1) \\underbrace{\\approx}_{n>200} \\mathcal{N}\\Big(0, 1\\big)$$\n",
    "\n",
    "Pour chaque valeur de $n$ on peut donc calculer un intervalle de confiance, à $95$% par exemple, de l'erreur que l'on fera. A 95%, l'intervalle de confiance d'une variable aléatoire suivant une loi $\\mathcal{N}\\Big(0, 1\\big)$ est $[-1,96 ; 1,96]$. On a alors : \n",
    "\n",
    "$$ \\frac{|\\bar{X} - \\mu|}{\\sqrt{\\frac{\\bar{X}\\times(1-\\bar{X})}{n}}} \\leq 1,96$$\n",
    "\n",
    "$$ \\iff n \\geq 1.96^2 \\times \\frac{\\bar{X}\\times(1-\\bar{X})}{(\\bar{X} - \\mu)^2}$$"
   ]
  },
  {
   "cell_type": "code",
   "execution_count": 14,
   "metadata": {
    "slideshow": {
     "slide_type": "subslide"
    }
   },
   "outputs": [],
   "source": [
    "def n_size_proportion(mu,e,i=0.95):\n",
    "\n",
    "    # mu : hypothèse sur la valeur réelle\n",
    "    # e : erreur moyenne(X) - mu // l'écart entre la moyenne et mu sera de +/- e \n",
    "    # i : intervalle de confiance\n",
    "    \n",
    "    ii = 1 - (1 - i)/2\n",
    "    \n",
    "    ppf = norm.ppf(ii)\n",
    "    \n",
    "    n = (ppf**2)*(p*(1-p))/((e)**2)\n",
    "    \n",
    "    return n"
   ]
  },
  {
   "cell_type": "code",
   "execution_count": 16,
   "metadata": {
    "slideshow": {
     "slide_type": "subslide"
    }
   },
   "outputs": [
    {
     "data": {
      "text/plain": [
       "384.14588206941244"
      ]
     },
     "execution_count": 16,
     "metadata": {},
     "output_type": "execute_result"
    }
   ],
   "source": [
    "n_size_proportion(0.5,0.05,i=0.95)"
   ]
  },
  {
   "cell_type": "code",
   "execution_count": 17,
   "metadata": {
    "slideshow": {
     "slide_type": "skip"
    }
   },
   "outputs": [],
   "source": [
    "columns = []\n",
    "for pp in range(1,10):\n",
    "    columns.append(\"p:{}%\".format(pp*10))\n",
    "index = []\n",
    "for ee in range(1,10):\n",
    "    index.append(\"error:{}%\".format(ee))\n"
   ]
  },
  {
   "cell_type": "code",
   "execution_count": 18,
   "metadata": {
    "slideshow": {
     "slide_type": "skip"
    }
   },
   "outputs": [],
   "source": [
    "import pandas as pd\n",
    "matrix = []\n",
    "for ee in range(1,10):\n",
    "    line = []\n",
    "    for pp in range(1,10):\n",
    "         line.append(n_size_proportion(pp/10, ee/100, 0.95))\n",
    "    matrix.append(line)"
   ]
  },
  {
   "cell_type": "code",
   "execution_count": 19,
   "metadata": {
    "slideshow": {
     "slide_type": "skip"
    }
   },
   "outputs": [],
   "source": [
    "table = pd.DataFrame(matrix,columns=columns, index=index)"
   ]
  },
  {
   "cell_type": "code",
   "execution_count": 20,
   "metadata": {
    "slideshow": {
     "slide_type": "skip"
    }
   },
   "outputs": [],
   "source": [
    "table.to_csv('./table_echantillon')"
   ]
  },
  {
   "cell_type": "code",
   "execution_count": 21,
   "metadata": {
    "slideshow": {
     "slide_type": "subslide"
    }
   },
   "outputs": [
    {
     "data": {
      "text/html": [
       "<div>\n",
       "<style scoped>\n",
       "    .dataframe tbody tr th:only-of-type {\n",
       "        vertical-align: middle;\n",
       "    }\n",
       "\n",
       "    .dataframe tbody tr th {\n",
       "        vertical-align: top;\n",
       "    }\n",
       "\n",
       "    .dataframe thead th {\n",
       "        text-align: right;\n",
       "    }\n",
       "</style>\n",
       "<table border=\"1\" class=\"dataframe\">\n",
       "  <thead>\n",
       "    <tr style=\"text-align: right;\">\n",
       "      <th></th>\n",
       "      <th>p:10%</th>\n",
       "      <th>p:20%</th>\n",
       "      <th>p:30%</th>\n",
       "      <th>p:40%</th>\n",
       "      <th>p:50%</th>\n",
       "      <th>p:60%</th>\n",
       "      <th>p:70%</th>\n",
       "      <th>p:80%</th>\n",
       "      <th>p:90%</th>\n",
       "    </tr>\n",
       "  </thead>\n",
       "  <tbody>\n",
       "    <tr>\n",
       "      <th>error:1%</th>\n",
       "      <td>9603.647052</td>\n",
       "      <td>9603.647052</td>\n",
       "      <td>9603.647052</td>\n",
       "      <td>9603.647052</td>\n",
       "      <td>9603.647052</td>\n",
       "      <td>9603.647052</td>\n",
       "      <td>9603.647052</td>\n",
       "      <td>9603.647052</td>\n",
       "      <td>9603.647052</td>\n",
       "    </tr>\n",
       "    <tr>\n",
       "      <th>error:2%</th>\n",
       "      <td>2400.911763</td>\n",
       "      <td>2400.911763</td>\n",
       "      <td>2400.911763</td>\n",
       "      <td>2400.911763</td>\n",
       "      <td>2400.911763</td>\n",
       "      <td>2400.911763</td>\n",
       "      <td>2400.911763</td>\n",
       "      <td>2400.911763</td>\n",
       "      <td>2400.911763</td>\n",
       "    </tr>\n",
       "    <tr>\n",
       "      <th>error:3%</th>\n",
       "      <td>1067.071895</td>\n",
       "      <td>1067.071895</td>\n",
       "      <td>1067.071895</td>\n",
       "      <td>1067.071895</td>\n",
       "      <td>1067.071895</td>\n",
       "      <td>1067.071895</td>\n",
       "      <td>1067.071895</td>\n",
       "      <td>1067.071895</td>\n",
       "      <td>1067.071895</td>\n",
       "    </tr>\n",
       "    <tr>\n",
       "      <th>error:4%</th>\n",
       "      <td>600.227941</td>\n",
       "      <td>600.227941</td>\n",
       "      <td>600.227941</td>\n",
       "      <td>600.227941</td>\n",
       "      <td>600.227941</td>\n",
       "      <td>600.227941</td>\n",
       "      <td>600.227941</td>\n",
       "      <td>600.227941</td>\n",
       "      <td>600.227941</td>\n",
       "    </tr>\n",
       "    <tr>\n",
       "      <th>error:5%</th>\n",
       "      <td>384.145882</td>\n",
       "      <td>384.145882</td>\n",
       "      <td>384.145882</td>\n",
       "      <td>384.145882</td>\n",
       "      <td>384.145882</td>\n",
       "      <td>384.145882</td>\n",
       "      <td>384.145882</td>\n",
       "      <td>384.145882</td>\n",
       "      <td>384.145882</td>\n",
       "    </tr>\n",
       "    <tr>\n",
       "      <th>error:6%</th>\n",
       "      <td>266.767974</td>\n",
       "      <td>266.767974</td>\n",
       "      <td>266.767974</td>\n",
       "      <td>266.767974</td>\n",
       "      <td>266.767974</td>\n",
       "      <td>266.767974</td>\n",
       "      <td>266.767974</td>\n",
       "      <td>266.767974</td>\n",
       "      <td>266.767974</td>\n",
       "    </tr>\n",
       "    <tr>\n",
       "      <th>error:7%</th>\n",
       "      <td>195.992797</td>\n",
       "      <td>195.992797</td>\n",
       "      <td>195.992797</td>\n",
       "      <td>195.992797</td>\n",
       "      <td>195.992797</td>\n",
       "      <td>195.992797</td>\n",
       "      <td>195.992797</td>\n",
       "      <td>195.992797</td>\n",
       "      <td>195.992797</td>\n",
       "    </tr>\n",
       "    <tr>\n",
       "      <th>error:8%</th>\n",
       "      <td>150.056985</td>\n",
       "      <td>150.056985</td>\n",
       "      <td>150.056985</td>\n",
       "      <td>150.056985</td>\n",
       "      <td>150.056985</td>\n",
       "      <td>150.056985</td>\n",
       "      <td>150.056985</td>\n",
       "      <td>150.056985</td>\n",
       "      <td>150.056985</td>\n",
       "    </tr>\n",
       "    <tr>\n",
       "      <th>error:9%</th>\n",
       "      <td>118.563544</td>\n",
       "      <td>118.563544</td>\n",
       "      <td>118.563544</td>\n",
       "      <td>118.563544</td>\n",
       "      <td>118.563544</td>\n",
       "      <td>118.563544</td>\n",
       "      <td>118.563544</td>\n",
       "      <td>118.563544</td>\n",
       "      <td>118.563544</td>\n",
       "    </tr>\n",
       "  </tbody>\n",
       "</table>\n",
       "</div>"
      ],
      "text/plain": [
       "                p:10%        p:20%        p:30%        p:40%        p:50%  \\\n",
       "error:1%  9603.647052  9603.647052  9603.647052  9603.647052  9603.647052   \n",
       "error:2%  2400.911763  2400.911763  2400.911763  2400.911763  2400.911763   \n",
       "error:3%  1067.071895  1067.071895  1067.071895  1067.071895  1067.071895   \n",
       "error:4%   600.227941   600.227941   600.227941   600.227941   600.227941   \n",
       "error:5%   384.145882   384.145882   384.145882   384.145882   384.145882   \n",
       "error:6%   266.767974   266.767974   266.767974   266.767974   266.767974   \n",
       "error:7%   195.992797   195.992797   195.992797   195.992797   195.992797   \n",
       "error:8%   150.056985   150.056985   150.056985   150.056985   150.056985   \n",
       "error:9%   118.563544   118.563544   118.563544   118.563544   118.563544   \n",
       "\n",
       "                p:60%        p:70%        p:80%        p:90%  \n",
       "error:1%  9603.647052  9603.647052  9603.647052  9603.647052  \n",
       "error:2%  2400.911763  2400.911763  2400.911763  2400.911763  \n",
       "error:3%  1067.071895  1067.071895  1067.071895  1067.071895  \n",
       "error:4%   600.227941   600.227941   600.227941   600.227941  \n",
       "error:5%   384.145882   384.145882   384.145882   384.145882  \n",
       "error:6%   266.767974   266.767974   266.767974   266.767974  \n",
       "error:7%   195.992797   195.992797   195.992797   195.992797  \n",
       "error:8%   150.056985   150.056985   150.056985   150.056985  \n",
       "error:9%   118.563544   118.563544   118.563544   118.563544  "
      ]
     },
     "execution_count": 21,
     "metadata": {},
     "output_type": "execute_result"
    }
   ],
   "source": [
    "table"
   ]
  },
  {
   "cell_type": "markdown",
   "metadata": {
    "slideshow": {
     "slide_type": "slide"
    }
   },
   "source": [
    "# Les techniques d'échantillonnage"
   ]
  },
  {
   "cell_type": "markdown",
   "metadata": {
    "slideshow": {
     "slide_type": "fragment"
    }
   },
   "source": [
    "Le tirage aléatoire simple est une technique qui doit toujours fonctionner en principe. Mais s'il n'existe pas de bons arbitrage entre taille et coût on peut envisager d'autres solutions, par exemple :\n",
    "* l'exploitation de strates pertinentes (qui peut toujours être tenté) si la base de sondage est suffisamment riche ;\n",
    "* l'échantillonnage par grappe : cela permet d'avoir des volumes plus importants en réduisant le nombre de points d'entrée (et donc les coûts) ;\n",
    "* les quotas si on n'a pas d'autre choix."
   ]
  },
  {
   "cell_type": "markdown",
   "metadata": {
    "slideshow": {
     "slide_type": "subslide"
    }
   },
   "source": [
    "__Le tirage aléatiore simple__\n",
    "\n",
    "<img src=\"./images/sample.png\" width=\"400\">\n",
    "\n",
    "Cette méthode est la plus simple et permet une bonne représentation non biaisée de l'ensemble des données, à condition d'avoir un échantillon de taille suffisante.\n",
    "\n",
    "Nous avons vu plus haut comment calculer la taille de l'échantillon dans ce cas."
   ]
  },
  {
   "cell_type": "markdown",
   "metadata": {
    "slideshow": {
     "slide_type": "subslide"
    }
   },
   "source": [
    "__L'échantillonnage par strate__\n",
    "\n",
    "<img src=\"./images/sample_strates.png\" width=\"400\">\n",
    "\n",
    "On réalise un tirage aléatoire au sein de chaque strat en proportion de la strat dans la population total (i.e dans l'ensemble des données).\n",
    "\n",
    "Les strates doivent constituer une partition des données. C'est-à-dire que chaque individu à appartient à une et une seule strate.\n",
    "\n",
    "Cette méthode est meilleure qu'un tirage aléatoire simple (au sens de la variance de la variable observée) si la variance intra-strate est faible.\n",
    "\n",
    "Cette méthode nécessite d'avoir un minimum d'information sur l'ensemble des données pour pouvoir réaliser le partitionnement."
   ]
  },
  {
   "cell_type": "markdown",
   "metadata": {
    "slideshow": {
     "slide_type": "subslide"
    }
   },
   "source": [
    "__L'échantillonnage par grappe__\n",
    "\n",
    "<img src=\"./images/sample_cluster.png\" width=\"400\">\n",
    "\n",
    "L'échantillonnage par grappe consiste à réaliser un tirage aléatoire de groupes d'individus et de retenir dans l'échantillon tous les individus des groupes échantillonnés.\n",
    "\n",
    "Cette méthode est moins bonne mais a l'avantage parfois d'être très économique."
   ]
  },
  {
   "cell_type": "markdown",
   "metadata": {
    "slideshow": {
     "slide_type": "subslide"
    }
   },
   "source": [
    "__Les quotas__\n",
    "\n",
    "<img src=\"./images/sample_quota.png\" width=\"400\">\n",
    "\n",
    "On __choisit__ des individus dans une liste en fonction de leurs caractéristiques pour coller aux caractéristiques principales de l'ensemble des données (population générale).\n",
    "\n",
    "Cette méthode introduit plusieurs biais :\n",
    "* les mêmes personnes sont souvent interrogées (il est moins chers d'interroger des meilleurs répondants) ;\n",
    "* souvent peu d'individus représentent toutes leur catégorie.\n",
    "\n",
    "La méthode des quotas présente égakement l'incovénient d'empêcher de calculer sérieuseument les erreurs que l'on va avoir sur les résultats."
   ]
  },
  {
   "cell_type": "markdown",
   "metadata": {
    "slideshow": {
     "slide_type": "slide"
    }
   },
   "source": [
    "__Exemple : comparaison d'un tirage aléatoire simple et d'un tirage stratifié__"
   ]
  },
  {
   "cell_type": "code",
   "execution_count": 9,
   "metadata": {
    "slideshow": {
     "slide_type": "fragment"
    }
   },
   "outputs": [],
   "source": [
    "data_path = \"./data/PUBG_train_sample.csv\"\n",
    "data_PUBG = pd.read_csv(data_path)"
   ]
  },
  {
   "cell_type": "code",
   "execution_count": 26,
   "metadata": {
    "slideshow": {
     "slide_type": "fragment"
    }
   },
   "outputs": [],
   "source": [
    "q = 0.6\n",
    "break_point = np.quantile(data_PUBG[\"killPoints\"], q=q)\n",
    "data_PUBG[\"is_top_killer\"] = data_PUBG[\"killPoints\"] > break_point"
   ]
  },
  {
   "cell_type": "code",
   "execution_count": 39,
   "metadata": {
    "slideshow": {
     "slide_type": "fragment"
    }
   },
   "outputs": [],
   "source": [
    "sampling_frame = data_PUBG[[\"Id\",\"is_top_killer\"]]"
   ]
  },
  {
   "cell_type": "code",
   "execution_count": 46,
   "metadata": {
    "scrolled": false,
    "slideshow": {
     "slide_type": "subslide"
    }
   },
   "outputs": [],
   "source": [
    "def sample_random(sampling_frame, data= data_PUBG, sample_size=1000):\n",
    "    # tirage dans la base de sondage\n",
    "    sample_random = sampling_frame.sample(sample_size)\n",
    "    # récupération des données dans la population générale\n",
    "    sample_random = sample_random.merge(data_PUBG, on = \"Id\", how=\"left\")\n",
    "    \n",
    "    return sample_random"
   ]
  },
  {
   "cell_type": "code",
   "execution_count": 50,
   "metadata": {
    "slideshow": {
     "slide_type": "fragment"
    }
   },
   "outputs": [
    {
     "data": {
      "text/plain": [
       "589.799"
      ]
     },
     "execution_count": 50,
     "metadata": {},
     "output_type": "execute_result"
    }
   ],
   "source": [
    "data_sample_random = sample_random(sampling_frame)\n",
    "np.mean(data_sample_random[\"winPoints\"])"
   ]
  },
  {
   "cell_type": "code",
   "execution_count": 74,
   "metadata": {
    "slideshow": {
     "slide_type": "subslide"
    }
   },
   "outputs": [],
   "source": [
    "def sample_strates(sampling_frame, data= data_PUBG, sample_size = 1000):\n",
    "    n = len(sampling_frame)\n",
    "\n",
    "    strate_1_bool = sampling_frame[\"is_top_killer\"]\n",
    "    strate_2_bool = sampling_frame[\"is_top_killer\"]==False\n",
    "    \n",
    "    # weight of each strate\n",
    "    weight_1 = sum(strate_1_bool)/n\n",
    "    weight_2 = 1 - weight_1\n",
    "    \n",
    "    # size of the sample for each strate\n",
    "    size_1 = int(sample_size*weight_1)\n",
    "    size_2 = sample_size - size_1\n",
    "\n",
    "    # sample on each strat in proportion\n",
    "    sample_1 = sampling_frame[strate_1_bool].sample(size_1)\n",
    "    sample_2 = sampling_frame[strate_2_bool].sample(size_2)\n",
    "\n",
    "    # concatenate samples\n",
    "    sample_strates = pd.concat([sample_1,sample_2])\n",
    "    sample_strates = sample_strates.merge(data_PUBG, on = \"Id\", how=\"left\")\n",
    "    \n",
    "    return sample_strates"
   ]
  },
  {
   "cell_type": "code",
   "execution_count": 76,
   "metadata": {
    "slideshow": {
     "slide_type": "subslide"
    }
   },
   "outputs": [
    {
     "data": {
      "text/plain": [
       "600.502"
      ]
     },
     "execution_count": 76,
     "metadata": {},
     "output_type": "execute_result"
    }
   ],
   "source": [
    "data_sample_strates = sample_strates(sampling_frame)\n",
    "np.mean(data_sample_strates[\"winPoints\"])"
   ]
  },
  {
   "cell_type": "markdown",
   "metadata": {
    "slideshow": {
     "slide_type": "subslide"
    }
   },
   "source": [
    "Comparaison des résultats"
   ]
  },
  {
   "cell_type": "code",
   "execution_count": 78,
   "metadata": {
    "slideshow": {
     "slide_type": "fragment"
    }
   },
   "outputs": [
    {
     "data": {
      "text/plain": [
       "12.94380000000001"
      ]
     },
     "execution_count": 78,
     "metadata": {},
     "output_type": "execute_result"
    }
   ],
   "source": [
    "np.mean(data_PUBG[\"winPoints\"]) - np.mean(data_sample_random[\"winPoints\"])"
   ]
  },
  {
   "cell_type": "code",
   "execution_count": 79,
   "metadata": {
    "slideshow": {
     "slide_type": "fragment"
    }
   },
   "outputs": [
    {
     "data": {
      "text/plain": [
       "2.2408000000000357"
      ]
     },
     "execution_count": 79,
     "metadata": {},
     "output_type": "execute_result"
    }
   ],
   "source": [
    "np.mean(data_PUBG[\"winPoints\"]) - np.mean(data_sample_strates[\"winPoints\"])"
   ]
  },
  {
   "cell_type": "markdown",
   "metadata": {
    "slideshow": {
     "slide_type": "subslide"
    }
   },
   "source": [
    "# Collecte des données (si besoin)"
   ]
  },
  {
   "cell_type": "markdown",
   "metadata": {
    "slideshow": {
     "slide_type": "fragment"
    }
   },
   "source": [
    "Si les données doivent être collectées auprès de tiers ou sont le résultat d'un questionnaires quelques problèmes peuvent se poser :\n",
    "* les non réponses ;\n",
    "* les formats hétérogènes ;\n",
    "* les réponses erronées.\n",
    "\n",
    "Pour minimiser les risques de rencontrer ces difficultés quelques principes peuvent être suivis."
   ]
  },
  {
   "cell_type": "markdown",
   "metadata": {
    "slideshow": {
     "slide_type": "subslide"
    }
   },
   "source": [
    "__Sensibilisation des interlocuteurs__\n",
    "\n",
    "La qualité des données et de l'échantillon dépend souvent d'autres acteurs : personnes enquêtées, celles qui trasmettent les données etc. La sensibilitation de ces acteurs est essentielle. \n",
    "\n",
    "Expliquer les pourquoi et comment du projet, les objectifs, les résultats attendus permettra d'abord de montrer à votre interlocuteur que vous le considérer comme un être humain (et pas seulement un moyen). Ensuite cela permettra de montrer pourquoi les informations demandées sont importantes, quelles sont les retombées positives attendues, etc.\n",
    "\n",
    "_Plus les autres acteurs sont impliqués plus vous serez susceptibles d'avoir des réponses et des réponses de qualité._"
   ]
  },
  {
   "cell_type": "markdown",
   "metadata": {
    "slideshow": {
     "slide_type": "subslide"
    }
   },
   "source": [
    "__Préparation du questionnaire ou formulation de la demande de données__\n",
    "\n",
    "En général c'est une bonne idée de se faire aider par un.e professionnel.le lorsque l'on rédige un question et de le préparer avec soin pour être sûr que les informations demandées sont nécessaires et suffisantes à l'objectif du projet.\n",
    "\n",
    "\n",
    "__Quelques principes pour un questionnaire__. Les questions doivent :\n",
    "* être claires (univalentes)\n",
    "* être courtes\n",
    "* répondre à but précis\n",
    "* le moins nombreuses possibles"
   ]
  },
  {
   "cell_type": "markdown",
   "metadata": {
    "slideshow": {
     "slide_type": "fragment"
    }
   },
   "source": [
    "#### Prévoir des remplaçants en cas de non réponse\n",
    "\n",
    "Pour éviter d'avoir un volume bien moins important à l'arrivée que celui recherché, il est possible de prévoir des remplçants. Si un individu ne répond pas, un autre aux caractéristiques similaires aura déjà été choisi pour le remplacer"
   ]
  },
  {
   "cell_type": "markdown",
   "metadata": {
    "slideshow": {
     "slide_type": "slide"
    }
   },
   "source": [
    "# Traitement des données - le boostrapping"
   ]
  },
  {
   "cell_type": "markdown",
   "metadata": {
    "slideshow": {
     "slide_type": "subslide"
    }
   },
   "source": [
    "__Le principe du boostrap__\n",
    "\n",
    "<img src=\"./images/sample_bootstrap.png\" width=\"400\">\n",
    "\n"
   ]
  },
  {
   "cell_type": "markdown",
   "metadata": {
    "slideshow": {
     "slide_type": "subslide"
    }
   },
   "source": [
    "_Problème_\n",
    "\n",
    "Dans l'idéal on souhaite tirer un grand nombre d'échantillons pour :\n",
    "* estimer un intervalle de confiance des résultats (calcul de moyenne, modèle, etc.) de manière empirique ;\n",
    "* vérifier la stabilité de résultats ;\n",
    "* améliorer des algorithmes en utilisant la technique du bagging (sous certaines conditions), comme dans le random forest.\n",
    "\n",
    "Le problème est qu'il est parfois coûteux voire impossible de tirer plusieurs échantillons.\n",
    "\n"
   ]
  },
  {
   "cell_type": "markdown",
   "metadata": {
    "slideshow": {
     "slide_type": "subslide"
    }
   },
   "source": [
    "_Solution_\n",
    "\n",
    "La solution est de tirer des échantillons, dits bootstrappés, à partir de l'échantillon de départ et non dans l'ensemble des données.\n",
    "\n",
    "Le bootstrap s'effectue en trois étapes : \n",
    "* d'abord on tire $m$ échantillons de même taille $n$ que l'échantillon initial. Les tirages se font avec remises car sinon on obtient $m$ fois le même échantillon ;\n",
    "* ensuite on calcule les résultats sur chacun des sous échantillons ;\n",
    "* enfin on aggrège les résultats (en utilisant la moyenne ou la majorité des résultats dans le cas d'une classification)."
   ]
  },
  {
   "cell_type": "markdown",
   "metadata": {
    "slideshow": {
     "slide_type": "subslide"
    }
   },
   "source": [
    "#### Exemple du calcul d'un intervalle de confiance autour d'une moyenne"
   ]
  },
  {
   "cell_type": "code",
   "execution_count": 309,
   "metadata": {
    "slideshow": {
     "slide_type": "fragment"
    }
   },
   "outputs": [],
   "source": [
    "import numpy as np\n",
    "mean = 0\n",
    "std = 1\n",
    "sample_size = 1000\n",
    "sample = np.random.normal(mean, std, size=sample_size)"
   ]
  },
  {
   "cell_type": "code",
   "execution_count": 310,
   "metadata": {
    "slideshow": {
     "slide_type": "subslide"
    }
   },
   "outputs": [],
   "source": [
    "def bootstrap_mean(sample, boot_size = 1000):\n",
    "    n = len(sample)\n",
    "    mean_boot = []\n",
    "    for ii in range(boot_size) :\n",
    "        sample_boot = np.random.choice(sample, n, replace=True)\n",
    "        mean_boot.append(np.mean(sample_boot))\n",
    "    return mean_boot"
   ]
  },
  {
   "cell_type": "code",
   "execution_count": 311,
   "metadata": {
    "slideshow": {
     "slide_type": "fragment"
    }
   },
   "outputs": [],
   "source": [
    "boot_mean = bootstrap_mean(sample, boot_size = 5000)"
   ]
  },
  {
   "cell_type": "code",
   "execution_count": 313,
   "metadata": {
    "slideshow": {
     "slide_type": "fragment"
    }
   },
   "outputs": [
    {
     "data": {
      "text/plain": [
       "-0.0029865712001975525"
      ]
     },
     "execution_count": 313,
     "metadata": {},
     "output_type": "execute_result"
    }
   ],
   "source": [
    "np.mean(sample)"
   ]
  },
  {
   "cell_type": "code",
   "execution_count": 314,
   "metadata": {
    "scrolled": true,
    "slideshow": {
     "slide_type": "fragment"
    }
   },
   "outputs": [
    {
     "data": {
      "text/plain": [
       "array([-0.064094  ,  0.05952682])"
      ]
     },
     "execution_count": 314,
     "metadata": {},
     "output_type": "execute_result"
    }
   ],
   "source": [
    "np.quantile(boot_mean, q=[0.025,0.975])"
   ]
  },
  {
   "cell_type": "markdown",
   "metadata": {
    "slideshow": {
     "slide_type": "slide"
    }
   },
   "source": [
    "<center> <h1>Take away</h1> </center>\n",
    "\n",
    "<img src=\"./images/coffee.png\" width=\"200\">\n",
    "\n",
    "\n",
    "__Expresso__ : \n",
    "\n",
    "* Il faut de l'aléa pour être représentatif\n",
    "* Plusieurs techniques permettent de trouver un équilibre entre coût de l'échantillonnage et représentativité\n",
    "* La représentativité : la taille ça compte mais ce n'est pas suffisant\n",
    "* La taille de l'échantillon total n'est pas nécessaire pour calculer la taille de l'échantillon cible"
   ]
  },
  {
   "cell_type": "markdown",
   "metadata": {
    "slideshow": {
     "slide_type": "subslide"
    }
   },
   "source": [
    "<center> <h1>Take away</h1> </center>\n",
    "\n",
    "<img src=\"./images/coffee.png\" width=\"200\">\n",
    "\n",
    "__Sugar Story__ :\n",
    "\n",
    "* Biais : sondage Gallup éléction US de 1936 (https://www.lemonde.fr/economie/article/2005/05/27/l-histoire-debute-avec-l-institut-gallup-et-l-election-du-president-roosevelt_654835_3234.html)\n",
    "* Taille de l'échantillon : métaphore de la soupe"
   ]
  },
  {
   "cell_type": "markdown",
   "metadata": {
    "slideshow": {
     "slide_type": "slide"
    }
   },
   "source": [
    "# Get more on my github <img src=\"./images/github.png\" width=\"100\">\n",
    "https://github.com/JJublanc/statistics_tools"
   ]
  },
  {
   "cell_type": "code",
   "execution_count": 22,
   "metadata": {
    "slideshow": {
     "slide_type": "skip"
    }
   },
   "outputs": [],
   "source": [
    "# jupyter nbconvert --to slides sampling.ipynb --post serve "
   ]
  }
 ],
 "metadata": {
  "celltoolbar": "Diaporama",
  "kernelspec": {
   "display_name": "Python 3",
   "language": "python",
   "name": "python3"
  },
  "language_info": {
   "codemirror_mode": {
    "name": "ipython",
    "version": 3
   },
   "file_extension": ".py",
   "mimetype": "text/x-python",
   "name": "python",
   "nbconvert_exporter": "python",
   "pygments_lexer": "ipython3",
   "version": "3.7.1"
  }
 },
 "nbformat": 4,
 "nbformat_minor": 2
}
