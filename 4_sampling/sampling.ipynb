{
 "cells": [
  {
   "cell_type": "markdown",
   "metadata": {
    "slideshow": {
     "slide_type": "slide"
    }
   },
   "source": [
    "# <center> <h1> Echantillonnage </h1> </center>\n",
    "\n",
    "<img src=\"./images/sample.png\" width=\"300\">"
   ]
  },
  {
   "cell_type": "code",
   "execution_count": 2,
   "metadata": {
    "scrolled": true,
    "slideshow": {
     "slide_type": "skip"
    }
   },
   "outputs": [
    {
     "data": {
      "text/html": [
       "        <script type=\"text/javascript\">\n",
       "        window.PlotlyConfig = {MathJaxConfig: 'local'};\n",
       "        if (window.MathJax) {MathJax.Hub.Config({SVG: {font: \"STIX-Web\"}});}\n",
       "        if (typeof require !== 'undefined') {\n",
       "        require.undef(\"plotly\");\n",
       "        requirejs.config({\n",
       "            paths: {\n",
       "                'plotly': ['https://cdn.plot.ly/plotly-latest.min']\n",
       "            }\n",
       "        });\n",
       "        require(['plotly'], function(Plotly) {\n",
       "            window._Plotly = Plotly;\n",
       "        });\n",
       "        }\n",
       "        </script>\n",
       "        "
      ]
     },
     "metadata": {},
     "output_type": "display_data"
    }
   ],
   "source": [
    "get_ipython().magic(u'matplotlib inline')\n",
    "%run -i ./utils/credentials.py\n",
    "%run -i ./utils/imports.py\n",
    "%run -i ./utils/plots.py\n",
    "%run -i ./utils/stats.py"
   ]
  },
  {
   "cell_type": "markdown",
   "metadata": {
    "slideshow": {
     "slide_type": "slide"
    }
   },
   "source": [
    "# Dans ce qui suit on va voir : \n",
    "\n",
    "\n",
    "* ce qu'est un échantillon et dans quels cas échantillonner\n",
    "\n",
    "* des méthodes pour choisir la taille d'un échantillon\n",
    "\n",
    "* des méthodes pour récupérer des données auprès de tierces personnes\n",
    "\n",
    "* des cas d'utilisation d'échantillons bootsrappés\n",
    "\n",
    "* du code pour faire tout ça"
   ]
  },
  {
   "cell_type": "markdown",
   "metadata": {
    "slideshow": {
     "slide_type": "slide"
    }
   },
   "source": [
    "## Définitions\n",
    "L'échantillonnage est un ensemble de techniques permettant d'extraire des individus à partir d'un ensemble. Cette extraction est un __échantillon__.\n",
    "\n",
    "L'ensemble des individus est appelé la __population totale__. Il correspond à l'ensemble des individus réels ou potentiels.\n",
    "\n",
    "L'échantillon tiré doit avoir une caractéristique essentielle : __la représentativité__.\n",
    "Cela signifie que les résultats calculés à partir de l'échantillon doivent être proches de ceux qui seraient obtenus à partir de la population totale."
   ]
  },
  {
   "cell_type": "markdown",
   "metadata": {
    "slideshow": {
     "slide_type": "fragment"
    }
   },
   "source": [
    "Le principe général est de procéder de manière la plus __aléatoire__ possible. Ceci vient du fait que l'aléatoire pur permet d'éviter les biais. C'est donc une condition essentielle pour que l'échantillon soit représentatif de l'ensemble des données."
   ]
  },
  {
   "cell_type": "markdown",
   "metadata": {
    "slideshow": {
     "slide_type": "slide"
    }
   },
   "source": [
    "# Les use-cases"
   ]
  },
  {
   "cell_type": "markdown",
   "metadata": {
    "slideshow": {
     "slide_type": "slide"
    }
   },
   "source": [
    "## A/ Impossible d'utiliser toutes les données"
   ]
  },
  {
   "cell_type": "markdown",
   "metadata": {
    "slideshow": {
     "slide_type": "fragment"
    }
   },
   "source": [
    "Il est parfois impossible ou trop coûteux d'utiliser toutes les données.\n",
    "\n",
    "__Données difficile à rassembler__\n",
    "\n",
    "Les données ne sont pas toujours toutes disponibles : \n",
    "* détruites régulièrement ;\n",
    "* inexistantes ;\n",
    "* complexes et longues à récupérer (stockage décentralisé, formats hétérogènes)\n",
    "\n",
    "__Traitements trop coûteux__\n",
    "\n",
    "Il est parfois très coûteux de traiter les données : \n",
    "* en temps ;\n",
    "* en argent.\n",
    "\n",
    "Dans tous ces cas il peut être utile de procéder à un échantillonnage pour réduire le coût de récupération et de traitement des données."
   ]
  },
  {
   "cell_type": "markdown",
   "metadata": {
    "slideshow": {
     "slide_type": "subslide"
    }
   },
   "source": [
    "<img src=\"./images/warning.png\" width=\"100\">\n",
    "Lorsque l'on peut travailler sur toutes les données c'est toujours mieux !"
   ]
  },
  {
   "cell_type": "markdown",
   "metadata": {
    "slideshow": {
     "slide_type": "slide"
    }
   },
   "source": [
    "## B/ Améliorer ou estimer des performances - bootstrap"
   ]
  },
  {
   "cell_type": "markdown",
   "metadata": {
    "slideshow": {
     "slide_type": "fragment"
    }
   },
   "source": [
    "La technique du boostrap peut être utilisée dans certains cas pour :\n",
    "* améliorer les performances d'un algorithme de machine learning : bagging (boostrap aggregating) ;\n",
    "* estimer des intervalles de confiance et plus généralement la stabilité d'un modèle."
   ]
  },
  {
   "cell_type": "markdown",
   "metadata": {
    "slideshow": {
     "slide_type": "slide"
    }
   },
   "source": [
    "# La base de sondage"
   ]
  },
  {
   "cell_type": "markdown",
   "metadata": {
    "slideshow": {
     "slide_type": "fragment"
    }
   },
   "source": [
    "Pour commencer, il faut une base de sondage, c'est-à-dire un minimum d'informations sur l'ensemble de la population, afin de tirer les individus échantillonnés.\n",
    "\n",
    "__NB__ : La base de sondage ne doit pas être partielle sinon on risque d'avoir un biais de sélection des individus."
   ]
  },
  {
   "cell_type": "markdown",
   "metadata": {
    "slideshow": {
     "slide_type": "slide"
    }
   },
   "source": [
    "# La taille de l'échantillon"
   ]
  },
  {
   "cell_type": "markdown",
   "metadata": {
    "slideshow": {
     "slide_type": "fragment"
    }
   },
   "source": [
    "D'un point de vue statistique, plus on a d'indivdus, mieux c'est. \n",
    "\n",
    "Mais l'échantillonnage a un coût. \n",
    "\n",
    "Il va donc falloire arbitre entre coût et précision des résultats. Pour cela on va estimer la précision que l'on peut espérer pour les résultats qui seront calculés grâce à l'échantillon."
   ]
  },
  {
   "cell_type": "markdown",
   "metadata": {
    "slideshow": {
     "slide_type": "subslide"
    }
   },
   "source": [
    "##### Exemple : calcul d'un taux pour un tirage aléatoire simple\n",
    "\n",
    "On souhaite par exemple calculer le taux de clics pour les visiteurs de notre site. Soient $X = (X_1,...,X_n)$ les variables aléatoires i.i.d représentant les $n$ visiteurs de notre échantillon. On considère que tous les visiteurs ont une probabilité de cliquer valant $p$. \n",
    "\n",
    "\n",
    "On a donc que :\n",
    "* la probabilité qu'un visteur $i$ clique, $P(X_i=1)$, est $p$ ;\n",
    "* et la probabilité qu'il ne clique pas, $P(X_i=0)$, est $(1-p)$. \n",
    "\n",
    "Autrement dit on $$\\forall i, X_i \\sim \\mathcal{B}(p)$$\n",
    "\n",
    "Le taux de clic de notre échantillon est la moyenne des $X_i$ notée $\\bar{X}$"
   ]
  },
  {
   "cell_type": "markdown",
   "metadata": {
    "slideshow": {
     "slide_type": "fragment"
    }
   },
   "source": [
    "Lorsque l'on calcule une moyenne empirique sur un échantillon, la valeur s'écarte de la _vraie valeur_ (sur l'ensemble de la population ou théorique). Ce que l'on cherche à prévoir ici c'est de combien on risque de se tromper pour une taille d'échantillon donnée.\n",
    "Pour cela on utilise (encore) le théorème central limite :\n",
    "\n",
    "$$ \\frac{\\bar{X} - \\mu}{\\sqrt{\\frac{\\sigma^2}{n}}} \\rightarrow \\mathcal{N}\\Big(0, 1\\big)$$\n",
    "\n",
    "Qui est équivalent à :\n",
    "\n",
    "$$ \\bar{X} - \\mu \\rightarrow \\mathcal{N}\\Big(0, \\sqrt{\\frac{\\sigma^2}{n}} \\Big)$$"
   ]
  },
  {
   "cell_type": "markdown",
   "metadata": {
    "slideshow": {
     "slide_type": "subslide"
    }
   },
   "source": [
    "Dans notre cas, comme on a $\\forall i, X_i \\sim \\mathcal{B}(p)$, on sait que la variance $\\sigma^2$ vaut $p(1-p)$.\n",
    "\n",
    "Pour chaque valeur de $n$ on peut donc calculer un intervalle de confiance, à $95$% par exemple, de l'erreur que l'on fera. A 95%, l'intervalle de confiance d'une variable aléatoire suivant une loi $\\mathcal{N}\\big(0, 1\\big)$ est $[-1,96 ; 1,96]$. \n",
    "\n",
    "Dans 95% des cas on aura donc : \n",
    "\n",
    "$$ \\frac{|\\bar{X} - p|}{\\sqrt{\\frac{p(1-p)}{n}}} \\leq 1,96$$\n",
    "$$ \\iff n \\geq 1.96^2 \\times \\frac{p(1-p)}{(\\bar{X} - p)^2}$$"
   ]
  },
  {
   "cell_type": "markdown",
   "metadata": {
    "slideshow": {
     "slide_type": "fragment"
    }
   },
   "source": [
    "Si on veut avoir une erreur $|\\bar{X}-p|$ plus petite qu'une valeur $e$ dans 95% des cas, il faut avoir une taille d'échantillon $n$ suffisamment grande.\n",
    "\n",
    "$$ |\\bar{X} - p|<e$$\n",
    "$$ \\Rightarrow n \\geq 1.96^2 \\times \\frac{p(1-p)}{(e)^2}$$"
   ]
  },
  {
   "cell_type": "code",
   "execution_count": 7,
   "metadata": {
    "slideshow": {
     "slide_type": "subslide"
    }
   },
   "outputs": [],
   "source": [
    "def n_size_proportion(p,e,i=0.95):\n",
    "\n",
    "    # mu : hypothèse sur la valeur réelle\n",
    "    # e : erreur moyenne(X) - mu // l'écart entre la moyenne et mu sera de +/- e \n",
    "    # i : intervalle de confiance\n",
    "    \n",
    "    ii = 1 - (1 - i)/2\n",
    "    \n",
    "    ppf = norm.ppf(ii) # pour i = 95%, la valeur est de 1,96\n",
    "    \n",
    "    n = (ppf**2)*(p*(1-p))/((e)**2)\n",
    "    \n",
    "    return n"
   ]
  },
  {
   "cell_type": "code",
   "execution_count": 8,
   "metadata": {
    "slideshow": {
     "slide_type": "subslide"
    }
   },
   "outputs": [
    {
     "data": {
      "text/plain": [
       "384.14588206941244"
      ]
     },
     "execution_count": 8,
     "metadata": {},
     "output_type": "execute_result"
    }
   ],
   "source": [
    "n_size_proportion(0.5,0.05,i=0.95)"
   ]
  },
  {
   "cell_type": "code",
   "execution_count": 9,
   "metadata": {
    "slideshow": {
     "slide_type": "skip"
    }
   },
   "outputs": [],
   "source": [
    "columns = []\n",
    "for pp in range(1,10):\n",
    "    columns.append(\"p:{}%\".format(pp*10))\n",
    "index = []\n",
    "for ee in range(1,10):\n",
    "    index.append(\"error:{}%\".format(ee))\n"
   ]
  },
  {
   "cell_type": "code",
   "execution_count": 10,
   "metadata": {
    "slideshow": {
     "slide_type": "skip"
    }
   },
   "outputs": [],
   "source": [
    "import pandas as pd\n",
    "matrix = []\n",
    "for ee in range(1,10):\n",
    "    line = []\n",
    "    for pp in range(1,10):\n",
    "         line.append(n_size_proportion(pp/10, ee/100, 0.95))\n",
    "    matrix.append(line)"
   ]
  },
  {
   "cell_type": "code",
   "execution_count": 11,
   "metadata": {
    "slideshow": {
     "slide_type": "skip"
    }
   },
   "outputs": [],
   "source": [
    "table = pd.DataFrame(matrix,columns=columns, index=index)"
   ]
  },
  {
   "cell_type": "code",
   "execution_count": 12,
   "metadata": {
    "slideshow": {
     "slide_type": "skip"
    }
   },
   "outputs": [],
   "source": [
    "table.to_csv('./table_echantillon')"
   ]
  },
  {
   "cell_type": "code",
   "execution_count": 13,
   "metadata": {
    "slideshow": {
     "slide_type": "subslide"
    }
   },
   "outputs": [
    {
     "data": {
      "text/html": [
       "<div>\n",
       "<style scoped>\n",
       "    .dataframe tbody tr th:only-of-type {\n",
       "        vertical-align: middle;\n",
       "    }\n",
       "\n",
       "    .dataframe tbody tr th {\n",
       "        vertical-align: top;\n",
       "    }\n",
       "\n",
       "    .dataframe thead th {\n",
       "        text-align: right;\n",
       "    }\n",
       "</style>\n",
       "<table border=\"1\" class=\"dataframe\">\n",
       "  <thead>\n",
       "    <tr style=\"text-align: right;\">\n",
       "      <th></th>\n",
       "      <th>p:10%</th>\n",
       "      <th>p:20%</th>\n",
       "      <th>p:30%</th>\n",
       "      <th>p:40%</th>\n",
       "      <th>p:50%</th>\n",
       "      <th>p:60%</th>\n",
       "      <th>p:70%</th>\n",
       "      <th>p:80%</th>\n",
       "      <th>p:90%</th>\n",
       "    </tr>\n",
       "  </thead>\n",
       "  <tbody>\n",
       "    <tr>\n",
       "      <th>error:1%</th>\n",
       "      <td>3457.312939</td>\n",
       "      <td>6146.334113</td>\n",
       "      <td>8067.063523</td>\n",
       "      <td>9219.501170</td>\n",
       "      <td>9603.647052</td>\n",
       "      <td>9219.501170</td>\n",
       "      <td>8067.063523</td>\n",
       "      <td>6146.334113</td>\n",
       "      <td>3457.312939</td>\n",
       "    </tr>\n",
       "    <tr>\n",
       "      <th>error:2%</th>\n",
       "      <td>864.328235</td>\n",
       "      <td>1536.583528</td>\n",
       "      <td>2016.765881</td>\n",
       "      <td>2304.875292</td>\n",
       "      <td>2400.911763</td>\n",
       "      <td>2304.875292</td>\n",
       "      <td>2016.765881</td>\n",
       "      <td>1536.583528</td>\n",
       "      <td>864.328235</td>\n",
       "    </tr>\n",
       "    <tr>\n",
       "      <th>error:3%</th>\n",
       "      <td>384.145882</td>\n",
       "      <td>682.926013</td>\n",
       "      <td>896.340391</td>\n",
       "      <td>1024.389019</td>\n",
       "      <td>1067.071895</td>\n",
       "      <td>1024.389019</td>\n",
       "      <td>896.340391</td>\n",
       "      <td>682.926013</td>\n",
       "      <td>384.145882</td>\n",
       "    </tr>\n",
       "    <tr>\n",
       "      <th>error:4%</th>\n",
       "      <td>216.082059</td>\n",
       "      <td>384.145882</td>\n",
       "      <td>504.191470</td>\n",
       "      <td>576.218823</td>\n",
       "      <td>600.227941</td>\n",
       "      <td>576.218823</td>\n",
       "      <td>504.191470</td>\n",
       "      <td>384.145882</td>\n",
       "      <td>216.082059</td>\n",
       "    </tr>\n",
       "    <tr>\n",
       "      <th>error:5%</th>\n",
       "      <td>138.292518</td>\n",
       "      <td>245.853365</td>\n",
       "      <td>322.682541</td>\n",
       "      <td>368.780047</td>\n",
       "      <td>384.145882</td>\n",
       "      <td>368.780047</td>\n",
       "      <td>322.682541</td>\n",
       "      <td>245.853365</td>\n",
       "      <td>138.292518</td>\n",
       "    </tr>\n",
       "    <tr>\n",
       "      <th>error:6%</th>\n",
       "      <td>96.036471</td>\n",
       "      <td>170.731503</td>\n",
       "      <td>224.085098</td>\n",
       "      <td>256.097255</td>\n",
       "      <td>266.767974</td>\n",
       "      <td>256.097255</td>\n",
       "      <td>224.085098</td>\n",
       "      <td>170.731503</td>\n",
       "      <td>96.036471</td>\n",
       "    </tr>\n",
       "    <tr>\n",
       "      <th>error:7%</th>\n",
       "      <td>70.557407</td>\n",
       "      <td>125.435390</td>\n",
       "      <td>164.633949</td>\n",
       "      <td>188.153085</td>\n",
       "      <td>195.992797</td>\n",
       "      <td>188.153085</td>\n",
       "      <td>164.633949</td>\n",
       "      <td>125.435390</td>\n",
       "      <td>70.557407</td>\n",
       "    </tr>\n",
       "    <tr>\n",
       "      <th>error:8%</th>\n",
       "      <td>54.020515</td>\n",
       "      <td>96.036471</td>\n",
       "      <td>126.047868</td>\n",
       "      <td>144.054706</td>\n",
       "      <td>150.056985</td>\n",
       "      <td>144.054706</td>\n",
       "      <td>126.047868</td>\n",
       "      <td>96.036471</td>\n",
       "      <td>54.020515</td>\n",
       "    </tr>\n",
       "    <tr>\n",
       "      <th>error:9%</th>\n",
       "      <td>42.682876</td>\n",
       "      <td>75.880668</td>\n",
       "      <td>99.593377</td>\n",
       "      <td>113.821002</td>\n",
       "      <td>118.563544</td>\n",
       "      <td>113.821002</td>\n",
       "      <td>99.593377</td>\n",
       "      <td>75.880668</td>\n",
       "      <td>42.682876</td>\n",
       "    </tr>\n",
       "  </tbody>\n",
       "</table>\n",
       "</div>"
      ],
      "text/plain": [
       "                p:10%        p:20%        p:30%        p:40%        p:50%  \\\n",
       "error:1%  3457.312939  6146.334113  8067.063523  9219.501170  9603.647052   \n",
       "error:2%   864.328235  1536.583528  2016.765881  2304.875292  2400.911763   \n",
       "error:3%   384.145882   682.926013   896.340391  1024.389019  1067.071895   \n",
       "error:4%   216.082059   384.145882   504.191470   576.218823   600.227941   \n",
       "error:5%   138.292518   245.853365   322.682541   368.780047   384.145882   \n",
       "error:6%    96.036471   170.731503   224.085098   256.097255   266.767974   \n",
       "error:7%    70.557407   125.435390   164.633949   188.153085   195.992797   \n",
       "error:8%    54.020515    96.036471   126.047868   144.054706   150.056985   \n",
       "error:9%    42.682876    75.880668    99.593377   113.821002   118.563544   \n",
       "\n",
       "                p:60%        p:70%        p:80%        p:90%  \n",
       "error:1%  9219.501170  8067.063523  6146.334113  3457.312939  \n",
       "error:2%  2304.875292  2016.765881  1536.583528   864.328235  \n",
       "error:3%  1024.389019   896.340391   682.926013   384.145882  \n",
       "error:4%   576.218823   504.191470   384.145882   216.082059  \n",
       "error:5%   368.780047   322.682541   245.853365   138.292518  \n",
       "error:6%   256.097255   224.085098   170.731503    96.036471  \n",
       "error:7%   188.153085   164.633949   125.435390    70.557407  \n",
       "error:8%   144.054706   126.047868    96.036471    54.020515  \n",
       "error:9%   113.821002    99.593377    75.880668    42.682876  "
      ]
     },
     "execution_count": 13,
     "metadata": {},
     "output_type": "execute_result"
    }
   ],
   "source": [
    "table"
   ]
  },
  {
   "cell_type": "markdown",
   "metadata": {
    "slideshow": {
     "slide_type": "slide"
    }
   },
   "source": [
    "# Les techniques d'échantillonnage"
   ]
  },
  {
   "cell_type": "markdown",
   "metadata": {
    "slideshow": {
     "slide_type": "fragment"
    }
   },
   "source": [
    "Le tirage aléatoire simple est une technique qui doit toujours fonctionner en principe. Mais s'il n'existe pas de bon arbitrage entre taille et coût on peut envisager d'autres solutions."
   ]
  },
  {
   "cell_type": "markdown",
   "metadata": {
    "slideshow": {
     "slide_type": "subslide"
    }
   },
   "source": [
    "__Le tirage aléatiore simple__\n",
    "\n",
    "<img src=\"./images/sample.png\" width=\"400\">\n",
    "\n",
    "Cette méthode est la plus simple et permet une bonne représentation non biaisée de l'ensemble des données, à condition d'avoir un échantillon de taille suffisante.\n",
    "\n",
    "Nous avons vu plus haut comment calculer la taille de l'échantillon dans ce cas."
   ]
  },
  {
   "cell_type": "markdown",
   "metadata": {
    "slideshow": {
     "slide_type": "subslide"
    }
   },
   "source": [
    "__L'échantillonnage par strate__\n",
    "\n",
    "<img src=\"./images/sample_strates.png\" width=\"400\">\n",
    "\n",
    "_Principe_\n",
    "\n",
    "Le principe d'un tirage par strate est de réaliser un tirage aléatoire au sein de sous-groupe de population plus homogène afin d'améliorer la précision des résultats.\n",
    "\n",
    "_Méthode_\n",
    "\n",
    "* __On divise la population en strates__ : Les strates doivent constituer une partition des données, c'est-à-dire que chaque individu appartient à une et une seule strate.\n",
    "\n",
    "* __On calcule le poids de chaque strate__ : pour chaque strate on calcule le rapport du nombre d'individus dans la strate sur la taille de la population totale.\n",
    "\n",
    "* __On réalise un tirage aléatoire par strate__ : le tirage aléatoire au sein de chaque strat est réalisé en proportion de la strat dans la population totale."
   ]
  },
  {
   "cell_type": "markdown",
   "metadata": {},
   "source": [
    "__L'échantillonnage par strate__\n",
    "\n",
    "<img src=\"./images/sample_strates.png\" width=\"400\">\n",
    "\n",
    "_Avantages_\n",
    "\n",
    "Cette méthode est meilleure qu'un tirage aléatoire simple (au sens de la variance de la variable observée) si la variance intra-strate est faible.\n",
    "\n",
    "_Limites_\n",
    "\n",
    "Cette méthode nécessite que les informations de la base de sondage soient suffisantes pour regrouper les individus selon des caractéristiques __pertinentes__, c'est-à-dire permettant de créer des groupes homogènes. Cela ne sert _a priori_ à rien de regrouper les individus en fonction de la valeur du dernier chiffre de leur numéro de téléphone.\n",
    "\n",
    "_Exemple_\n",
    "\n",
    "Si l'on souhaite calculer le revenu moyen des franciliens et si on dispose d'une base de sondage avec les CSP de tous les habitants d'Ile de France, on peut réaliser un échantillonnage stratifié sur la csp."
   ]
  },
  {
   "cell_type": "markdown",
   "metadata": {
    "slideshow": {
     "slide_type": "subslide"
    }
   },
   "source": [
    "__L'échantillonnage par grappe__\n",
    "\n",
    "<img src=\"./images/sample_cluster.png\" width=\"400\">\n",
    "\n",
    "_Principe_\n",
    "\n",
    "L'échantillonnage par grappe consiste à réaliser un tirage aléatoire de groupes d'individus et de retenir dans l'échantillon tous les individus des groupes échantillonnés.\n",
    "\n",
    "_Exemple_\n",
    "\n",
    "Par exemple pour obtenir des information sur des logements sociaux il est efficace de tirer de manière aléatoire des bailleurs sociaux (il est couteux de leur demander de données) et de récupérer les données pour tous leurs logements (extraire pour 1 ou 1000 logements revient au même).\n",
    "\n",
    "_Avantage/limtes_\n",
    "\n",
    "Cette méthode est moins bonne mais a l'avantage d'être parfois très économique.\n",
    "\n",
    "_Remarque_\n",
    "\n",
    "Le principe est de faire porter le tirage aléatoire sur l'étape la plus coûteuse."
   ]
  },
  {
   "cell_type": "markdown",
   "metadata": {
    "slideshow": {
     "slide_type": "subslide"
    }
   },
   "source": [
    "__Les quotas__\n",
    "\n",
    "<img src=\"./images/sample_quota.png\" width=\"400\">\n",
    "\n",
    "On __choisit__ des individus dans une liste en fonction de leurs caractéristiques pour coller aux caractéristiques principales de l'ensemble des données (population générale).\n",
    "\n",
    "Cette méthode introduit plusieurs biais :\n",
    "* les mêmes personnes sont souvent interrogées (il est moins cher d'interroger des meilleurs répondants) ;\n",
    "* souvent peu d'individus représentent toutes leur catégorie.\n",
    "\n",
    "La méthode des quotas présente également l'incovénient d'empêcher de calculer sérieuseument les erreurs que l'on va avoir sur les résultats."
   ]
  },
  {
   "cell_type": "markdown",
   "metadata": {
    "slideshow": {
     "slide_type": "subslide"
    }
   },
   "source": [
    "__Techniques combinées__\n",
    "\n",
    "Il est possible de combiner des méthodes d'échantillonnage, par exemple en réalisant un tirage stratifié comme première étape d'un tirage par grappe."
   ]
  },
  {
   "cell_type": "markdown",
   "metadata": {
    "slideshow": {
     "slide_type": "slide"
    }
   },
   "source": [
    "### Cas pratique : comparaison d'un tirage aléatoire simple et d'un tirage stratifié"
   ]
  },
  {
   "cell_type": "code",
   "execution_count": 9,
   "metadata": {
    "slideshow": {
     "slide_type": "fragment"
    }
   },
   "outputs": [],
   "source": [
    "data_path = \"./data/PUBG_train_sample.csv\"\n",
    "data_PUBG = pd.read_csv(data_path)"
   ]
  },
  {
   "cell_type": "code",
   "execution_count": 26,
   "metadata": {
    "slideshow": {
     "slide_type": "fragment"
    }
   },
   "outputs": [],
   "source": [
    "q = 0.6\n",
    "break_point = np.quantile(data_PUBG[\"killPoints\"], q=q)\n",
    "data_PUBG[\"is_top_killer\"] = data_PUBG[\"killPoints\"] > break_point"
   ]
  },
  {
   "cell_type": "code",
   "execution_count": 39,
   "metadata": {
    "slideshow": {
     "slide_type": "fragment"
    }
   },
   "outputs": [],
   "source": [
    "sampling_frame = data_PUBG[[\"Id\",\"is_top_killer\"]]"
   ]
  },
  {
   "cell_type": "code",
   "execution_count": 46,
   "metadata": {
    "scrolled": false,
    "slideshow": {
     "slide_type": "subslide"
    }
   },
   "outputs": [],
   "source": [
    "def sample_random(sampling_frame, data= data_PUBG, sample_size=1000):\n",
    "    # tirage dans la base de sondage\n",
    "    sample_random = sampling_frame.sample(sample_size)\n",
    "    # récupération des données dans la population générale\n",
    "    sample_random = sample_random.merge(data_PUBG, on = \"Id\", how=\"left\")\n",
    "    \n",
    "    return sample_random"
   ]
  },
  {
   "cell_type": "code",
   "execution_count": 50,
   "metadata": {
    "slideshow": {
     "slide_type": "fragment"
    }
   },
   "outputs": [
    {
     "data": {
      "text/plain": [
       "589.799"
      ]
     },
     "execution_count": 50,
     "metadata": {},
     "output_type": "execute_result"
    }
   ],
   "source": [
    "data_sample_random = sample_random(sampling_frame)\n",
    "np.mean(data_sample_random[\"winPoints\"])"
   ]
  },
  {
   "cell_type": "code",
   "execution_count": 74,
   "metadata": {
    "slideshow": {
     "slide_type": "subslide"
    }
   },
   "outputs": [],
   "source": [
    "def sample_strates(sampling_frame, data= data_PUBG, sample_size = 1000):\n",
    "    n = len(sampling_frame)\n",
    "\n",
    "    strate_1_bool = sampling_frame[\"is_top_killer\"]\n",
    "    strate_2_bool = sampling_frame[\"is_top_killer\"]==False\n",
    "    \n",
    "    # weight of each strate\n",
    "    weight_1 = sum(strate_1_bool)/n\n",
    "    weight_2 = 1 - weight_1\n",
    "    \n",
    "    # size of the sample for each strate\n",
    "    size_1 = int(sample_size*weight_1)\n",
    "    size_2 = sample_size - size_1\n",
    "\n",
    "    # sample on each strat in proportion\n",
    "    sample_1 = sampling_frame[strate_1_bool].sample(size_1)\n",
    "    sample_2 = sampling_frame[strate_2_bool].sample(size_2)\n",
    "\n",
    "    # concatenate samples\n",
    "    sample_strates = pd.concat([sample_1,sample_2])\n",
    "    sample_strates = sample_strates.merge(data_PUBG, on = \"Id\", how=\"left\")\n",
    "    \n",
    "    return sample_strates"
   ]
  },
  {
   "cell_type": "code",
   "execution_count": 76,
   "metadata": {
    "slideshow": {
     "slide_type": "subslide"
    }
   },
   "outputs": [
    {
     "data": {
      "text/plain": [
       "600.502"
      ]
     },
     "execution_count": 76,
     "metadata": {},
     "output_type": "execute_result"
    }
   ],
   "source": [
    "data_sample_strates = sample_strates(sampling_frame)\n",
    "np.mean(data_sample_strates[\"winPoints\"])"
   ]
  },
  {
   "cell_type": "markdown",
   "metadata": {
    "slideshow": {
     "slide_type": "subslide"
    }
   },
   "source": [
    "Comparaison des résultats"
   ]
  },
  {
   "cell_type": "code",
   "execution_count": 78,
   "metadata": {
    "slideshow": {
     "slide_type": "fragment"
    }
   },
   "outputs": [
    {
     "data": {
      "text/plain": [
       "12.94380000000001"
      ]
     },
     "execution_count": 78,
     "metadata": {},
     "output_type": "execute_result"
    }
   ],
   "source": [
    "np.mean(data_PUBG[\"winPoints\"]) - np.mean(data_sample_random[\"winPoints\"])"
   ]
  },
  {
   "cell_type": "code",
   "execution_count": 79,
   "metadata": {
    "slideshow": {
     "slide_type": "fragment"
    }
   },
   "outputs": [
    {
     "data": {
      "text/plain": [
       "2.2408000000000357"
      ]
     },
     "execution_count": 79,
     "metadata": {},
     "output_type": "execute_result"
    }
   ],
   "source": [
    "np.mean(data_PUBG[\"winPoints\"]) - np.mean(data_sample_strates[\"winPoints\"])"
   ]
  },
  {
   "cell_type": "markdown",
   "metadata": {
    "slideshow": {
     "slide_type": "subslide"
    }
   },
   "source": [
    "# Collecte des données (si besoin)"
   ]
  },
  {
   "cell_type": "markdown",
   "metadata": {
    "slideshow": {
     "slide_type": "fragment"
    }
   },
   "source": [
    "Si les données doivent être collectées auprès de tiers ou sont le résultat d'un questionnaires quelques problèmes peuvent se poser :\n",
    "* les non réponses ;\n",
    "* les formats hétérogènes ;\n",
    "* les réponses erronées.\n",
    "\n",
    "Pour minimiser les risques de rencontrer ces difficultés quelques principes peuvent être suivis."
   ]
  },
  {
   "cell_type": "markdown",
   "metadata": {
    "slideshow": {
     "slide_type": "subslide"
    }
   },
   "source": [
    "__Sensibilisation des interlocuteurs__\n",
    "\n",
    "La qualité des données et de l'échantillon dépend souvent d'autres acteurs : personnes enquêtées, celles qui trasmettent les données etc. La sensibilitation de ces acteurs est essentielle. \n",
    "\n",
    "Expliquer les pourquoi et comment du projet, les objectifs, les résultats attendus permettra d'abord de montrer à votre interlocuteur que vous le considérer comme un être humain (et pas seulement un moyen). Ensuite, cela permettra de montrer pourquoi les informations demandées sont importantes, quelles sont les retombées positives attendues, etc.\n",
    "\n",
    "_Plus les autres acteurs sont impliqués plus vous serez susceptibles d'avoir des réponses et des réponses de qualité._"
   ]
  },
  {
   "cell_type": "markdown",
   "metadata": {
    "slideshow": {
     "slide_type": "subslide"
    }
   },
   "source": [
    "__Préparation d'un questionnaire__\n",
    "\n",
    "En général c'est une bonne idée de se faire aider par un.e professionnel.le lorsque l'on rédige un question et de le préparer avec soin pour être sûr que les informations demandées sont nécessaires et suffisantes à l'objectif du projet.\n",
    "\n",
    "_A/ Prévoir une phase d'entretiens qualitatifs_. \n",
    "\n",
    "Ces entretiens doivent permettre d'établir des hypothèse que le questionnaire à proprement parler va chercher à vérifier.\n",
    "\n",
    "_B/ Appliquer quelques principes pour un questionnaire_. \n",
    "\n",
    "Les questions doivent :\n",
    "* être claires (univalentes)\n",
    "* être courtes\n",
    "* répondre à but précis\n",
    "* le moins nombreuses possibles\n",
    "\n",
    "Il peut être utile de garder des questions ouvertes pour explorer le sujet sans oeillères, mais en petit nombre."
   ]
  },
  {
   "cell_type": "markdown",
   "metadata": {},
   "source": [
    "__Formulation de la demande de données__\n",
    "\n",
    "Faire une demande pertinente nécessite souvent de la \"jouer fine\". Vous aller demander à vos interlocuteurs de réaliser un travail : \n",
    "* qui souvent n'est pas valorisé ;\n",
    "* qui leur nécessite du temps ;\n",
    "* qui dépasse leurs compétences ;\n",
    "* qu'il ne veulent pas faire car ils veulent que votre projet capote.\n",
    "\n",
    "_Tips_\n",
    "\n",
    "Pour réaliser une demande de données, il est parfois crucial de comprendre le contexte institutionnel, de connaître les actions possibles en cas de non réponse ou de refus. Il peut être aussi très utile d'avoir des \"alliés\" qui vont vous mettre au parfum et appuyer votre demande.\n",
    "\n",
    "_Relances_\n",
    "\n",
    "Les délais doivent être clairs et fixes et des rappels doivent être réalisés suffisamment tôt pour que l'interlocuteur ait le temps de répondre dans les temps.\n",
    "\n",
    "La fréquence et l'intensité des relances dépend largement du contexte."
   ]
  },
  {
   "cell_type": "markdown",
   "metadata": {
    "slideshow": {
     "slide_type": "fragment"
    }
   },
   "source": [
    "#### Prévoir des remplaçants en cas de non réponse\n",
    "\n",
    "Pour éviter d'avoir un volume bien moins important à l'arrivée que celui recherché, il est possible de prévoir des remplçants. Si un individu ne répond pas, un autre aux caractéristiques similaires aura déjà été choisi pour le remplacer"
   ]
  },
  {
   "cell_type": "markdown",
   "metadata": {
    "slideshow": {
     "slide_type": "slide"
    }
   },
   "source": [
    "# Traitement des données - le boostrapping"
   ]
  },
  {
   "cell_type": "markdown",
   "metadata": {
    "slideshow": {
     "slide_type": "subslide"
    }
   },
   "source": [
    "__Le principe du boostrap__\n",
    "\n",
    "<img src=\"./images/sample_bootstrap.png\" width=\"400\">\n",
    "\n"
   ]
  },
  {
   "cell_type": "markdown",
   "metadata": {
    "slideshow": {
     "slide_type": "subslide"
    }
   },
   "source": [
    "_Problème_\n",
    "\n",
    "Dans l'idéal on souhaite tirer un grand nombre d'échantillons pour :\n",
    "* estimer un intervalle de confiance des résultats (calcul de moyenne, modèle, etc.) de manière empirique ;\n",
    "* vérifier la stabilité de résultats ;\n",
    "* améliorer des algorithmes en utilisant la technique du bagging (sous certaines conditions), comme dans le random forest.\n",
    "\n",
    "Le problème est qu'il est parfois coûteux voire impossible de tirer plusieurs échantillons.\n",
    "\n"
   ]
  },
  {
   "cell_type": "markdown",
   "metadata": {
    "slideshow": {
     "slide_type": "subslide"
    }
   },
   "source": [
    "_Solution_\n",
    "\n",
    "La solution est de tirer des échantillons, dits bootstrappés, à partir de l'échantillon de départ.\n",
    "\n",
    "Le bootstrap s'effectue en trois étapes : \n",
    "* 1/ d'abord on tire, __de manière aléatoire et avec remise__ $m$ échantillons de même taille $n$ que l'échantillon initial ;\n",
    "* 2/ ensuite on calcule les résultats sur chacun des échantillons bootstrappés ;\n",
    "* 3/ enfin on réalise le traitement (aggrègation des résultats ou calcul de l'intervalle).\n",
    "\n",
    "__NB__\n",
    "Les tirages se font avec remises car sinon on obtient $m$ fois le même échantillon."
   ]
  },
  {
   "cell_type": "markdown",
   "metadata": {
    "slideshow": {
     "slide_type": "subslide"
    }
   },
   "source": [
    "### Cas pratique : calcul d'un intervalle de confiance autour d'une moyenne"
   ]
  },
  {
   "cell_type": "code",
   "execution_count": 309,
   "metadata": {
    "slideshow": {
     "slide_type": "fragment"
    }
   },
   "outputs": [],
   "source": [
    "import numpy as np\n",
    "mean = 0\n",
    "std = 1\n",
    "sample_size = 1000\n",
    "sample = np.random.normal(mean, std, size=sample_size)"
   ]
  },
  {
   "cell_type": "code",
   "execution_count": 310,
   "metadata": {
    "slideshow": {
     "slide_type": "subslide"
    }
   },
   "outputs": [],
   "source": [
    "def bootstrap_mean(sample, boot_size = 1000):\n",
    "    n = len(sample)\n",
    "    mean_boot = []\n",
    "    for ii in range(boot_size) :\n",
    "        sample_boot = np.random.choice(sample, n, replace=True)\n",
    "        mean_boot.append(np.mean(sample_boot))\n",
    "    return mean_boot"
   ]
  },
  {
   "cell_type": "code",
   "execution_count": 311,
   "metadata": {
    "slideshow": {
     "slide_type": "fragment"
    }
   },
   "outputs": [],
   "source": [
    "boot_mean = bootstrap_mean(sample, boot_size = 5000)"
   ]
  },
  {
   "cell_type": "code",
   "execution_count": 313,
   "metadata": {
    "slideshow": {
     "slide_type": "fragment"
    }
   },
   "outputs": [
    {
     "data": {
      "text/plain": [
       "-0.0029865712001975525"
      ]
     },
     "execution_count": 313,
     "metadata": {},
     "output_type": "execute_result"
    }
   ],
   "source": [
    "np.mean(sample)"
   ]
  },
  {
   "cell_type": "code",
   "execution_count": 314,
   "metadata": {
    "scrolled": true,
    "slideshow": {
     "slide_type": "fragment"
    }
   },
   "outputs": [
    {
     "data": {
      "text/plain": [
       "array([-0.064094  ,  0.05952682])"
      ]
     },
     "execution_count": 314,
     "metadata": {},
     "output_type": "execute_result"
    }
   ],
   "source": [
    "np.quantile(boot_mean, q=[0.025,0.975])"
   ]
  },
  {
   "cell_type": "markdown",
   "metadata": {
    "slideshow": {
     "slide_type": "slide"
    }
   },
   "source": [
    "<center> <h1>Take away</h1> </center>\n",
    "\n",
    "<img src=\"./images/coffee.png\" width=\"200\">\n",
    "\n",
    "\n",
    "__Expresso__ : \n",
    "\n",
    "* Il faut de l'aléa pour être représentatif\n",
    "* Plusieurs techniques permettent de trouver un équilibre entre coût de l'échantillonnage et représentativité\n",
    "* La représentativité : la taille ça compte mais ce n'est pas suffisant\n",
    "* La taille de l'échantillon total n'est pas nécessaire pour calculer la taille de l'échantillon cible"
   ]
  },
  {
   "cell_type": "markdown",
   "metadata": {
    "slideshow": {
     "slide_type": "subslide"
    }
   },
   "source": [
    "<center> <h1>Take away</h1> </center>\n",
    "\n",
    "<img src=\"./images/coffee.png\" width=\"200\">\n",
    "\n",
    "__Sugar Story__ :\n",
    "\n",
    "* Biais : sondage Gallup éléction US de 1936 (https://www.lemonde.fr/economie/article/2005/05/27/l-histoire-debute-avec-l-institut-gallup-et-l-election-du-president-roosevelt_654835_3234.html)\n",
    "* Taille de l'échantillon : métaphore de la soupe"
   ]
  },
  {
   "cell_type": "markdown",
   "metadata": {
    "slideshow": {
     "slide_type": "slide"
    }
   },
   "source": [
    "# Get more on my github <img src=\"./images/github.png\" width=\"100\">\n",
    "https://github.com/JJublanc/statistics_tools"
   ]
  },
  {
   "cell_type": "code",
   "execution_count": 22,
   "metadata": {
    "slideshow": {
     "slide_type": "skip"
    }
   },
   "outputs": [],
   "source": [
    "# jupyter nbconvert --to slides sampling.ipynb --post serve "
   ]
  }
 ],
 "metadata": {
  "celltoolbar": "Diaporama",
  "kernelspec": {
   "display_name": "Python 3",
   "language": "python",
   "name": "python3"
  },
  "language_info": {
   "codemirror_mode": {
    "name": "ipython",
    "version": 3
   },
   "file_extension": ".py",
   "mimetype": "text/x-python",
   "name": "python",
   "nbconvert_exporter": "python",
   "pygments_lexer": "ipython3",
   "version": "3.7.3"
  }
 },
 "nbformat": 4,
 "nbformat_minor": 2
}
