{
 "cells": [
  {
   "cell_type": "markdown",
   "metadata": {
    "slideshow": {
     "slide_type": "slide"
    }
   },
   "source": [
    "# <center> <h1> Echantillonnage - exercices </h1> </center>\n",
    "\n",
    "<img src=\"../images/sample.png\" width=\"300\">"
   ]
  },
  {
   "cell_type": "code",
   "execution_count": null,
   "metadata": {},
   "outputs": [],
   "source": [
    "get_ipython().magic(u'matplotlib inline')\n",
    "%run -i ./utils/credentials.py\n",
    "%run -i ./utils/imports.py\n",
    "%run -i ./utils/plots.py\n",
    "%run -i ./utils/stats.py"
   ]
  },
  {
   "cell_type": "markdown",
   "metadata": {},
   "source": [
    "# Boostrap"
   ]
  },
  {
   "cell_type": "markdown",
   "metadata": {},
   "source": [
    "# Calcul de la taille d'un échantillon"
   ]
  },
  {
   "cell_type": "markdown",
   "metadata": {},
   "source": [
    "On cherche à connaître la durée moyenne (en seconde) de réponse à un questionnaire en ligne.\n",
    "On fait les hypothèses suivantes :\n",
    "* la durée moyenne de visite est d'environ 120 s\n",
    "* l'écart-type est estimé à 20s\n",
    "\n",
    "On veut une erreur inférieur à 10s dans 95% des cas.\n",
    "\n",
    "Calculer la taille de l'échantillon minimal à observer."
   ]
  },
  {
   "cell_type": "code",
   "execution_count": null,
   "metadata": {},
   "outputs": [],
   "source": [
    "def n_size_mean(sigma,e,i=0.95):\n",
    "\n",
    "    # mu : hypothèse sur la valeur réelle\n",
    "    # e : erreur moyenne(X) - mu // l'écart entre la moyenne et mu sera de +/- e \n",
    "    # i : intervalle de confiance\n",
    "    \n",
    "    ii = 1 - (1 - i)/2\n",
    "    \n",
    "    ppf = norm.ppf(ii)\n",
    "    \n",
    "    n = (ppf**2)*(sigma**2)/((e)**2)\n",
    "    \n",
    "    return n"
   ]
  },
  {
   "cell_type": "code",
   "execution_count": null,
   "metadata": {},
   "outputs": [],
   "source": [
    "n_size_mean(60,10,i=0.95)"
   ]
  },
  {
   "cell_type": "markdown",
   "metadata": {},
   "source": [
    "Tirer un échantillon et caluler le temps moyen passé par un visiteur du site. Pour simuler le temps passé par les visiteurs, l'échantillon sera tiré de manière aléatoire dans une loi normale de moyenne 120 et d'écart-type 60."
   ]
  },
  {
   "cell_type": "code",
   "execution_count": null,
   "metadata": {},
   "outputs": [],
   "source": [
    "mean = 120\n",
    "std = 60\n",
    "sample_size = 138\n",
    "sample = np.random.normal(mean, std, size=sample_size)\n",
    "np.mean(sample)"
   ]
  },
  {
   "cell_type": "markdown",
   "metadata": {},
   "source": [
    "## Calcul d'un intervalle de confiance"
   ]
  },
  {
   "cell_type": "markdown",
   "metadata": {},
   "source": [
    "Soit un échantillon $(X_1,...,X_n)$ de variables aléatoires identiquement distribuées, de moyenne $\\mu$ et de variance $\\sigma^2$ \n",
    "\n",
    "Calculer l'intervalle de confiance de la valeur ci-dessous à partir d'échantillons bootstrappés.\n",
    "\n",
    "$$ \\sqrt(n)\\frac{\\bar{X} - \\mu}{\\sigma}$$"
   ]
  },
  {
   "cell_type": "markdown",
   "metadata": {},
   "source": [
    "#### Caractéristiques de l'échantillon [énoncé]"
   ]
  },
  {
   "cell_type": "code",
   "execution_count": null,
   "metadata": {},
   "outputs": [],
   "source": [
    "mean = 10\n",
    "std = 1\n",
    "sample_size = 10000\n",
    "sample = np.random.normal(mean, std, size=sample_size)"
   ]
  },
  {
   "cell_type": "markdown",
   "metadata": {},
   "source": [
    "##### Fonction de calcul de la valeur pour un échantillon [énoncé]"
   ]
  },
  {
   "cell_type": "code",
   "execution_count": null,
   "metadata": {},
   "outputs": [],
   "source": [
    "def calcul_value_TCL(sample, mean, std):\n",
    "    n = len(sample)\n",
    "    return np.sqrt(n)*(np.mean(sample) - mean)/std"
   ]
  },
  {
   "cell_type": "markdown",
   "metadata": {},
   "source": [
    "##### Fonction de calcul de la valeur pour les échantillons boostrappés [réponse]"
   ]
  },
  {
   "cell_type": "code",
   "execution_count": null,
   "metadata": {},
   "outputs": [],
   "source": [
    "def bootstrap_TCL(sample, mean, std, boot_size = 1000):\n",
    "    n = len(sample)\n",
    "    TCL_boot = []\n",
    "    for ii in range(boot_size) :\n",
    "        sample_boot = np.random.choice(sample, n, replace=True)\n",
    "        TCL_ii = calcul_value_TCL(sample_boot, mean, std)\n",
    "        TCL_boot.append(TCL_ii)\n",
    "    return TCL_boot"
   ]
  },
  {
   "cell_type": "markdown",
   "metadata": {},
   "source": [
    "##### Calcul de l'intervalle de confiance empirique à partir des échantillons boostrappés [réponse]"
   ]
  },
  {
   "cell_type": "code",
   "execution_count": null,
   "metadata": {},
   "outputs": [],
   "source": [
    "TCL_boot = bootstrap_TCL(sample, mean, std, boot_size = 3000)"
   ]
  },
  {
   "cell_type": "code",
   "execution_count": null,
   "metadata": {},
   "outputs": [],
   "source": [
    "np.quantile(TCL_boot, q=[0.025,0.975])"
   ]
  },
  {
   "cell_type": "markdown",
   "metadata": {},
   "source": [
    "## Comparer les résultats "
   ]
  },
  {
   "cell_type": "markdown",
   "metadata": {},
   "source": [
    "Comparer l'intervalle de confiance trouvé à partir des échantillons boostrappés avec celui calculé à partir de nouveaux échantillons."
   ]
  },
  {
   "cell_type": "markdown",
   "metadata": {},
   "source": [
    "##### Comparaison des valeurs trouvées avec l'intervalle calculé à partir d'un jeu de nouveaux échantillons [réponse]"
   ]
  },
  {
   "cell_type": "code",
   "execution_count": null,
   "metadata": {},
   "outputs": [],
   "source": [
    "TCL_samples = []\n",
    "for ii in range(10000):\n",
    "    sample = np.random.normal(mean, std, size=sample_size)\n",
    "    TCL_samples.append(calcul_value_TCL(sample, mean, std))\n",
    "np.quantile(TCL_samples, q=[0.025,0.975])"
   ]
  },
  {
   "cell_type": "markdown",
   "metadata": {},
   "source": [
    "# Get more on my github <img src=\"../images/github.png\" width=\"100\">\n",
    "https://github.com/JJublanc/statistics_tools"
   ]
  },
  {
   "cell_type": "code",
   "execution_count": null,
   "metadata": {},
   "outputs": [],
   "source": [
    "# jupyter nbconvert --to slides sampling_exercices.ipynb --post serve "
   ]
  }
 ],
 "metadata": {
  "celltoolbar": "Format de la Cellule Texte Brut",
  "kernelspec": {
   "display_name": "Python 3",
   "language": "python",
   "name": "python3"
  },
  "language_info": {
   "codemirror_mode": {
    "name": "ipython",
    "version": 3
   },
   "file_extension": ".py",
   "mimetype": "text/x-python",
   "name": "python",
   "nbconvert_exporter": "python",
   "pygments_lexer": "ipython3",
   "version": "3.7.3"
  }
 },
 "nbformat": 4,
 "nbformat_minor": 2
}
