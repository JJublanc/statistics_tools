{
 "cells": [
  {
   "cell_type": "markdown",
   "metadata": {
    "slideshow": {
     "slide_type": "slide"
    }
   },
   "source": [
    "# <center> <h1> Modélisation linéaire </h1> </center>\n",
    "\n",
    "<img src=\"../images/example.png\" width=\"200\">"
   ]
  },
  {
   "cell_type": "markdown",
   "metadata": {},
   "source": [
    "## Le problème\n",
    "\n",
    "Les modèles linéaires sont intéressants en raison de leur interprétabilité. Ils donnent une approximation de phénomènes que l'on tente de comprendre.\n",
    "\n",
    "Lorsque l'on cherche à comprendre des phénomènes et déterminer des mécanismes explicatifs d'une variable de sortie, il peut être utile de réaliser une modélisation, notamment linéaire."
   ]
  },
  {
   "cell_type": "markdown",
   "metadata": {},
   "source": [
    "Pour chaque individu i (un individu correspond à une ligne) d'une base de données on a des informations $x^i_1, x^i_2,..., x^i_n$ et une valeur réelle $y^i$ que l'on cherche à approximer. \n",
    "\n",
    "On cherche un modèle permettant d'approximer une variable (output) $y^i$, grâce à les variables explicatives (features/input) $x^i_1, x^i_2,..., x^i_n$ par l'équation suivante :\n",
    "$$\\hat{y}^i = \\alpha_1x^i_1 + \\alpha_2x^i_2 + ... + \\alpha_nx^i_n$$\n",
    "\n",
    "Avec : \n",
    "- i : un individu i d'une base de données\n",
    "- $\\hat{y}^i$ l'approximation de $\\hat{y}$\n",
    "- $\\alpha_1, \\alpha_2,..., \\alpha_n$ des coefficients réels"
   ]
  },
  {
   "cell_type": "markdown",
   "metadata": {},
   "source": [
    "## I. Les moindres carrés ordinaires"
   ]
  },
  {
   "cell_type": "markdown",
   "metadata": {},
   "source": [
    "Avec les moindres carrés on tente de réaliser la meilleure approximation en choisissant des coefficient $\\alpha_1, \\alpha_2,..., \\alpha_n$ qui vont minismiser l'erreur quadratique moyenne : \n",
    "$$\\frac{1}{n}\\sum_i(y^i-\\hat{y}^i)^2$$"
   ]
  },
  {
   "cell_type": "code",
   "execution_count": 44,
   "metadata": {},
   "outputs": [
    {
     "data": {
      "text/html": [
       "<script type=\"text/javascript\">window.PlotlyConfig = {MathJaxConfig: 'local'};</script><script type=\"text/javascript\">if (window.MathJax) {MathJax.Hub.Config({SVG: {font: \"STIX-Web\"}});}</script><script>requirejs.config({paths: { 'plotly': ['https://cdn.plot.ly/plotly-latest.min']},});if(!window._Plotly) {require(['plotly'],function(plotly) {window._Plotly=plotly;});}</script>"
      ],
      "text/vnd.plotly.v1+html": [
       "<script type=\"text/javascript\">window.PlotlyConfig = {MathJaxConfig: 'local'};</script><script type=\"text/javascript\">if (window.MathJax) {MathJax.Hub.Config({SVG: {font: \"STIX-Web\"}});}</script><script>requirejs.config({paths: { 'plotly': ['https://cdn.plot.ly/plotly-latest.min']},});if(!window._Plotly) {require(['plotly'],function(plotly) {window._Plotly=plotly;});}</script>"
      ]
     },
     "metadata": {},
     "output_type": "display_data"
    }
   ],
   "source": [
    "get_ipython().magic(u'matplotlib inline')\n",
    "%run -i ../utils/credentials.py\n",
    "%run -i ../utils/imports.py\n",
    "%run -i ../utils/plots.py\n",
    "%run -i ../utils/stats.py\n",
    "\n",
    "import numpy as np"
   ]
  },
  {
   "cell_type": "code",
   "execution_count": 53,
   "metadata": {},
   "outputs": [],
   "source": [
    "data_path = \"../data/PUBG_train_sample.csv\"\n",
    "data_PUBG = pd.read_csv(data_path)\n",
    "data_PUBG = data_PUBG.sample(frac=0.01, replace=False, random_state=1234)\n",
    "data_PUBG_not_zero = data_PUBG[(data_PUBG[\"winPoints\"]!=0)&(data_PUBG[\"killPoints\"]!=0)]"
   ]
  },
  {
   "cell_type": "code",
   "execution_count": 54,
   "metadata": {
    "scrolled": true
   },
   "outputs": [
    {
     "data": {
      "text/plain": [
       "[<matplotlib.lines.Line2D at 0x12b305a20>]"
      ]
     },
     "execution_count": 54,
     "metadata": {},
     "output_type": "execute_result"
    },
    {
     "data": {
      "image/png": "[encoded data removed]",
      "text/plain": [
       "<Figure size 432x288 with 1 Axes>"
      ]
     },
     "metadata": {},
     "output_type": "display_data"
    }
   ],
   "source": [
    "plt.scatter(data_PUBG[\"winPoints\"], data_PUBG[\"killPoints\"])\n",
    "plt.xlabel(\"x\", fontsize = 20)\n",
    "plt.ylabel(\"y\", fontsize = 20)\n",
    "plt.plot((1400,1700),(900,1900), c=\"r\")"
   ]
  },
  {
   "cell_type": "markdown",
   "metadata": {},
   "source": [
    "La solution des moindres carré existe et elle est analytique. Sous certaines conditions elle a également la propriété d'être sans biais c'est à dire qu'en moyenne on l'écart entre $y$ et $\\hat{y}$ est nulle.\n",
    "Ces conditions sont les suivantes : \n"
   ]
  },
  {
   "cell_type": "markdown",
   "metadata": {},
   "source": [
    "TODO : donner les hypothèses des MCO."
   ]
  },
  {
   "cell_type": "markdown",
   "metadata": {},
   "source": [
    "## Intérprétation du modèle"
   ]
  },
  {
   "cell_type": "markdown",
   "metadata": {},
   "source": [
    "__Les coefficient__\n",
    "Chaque coefficient $\\alpha_i$ donne l'effet de la variable $x_i$ sur l'output. Si $x_1$ augmente de 1 alors la variable $y$ augmente de $\\alpha_i$.\n",
    "\n",
    "__La qualité du modèle__\n",
    "Pour savoir si un modèle linéaire est bon, plusieurs points peuvent être vérifiés :\n",
    "- les hypothèses sont-elles respectées ?\n",
    "- l'ajustement est-il correct ?\n",
    "\n",
    "Pour répondre à la deuxième question on peut calculer la part de la variance (en d'autres termes un indicateur de la variation) de y"
   ]
  },
  {
   "cell_type": "markdown",
   "metadata": {},
   "source": [
    "##### Imports"
   ]
  },
  {
   "cell_type": "code",
   "execution_count": 55,
   "metadata": {},
   "outputs": [
    {
     "name": "stdout",
     "output_type": "stream",
     "text": [
      "-0.69955334723943\n",
      "0.825000858701489\n"
     ]
    }
   ],
   "source": [
    "x = data_PUBG[\"winPoints\"]\n",
    "y = data_PUBG[\"killPoints\"]\n",
    "slope, intercept, r_value, p_value, std_err = scs.linregress(x, y)\n",
    "\n",
    "print(intercept)\n",
    "print(slope)"
   ]
  },
  {
   "cell_type": "code",
   "execution_count": 56,
   "metadata": {},
   "outputs": [],
   "source": [
    "import statsmodels.api as sm\n",
    "x = data_PUBG[\"winPoints\"]\n",
    "x = sm.add_constant(x)\n",
    "y = data_PUBG[\"killPoints\"]\n",
    "\n",
    "MCO_model = sm.GLM(y, x)\n",
    "MCO_results = MCO_model.fit()"
   ]
  },
  {
   "cell_type": "code",
   "execution_count": 57,
   "metadata": {
    "scrolled": true
   },
   "outputs": [
    {
     "data": {
      "text/html": [
       "<table class=\"simpletable\">\n",
       "<caption>Generalized Linear Model Regression Results</caption>\n",
       "<tr>\n",
       "  <th>Dep. Variable:</th>     <td>killPoints</td>    <th>  No. Observations:  </th>   <td>  1000</td>  \n",
       "</tr>\n",
       "<tr>\n",
       "  <th>Model:</th>                 <td>GLM</td>       <th>  Df Residuals:      </th>   <td>   998</td>  \n",
       "</tr>\n",
       "<tr>\n",
       "  <th>Model Family:</th>       <td>Gaussian</td>     <th>  Df Model:          </th>   <td>     1</td>  \n",
       "</tr>\n",
       "<tr>\n",
       "  <th>Link Function:</th>      <td>identity</td>     <th>  Scale:             </th>  <td>  14006.</td> \n",
       "</tr>\n",
       "<tr>\n",
       "  <th>Method:</th>               <td>IRLS</td>       <th>  Log-Likelihood:    </th>  <td> -6191.6</td> \n",
       "</tr>\n",
       "<tr>\n",
       "  <th>Date:</th>           <td>Mon, 04 Nov 2019</td> <th>  Deviance:          </th> <td>1.3978e+07</td>\n",
       "</tr>\n",
       "<tr>\n",
       "  <th>Time:</th>               <td>09:38:14</td>     <th>  Pearson chi2:      </th>  <td>1.40e+07</td> \n",
       "</tr>\n",
       "<tr>\n",
       "  <th>No. Iterations:</th>         <td>3</td>        <th>  Covariance Type:   </th>  <td>nonrobust</td>\n",
       "</tr>\n",
       "</table>\n",
       "<table class=\"simpletable\">\n",
       "<tr>\n",
       "      <td></td>         <th>coef</th>     <th>std err</th>      <th>z</th>      <th>P>|z|</th>  <th>[0.025</th>    <th>0.975]</th>  \n",
       "</tr>\n",
       "<tr>\n",
       "  <th>const</th>     <td>   -0.6996</td> <td>    4.946</td> <td>   -0.141</td> <td> 0.888</td> <td>  -10.394</td> <td>    8.995</td>\n",
       "</tr>\n",
       "<tr>\n",
       "  <th>winPoints</th> <td>    0.8250</td> <td>    0.005</td> <td>  164.375</td> <td> 0.000</td> <td>    0.815</td> <td>    0.835</td>\n",
       "</tr>\n",
       "</table>"
      ],
      "text/plain": [
       "<class 'statsmodels.iolib.summary.Summary'>\n",
       "\"\"\"\n",
       "                 Generalized Linear Model Regression Results                  \n",
       "==============================================================================\n",
       "Dep. Variable:             killPoints   No. Observations:                 1000\n",
       "Model:                            GLM   Df Residuals:                      998\n",
       "Model Family:                Gaussian   Df Model:                            1\n",
       "Link Function:               identity   Scale:                          14006.\n",
       "Method:                          IRLS   Log-Likelihood:                -6191.6\n",
       "Date:                Mon, 04 Nov 2019   Deviance:                   1.3978e+07\n",
       "Time:                        09:38:14   Pearson chi2:                 1.40e+07\n",
       "No. Iterations:                     3   Covariance Type:             nonrobust\n",
       "==============================================================================\n",
       "                 coef    std err          z      P>|z|      [0.025      0.975]\n",
       "------------------------------------------------------------------------------\n",
       "const         -0.6996      4.946     -0.141      0.888     -10.394       8.995\n",
       "winPoints      0.8250      0.005    164.375      0.000       0.815       0.835\n",
       "==============================================================================\n",
       "\"\"\""
      ]
     },
     "execution_count": 57,
     "metadata": {},
     "output_type": "execute_result"
    }
   ],
   "source": [
    "MCO_results.summary()"
   ]
  },
  {
   "cell_type": "code",
   "execution_count": 58,
   "metadata": {},
   "outputs": [
    {
     "data": {
      "text/plain": [
       "const       -0.699553\n",
       "winPoints    0.825001\n",
       "dtype: float64"
      ]
     },
     "execution_count": 58,
     "metadata": {},
     "output_type": "execute_result"
    }
   ],
   "source": [
    "MCO_results.params"
   ]
  },
  {
   "cell_type": "code",
   "execution_count": 59,
   "metadata": {},
   "outputs": [
    {
     "data": {
      "text/plain": [
       "const        0.887532\n",
       "winPoints    0.000000\n",
       "dtype: float64"
      ]
     },
     "execution_count": 59,
     "metadata": {},
     "output_type": "execute_result"
    }
   ],
   "source": [
    "MCO_results.pvalues"
   ]
  },
  {
   "cell_type": "code",
   "execution_count": 83,
   "metadata": {},
   "outputs": [
    {
     "ename": "ValueError",
     "evalue": "shapes (1000,2) and (1000,) not aligned: 2 (dim 1) != 1000 (dim 0)",
     "output_type": "error",
     "traceback": [
      "\u001b[0;31m---------------------------------------------------------------------------\u001b[0m",
      "\u001b[0;31mValueError\u001b[0m                                Traceback (most recent call last)",
      "\u001b[0;32m~/JupyterProjects/statistics_tools/utils/stats.py\u001b[0m in \u001b[0;36m<module>\u001b[0;34m\u001b[0m\n\u001b[1;32m      7\u001b[0m \u001b[0mMCO_model\u001b[0m \u001b[0;34m=\u001b[0m \u001b[0msm\u001b[0m\u001b[0;34m.\u001b[0m\u001b[0mGLM\u001b[0m\u001b[0;34m(\u001b[0m\u001b[0my\u001b[0m\u001b[0;34m,\u001b[0m \u001b[0mx\u001b[0m\u001b[0;34m)\u001b[0m\u001b[0;34m\u001b[0m\u001b[0;34m\u001b[0m\u001b[0m\n\u001b[1;32m      8\u001b[0m \u001b[0mMCO_results\u001b[0m \u001b[0;34m=\u001b[0m \u001b[0mMCO_model\u001b[0m\u001b[0;34m.\u001b[0m\u001b[0mfit\u001b[0m\u001b[0;34m(\u001b[0m\u001b[0;34m)\u001b[0m\u001b[0;34m\u001b[0m\u001b[0;34m\u001b[0m\u001b[0m\n\u001b[0;32m----> 9\u001b[0;31m \u001b[0mMCO_model\u001b[0m\u001b[0;34m.\u001b[0m\u001b[0mpredict\u001b[0m\u001b[0;34m(\u001b[0m\u001b[0mdata_PUBG\u001b[0m\u001b[0;34m[\u001b[0m\u001b[0;34m\"winPoints\"\u001b[0m\u001b[0;34m]\u001b[0m\u001b[0;34m)\u001b[0m\u001b[0;34m\u001b[0m\u001b[0;34m\u001b[0m\u001b[0m\n\u001b[0m\u001b[1;32m     10\u001b[0m \u001b[0;34m\u001b[0m\u001b[0m\n\u001b[1;32m     11\u001b[0m \u001b[0;31m# With only non zero value\u001b[0m\u001b[0;34m\u001b[0m\u001b[0;34m\u001b[0m\u001b[0;34m\u001b[0m\u001b[0m\n",
      "\u001b[0;32m/anaconda3/lib/python3.7/site-packages/statsmodels/genmod/generalized_linear_model.py\u001b[0m in \u001b[0;36mpredict\u001b[0;34m(self, params, exog, exposure, offset, linear)\u001b[0m\n\u001b[1;32m    850\u001b[0m             \u001b[0mexog\u001b[0m \u001b[0;34m=\u001b[0m \u001b[0mself\u001b[0m\u001b[0;34m.\u001b[0m\u001b[0mexog\u001b[0m\u001b[0;34m\u001b[0m\u001b[0;34m\u001b[0m\u001b[0m\n\u001b[1;32m    851\u001b[0m \u001b[0;34m\u001b[0m\u001b[0m\n\u001b[0;32m--> 852\u001b[0;31m         \u001b[0mlinpred\u001b[0m \u001b[0;34m=\u001b[0m \u001b[0mnp\u001b[0m\u001b[0;34m.\u001b[0m\u001b[0mdot\u001b[0m\u001b[0;34m(\u001b[0m\u001b[0mexog\u001b[0m\u001b[0;34m,\u001b[0m \u001b[0mparams\u001b[0m\u001b[0;34m)\u001b[0m \u001b[0;34m+\u001b[0m \u001b[0moffset\u001b[0m \u001b[0;34m+\u001b[0m \u001b[0mexposure\u001b[0m\u001b[0;34m\u001b[0m\u001b[0;34m\u001b[0m\u001b[0m\n\u001b[0m\u001b[1;32m    853\u001b[0m         \u001b[0;32mif\u001b[0m \u001b[0mlinear\u001b[0m\u001b[0;34m:\u001b[0m\u001b[0;34m\u001b[0m\u001b[0;34m\u001b[0m\u001b[0m\n\u001b[1;32m    854\u001b[0m             \u001b[0;32mreturn\u001b[0m \u001b[0mlinpred\u001b[0m\u001b[0;34m\u001b[0m\u001b[0;34m\u001b[0m\u001b[0m\n",
      "\u001b[0;31mValueError\u001b[0m: shapes (1000,2) and (1000,) not aligned: 2 (dim 1) != 1000 (dim 0)"
     ]
    },
    {
     "data": {
      "image/png": "[encoded data removed]",
      "text/plain": [
       "<Figure size 432x288 with 1 Axes>"
      ]
     },
     "metadata": {},
     "output_type": "display_data"
    }
   ],
   "source": [
    "plt.scatter(data_PUBG[\"winPoints\"], data_PUBG[\"killPoints\"])\n",
    "\n",
    "# With all the data\n",
    "x = data_PUBG[\"winPoints\"]\n",
    "x = sm.add_constant(x)\n",
    "y = data_PUBG[\"killPoints\"]\n",
    "MCO_model = sm.GLM(y, x)\n",
    "MCO_results = MCO_model.fit()\n",
    "\n",
    "# With only non zero value\n",
    "x_not_zero = data_PUBG_not_zero[\"winPoints\"]\n",
    "x_not_zero = sm.add_constant(x_not_zero)\n",
    "y_not_zero = data_PUBG_not_zero[\"killPoints\"]\n",
    "MCO_model_not_zero = sm.GLM(y_not_zero, x_not_zero)\n",
    "MCO_results_not_zero = MCO_model_not_zero.fit()\n",
    "\n",
    "\n",
    "x_plot = np.linspace(0,1800)\n",
    "y_plot = MCO_results.params.const + MCO_results.params.winPoints*x_plot\n",
    "plt.plot(x_plot, y_plot, c = \"r\")\n",
    "\n",
    "x_plot_not_zero = np.linspace(0,1800)\n",
    "y_plot_not_zero = MCO_results_not_zero.params.const + MCO_results_not_zero.params.winPoints*x_plot\n",
    "plt.plot(x_plot_not_zero, y_plot_not_zero, c = \"g\")"
   ]
  },
  {
   "cell_type": "code",
   "execution_count": 67,
   "metadata": {},
   "outputs": [
    {
     "data": {
      "text/plain": [
       "572"
      ]
     },
     "execution_count": 67,
     "metadata": {},
     "output_type": "execute_result"
    }
   ],
   "source": [
    "len(data_PUBG) - len(data_PUBG_not_zero)"
   ]
  },
  {
   "cell_type": "code",
   "execution_count": 68,
   "metadata": {},
   "outputs": [
    {
     "data": {
      "text/plain": [
       "1000"
      ]
     },
     "execution_count": 68,
     "metadata": {},
     "output_type": "execute_result"
    }
   ],
   "source": [
    "len(data_PUBG)"
   ]
  },
  {
   "cell_type": "code",
   "execution_count": 65,
   "metadata": {
    "scrolled": true
   },
   "outputs": [
    {
     "data": {
      "text/html": [
       "<table class=\"simpletable\">\n",
       "<caption>Generalized Linear Model Regression Results</caption>\n",
       "<tr>\n",
       "  <th>Dep. Variable:</th>     <td>killPoints</td>    <th>  No. Observations:  </th>   <td>   428</td>  \n",
       "</tr>\n",
       "<tr>\n",
       "  <th>Model:</th>                 <td>GLM</td>       <th>  Df Residuals:      </th>   <td>   426</td>  \n",
       "</tr>\n",
       "<tr>\n",
       "  <th>Model Family:</th>       <td>Gaussian</td>     <th>  Df Model:          </th>   <td>     1</td>  \n",
       "</tr>\n",
       "<tr>\n",
       "  <th>Link Function:</th>      <td>identity</td>     <th>  Scale:             </th>  <td>  32001.</td> \n",
       "</tr>\n",
       "<tr>\n",
       "  <th>Method:</th>               <td>IRLS</td>       <th>  Log-Likelihood:    </th>  <td> -2826.2</td> \n",
       "</tr>\n",
       "<tr>\n",
       "  <th>Date:</th>           <td>Mon, 04 Nov 2019</td> <th>  Deviance:          </th> <td>1.3633e+07</td>\n",
       "</tr>\n",
       "<tr>\n",
       "  <th>Time:</th>               <td>09:42:38</td>     <th>  Pearson chi2:      </th>  <td>1.36e+07</td> \n",
       "</tr>\n",
       "<tr>\n",
       "  <th>No. Iterations:</th>         <td>3</td>        <th>  Covariance Type:   </th>  <td>nonrobust</td>\n",
       "</tr>\n",
       "</table>\n",
       "<table class=\"simpletable\">\n",
       "<tr>\n",
       "      <td></td>         <th>coef</th>     <th>std err</th>      <th>z</th>      <th>P>|z|</th>  <th>[0.025</th>    <th>0.975]</th>  \n",
       "</tr>\n",
       "<tr>\n",
       "  <th>const</th>     <td> -863.9953</td> <td>  262.757</td> <td>   -3.288</td> <td> 0.001</td> <td>-1378.990</td> <td> -349.001</td>\n",
       "</tr>\n",
       "<tr>\n",
       "  <th>winPoints</th> <td>    1.3978</td> <td>    0.174</td> <td>    8.014</td> <td> 0.000</td> <td>    1.056</td> <td>    1.740</td>\n",
       "</tr>\n",
       "</table>"
      ],
      "text/plain": [
       "<class 'statsmodels.iolib.summary.Summary'>\n",
       "\"\"\"\n",
       "                 Generalized Linear Model Regression Results                  \n",
       "==============================================================================\n",
       "Dep. Variable:             killPoints   No. Observations:                  428\n",
       "Model:                            GLM   Df Residuals:                      426\n",
       "Model Family:                Gaussian   Df Model:                            1\n",
       "Link Function:               identity   Scale:                          32001.\n",
       "Method:                          IRLS   Log-Likelihood:                -2826.2\n",
       "Date:                Mon, 04 Nov 2019   Deviance:                   1.3633e+07\n",
       "Time:                        09:42:38   Pearson chi2:                 1.36e+07\n",
       "No. Iterations:                     3   Covariance Type:             nonrobust\n",
       "==============================================================================\n",
       "                 coef    std err          z      P>|z|      [0.025      0.975]\n",
       "------------------------------------------------------------------------------\n",
       "const       -863.9953    262.757     -3.288      0.001   -1378.990    -349.001\n",
       "winPoints      1.3978      0.174      8.014      0.000       1.056       1.740\n",
       "==============================================================================\n",
       "\"\"\""
      ]
     },
     "execution_count": 65,
     "metadata": {},
     "output_type": "execute_result"
    }
   ],
   "source": [
    "MCO_results_not_zero.summary()"
   ]
  },
  {
   "cell_type": "code",
   "execution_count": 70,
   "metadata": {},
   "outputs": [],
   "source": [
    "# With only non zero value\n",
    "x_not_zero = data_PUBG_not_zero[\"winPoints\"]\n",
    "x_not_zero = sm.add_constant(x_not_zero)\n",
    "y_not_zero = data_PUBG_not_zero[\"killPoints\"]\n",
    "MCO_model_not_zero = sm.GLM(y_not_zero, x_not_zero)\n",
    "MCO_results_not_zero = MCO_model_not_zero.fit()\n",
    "\n",
    "# With only non zero value\n",
    "x_not_zero_two_X = data_PUBG_not_zero[[\"winPoints\",\"winPoints\"]]\n",
    "x_not_zero_two_X = sm.add_constant(x_not_zero_two_X)\n",
    "MCO_model_not_zero_two_X = sm.GLM(y_not_zero, x_not_zero_two_X)\n",
    "MCO_results_not_zero_two_X = MCO_model_not_zero_two_X.fit()"
   ]
  },
  {
   "cell_type": "code",
   "execution_count": 72,
   "metadata": {},
   "outputs": [
    {
     "data": {
      "text/html": [
       "<table class=\"simpletable\">\n",
       "<caption>Generalized Linear Model Regression Results</caption>\n",
       "<tr>\n",
       "  <th>Dep. Variable:</th>     <td>killPoints</td>    <th>  No. Observations:  </th>   <td>   428</td>  \n",
       "</tr>\n",
       "<tr>\n",
       "  <th>Model:</th>                 <td>GLM</td>       <th>  Df Residuals:      </th>   <td>   426</td>  \n",
       "</tr>\n",
       "<tr>\n",
       "  <th>Model Family:</th>       <td>Gaussian</td>     <th>  Df Model:          </th>   <td>     1</td>  \n",
       "</tr>\n",
       "<tr>\n",
       "  <th>Link Function:</th>      <td>identity</td>     <th>  Scale:             </th>  <td>  32001.</td> \n",
       "</tr>\n",
       "<tr>\n",
       "  <th>Method:</th>               <td>IRLS</td>       <th>  Log-Likelihood:    </th>  <td> -2826.2</td> \n",
       "</tr>\n",
       "<tr>\n",
       "  <th>Date:</th>           <td>Mon, 04 Nov 2019</td> <th>  Deviance:          </th> <td>1.3633e+07</td>\n",
       "</tr>\n",
       "<tr>\n",
       "  <th>Time:</th>               <td>09:48:04</td>     <th>  Pearson chi2:      </th>  <td>1.36e+07</td> \n",
       "</tr>\n",
       "<tr>\n",
       "  <th>No. Iterations:</th>         <td>3</td>        <th>  Covariance Type:   </th>  <td>nonrobust</td>\n",
       "</tr>\n",
       "</table>\n",
       "<table class=\"simpletable\">\n",
       "<tr>\n",
       "      <td></td>         <th>coef</th>     <th>std err</th>      <th>z</th>      <th>P>|z|</th>  <th>[0.025</th>    <th>0.975]</th>  \n",
       "</tr>\n",
       "<tr>\n",
       "  <th>const</th>     <td> -863.9953</td> <td>  262.757</td> <td>   -3.288</td> <td> 0.001</td> <td>-1378.990</td> <td> -349.001</td>\n",
       "</tr>\n",
       "<tr>\n",
       "  <th>winPoints</th> <td>    0.6989</td> <td>    0.087</td> <td>    8.014</td> <td> 0.000</td> <td>    0.528</td> <td>    0.870</td>\n",
       "</tr>\n",
       "<tr>\n",
       "  <th>winPoints</th> <td>    0.6989</td> <td>    0.087</td> <td>    8.014</td> <td> 0.000</td> <td>    0.528</td> <td>    0.870</td>\n",
       "</tr>\n",
       "</table>"
      ],
      "text/plain": [
       "<class 'statsmodels.iolib.summary.Summary'>\n",
       "\"\"\"\n",
       "                 Generalized Linear Model Regression Results                  \n",
       "==============================================================================\n",
       "Dep. Variable:             killPoints   No. Observations:                  428\n",
       "Model:                            GLM   Df Residuals:                      426\n",
       "Model Family:                Gaussian   Df Model:                            1\n",
       "Link Function:               identity   Scale:                          32001.\n",
       "Method:                          IRLS   Log-Likelihood:                -2826.2\n",
       "Date:                Mon, 04 Nov 2019   Deviance:                   1.3633e+07\n",
       "Time:                        09:48:04   Pearson chi2:                 1.36e+07\n",
       "No. Iterations:                     3   Covariance Type:             nonrobust\n",
       "==============================================================================\n",
       "                 coef    std err          z      P>|z|      [0.025      0.975]\n",
       "------------------------------------------------------------------------------\n",
       "const       -863.9953    262.757     -3.288      0.001   -1378.990    -349.001\n",
       "winPoints      0.6989      0.087      8.014      0.000       0.528       0.870\n",
       "winPoints      0.6989      0.087      8.014      0.000       0.528       0.870\n",
       "==============================================================================\n",
       "\"\"\""
      ]
     },
     "execution_count": 72,
     "metadata": {},
     "output_type": "execute_result"
    }
   ],
   "source": [
    "MCO_results_not_zero_two_X.summary()"
   ]
  },
  {
   "cell_type": "code",
   "execution_count": 73,
   "metadata": {
    "scrolled": false
   },
   "outputs": [
    {
     "data": {
      "text/html": [
       "<table class=\"simpletable\">\n",
       "<caption>Generalized Linear Model Regression Results</caption>\n",
       "<tr>\n",
       "  <th>Dep. Variable:</th>     <td>killPoints</td>    <th>  No. Observations:  </th>   <td>   428</td>  \n",
       "</tr>\n",
       "<tr>\n",
       "  <th>Model:</th>                 <td>GLM</td>       <th>  Df Residuals:      </th>   <td>   426</td>  \n",
       "</tr>\n",
       "<tr>\n",
       "  <th>Model Family:</th>       <td>Gaussian</td>     <th>  Df Model:          </th>   <td>     1</td>  \n",
       "</tr>\n",
       "<tr>\n",
       "  <th>Link Function:</th>      <td>identity</td>     <th>  Scale:             </th>  <td>  32001.</td> \n",
       "</tr>\n",
       "<tr>\n",
       "  <th>Method:</th>               <td>IRLS</td>       <th>  Log-Likelihood:    </th>  <td> -2826.2</td> \n",
       "</tr>\n",
       "<tr>\n",
       "  <th>Date:</th>           <td>Mon, 04 Nov 2019</td> <th>  Deviance:          </th> <td>1.3633e+07</td>\n",
       "</tr>\n",
       "<tr>\n",
       "  <th>Time:</th>               <td>09:48:21</td>     <th>  Pearson chi2:      </th>  <td>1.36e+07</td> \n",
       "</tr>\n",
       "<tr>\n",
       "  <th>No. Iterations:</th>         <td>3</td>        <th>  Covariance Type:   </th>  <td>nonrobust</td>\n",
       "</tr>\n",
       "</table>\n",
       "<table class=\"simpletable\">\n",
       "<tr>\n",
       "      <td></td>         <th>coef</th>     <th>std err</th>      <th>z</th>      <th>P>|z|</th>  <th>[0.025</th>    <th>0.975]</th>  \n",
       "</tr>\n",
       "<tr>\n",
       "  <th>const</th>     <td> -863.9953</td> <td>  262.757</td> <td>   -3.288</td> <td> 0.001</td> <td>-1378.990</td> <td> -349.001</td>\n",
       "</tr>\n",
       "<tr>\n",
       "  <th>winPoints</th> <td>    1.3978</td> <td>    0.174</td> <td>    8.014</td> <td> 0.000</td> <td>    1.056</td> <td>    1.740</td>\n",
       "</tr>\n",
       "</table>"
      ],
      "text/plain": [
       "<class 'statsmodels.iolib.summary.Summary'>\n",
       "\"\"\"\n",
       "                 Generalized Linear Model Regression Results                  \n",
       "==============================================================================\n",
       "Dep. Variable:             killPoints   No. Observations:                  428\n",
       "Model:                            GLM   Df Residuals:                      426\n",
       "Model Family:                Gaussian   Df Model:                            1\n",
       "Link Function:               identity   Scale:                          32001.\n",
       "Method:                          IRLS   Log-Likelihood:                -2826.2\n",
       "Date:                Mon, 04 Nov 2019   Deviance:                   1.3633e+07\n",
       "Time:                        09:48:21   Pearson chi2:                 1.36e+07\n",
       "No. Iterations:                     3   Covariance Type:             nonrobust\n",
       "==============================================================================\n",
       "                 coef    std err          z      P>|z|      [0.025      0.975]\n",
       "------------------------------------------------------------------------------\n",
       "const       -863.9953    262.757     -3.288      0.001   -1378.990    -349.001\n",
       "winPoints      1.3978      0.174      8.014      0.000       1.056       1.740\n",
       "==============================================================================\n",
       "\"\"\""
      ]
     },
     "execution_count": 73,
     "metadata": {},
     "output_type": "execute_result"
    }
   ],
   "source": [
    " MCO_results_not_zero.summary()"
   ]
  },
  {
   "cell_type": "markdown",
   "metadata": {},
   "source": [
    "Calcul du $R^2$ : \n",
    "$$R^2 = \\frac{SSR}{SST}$$ \n",
    "- $SSR$ (regression sum of squares) $= \\sum_i(\\hat{y_i} - \\bar{y})^2$\n",
    "- $SST$ (total sum of squares) $= \\sum_i(y_i - \\bar{y})^2$"
   ]
  },
  {
   "cell_type": "code",
   "execution_count": 77,
   "metadata": {},
   "outputs": [],
   "source": [
    "def compute_R_square(y,y_hat):\n",
    "    SSR = np.sum(y_hat - np.mean(y_hat))\n",
    "    SST = np.sum(y - np.mean(y_hat))\n",
    "    return SSR/SST"
   ]
  },
  {
   "cell_type": "code",
   "execution_count": 94,
   "metadata": {},
   "outputs": [
    {
     "data": {
      "text/plain": [
       "13504    2275.851730\n",
       "72599      -0.699553\n",
       "42217    2582.751809\n",
       "97650      -0.699553\n",
       "99120    2543.301752\n",
       "13165    2421.076689\n",
       "56244      -0.699553\n",
       "72729      -0.699553\n",
       "10979    2236.801735\n",
       "11794      -0.699553\n",
       "30261      -0.699553\n",
       "27441      -0.699553\n",
       "82623    2723.101772\n",
       "51042      -0.699553\n",
       "92194      -0.699553\n",
       "91810      -0.699553\n",
       "13266    2355.551760\n",
       "48317    2592.201762\n",
       "64118      -0.699553\n",
       "31116    2288.351747\n",
       "12024      -0.699553\n",
       "6855       -0.699553\n",
       "25028      -0.699553\n",
       "35601      -0.699553\n",
       "24579      -0.699553\n",
       "37994    2752.951788\n",
       "87519      -0.699553\n",
       "26750    2478.926739\n",
       "97992    2305.776754\n",
       "60419      -0.699553\n",
       "            ...     \n",
       "11577      -0.699553\n",
       "24257      -0.699553\n",
       "99555    2273.451736\n",
       "8208     2882.451771\n",
       "20983      -0.699553\n",
       "23786      -0.699553\n",
       "46962    2377.076689\n",
       "2987     2236.801735\n",
       "63702    2236.801735\n",
       "82368    2631.201693\n",
       "25343    2213.651716\n",
       "55325      -0.699553\n",
       "91178    3068.076792\n",
       "11214      -0.699553\n",
       "33242      -0.699553\n",
       "94964    3055.101807\n",
       "74543      -0.699553\n",
       "78532      -0.699553\n",
       "36052    2239.701711\n",
       "29520      -0.699553\n",
       "10201    2417.476751\n",
       "29400      -0.699553\n",
       "67134      -0.699553\n",
       "50477    2381.501766\n",
       "73142      -0.699553\n",
       "63879    2210.401604\n",
       "94306      -0.699553\n",
       "8879     2236.801735\n",
       "30347    2270.726622\n",
       "15196    2507.826749\n",
       "Name: killPoints, Length: 1000, dtype: float64"
      ]
     },
     "execution_count": 94,
     "metadata": {},
     "output_type": "execute_result"
    }
   ],
   "source": [
    "y + MCO_model.mu"
   ]
  },
  {
   "cell_type": "code",
   "execution_count": 92,
   "metadata": {},
   "outputs": [
    {
     "data": {
      "text/plain": [
       "13504    1044\n",
       "72599       0\n",
       "42217    1275\n",
       "97650       0\n",
       "99120    1290\n",
       "13165    1228\n",
       "56244       0\n",
       "72729       0\n",
       "10979    1000\n",
       "11794       0\n",
       "30261       0\n",
       "27441       0\n",
       "82623    1450\n",
       "51042       0\n",
       "92194       0\n",
       "91810       0\n",
       "13266    1094\n",
       "48317    1329\n",
       "64118       0\n",
       "31116    1040\n",
       "12024       0\n",
       "6855        0\n",
       "25028       0\n",
       "35601       0\n",
       "24579       0\n",
       "37994    1465\n",
       "87519       0\n",
       "26750    1238\n",
       "97992    1050\n",
       "60419       0\n",
       "         ... \n",
       "11577       0\n",
       "24257       0\n",
       "99555    1035\n",
       "8208     1611\n",
       "20983       0\n",
       "23786       0\n",
       "46962    1184\n",
       "2987     1000\n",
       "63702    1000\n",
       "82368    1434\n",
       "25343     995\n",
       "55325       0\n",
       "91178    1776\n",
       "11214       0\n",
       "33242       0\n",
       "94964    1749\n",
       "74543       0\n",
       "78532       0\n",
       "36052    1026\n",
       "29520       0\n",
       "10201    1165\n",
       "29400       0\n",
       "67134       0\n",
       "50477    1115\n",
       "73142       0\n",
       "63879    1099\n",
       "94306       0\n",
       "8879     1000\n",
       "30347    1142\n",
       "15196    1257\n",
       "Name: killPoints, Length: 1000, dtype: int64"
      ]
     },
     "execution_count": 92,
     "metadata": {},
     "output_type": "execute_result"
    }
   ],
   "source": [
    "y"
   ]
  },
  {
   "cell_type": "code",
   "execution_count": null,
   "metadata": {},
   "outputs": [],
   "source": [
    "compute_R_square(y,)"
   ]
  },
  {
   "cell_type": "markdown",
   "metadata": {},
   "source": [
    "<center> <h1>Take away</h1> </center>\n",
    "\n",
    "<img src=\"../images/coffee.png\" width=\"200\">\n",
    "\n",
    "\n",
    "__Expresso__ : \n",
    "\n",
    "* point 1\n",
    "* point 2\n",
    "\n",
    "__Sugar Story__ :\n",
    "\n",
    "* point 1\n",
    "* point 2"
   ]
  },
  {
   "cell_type": "markdown",
   "metadata": {},
   "source": [
    "# Get more on my github <img src=\"../images/github.png\" width=\"100\">\n",
    "https://github.com/JJublanc/statistics_tools"
   ]
  },
  {
   "cell_type": "code",
   "execution_count": null,
   "metadata": {},
   "outputs": [],
   "source": []
  }
 ],
 "metadata": {
  "celltoolbar": "Format de la Cellule Texte Brut",
  "kernelspec": {
   "display_name": "Python 3",
   "language": "python",
   "name": "python3"
  },
  "language_info": {
   "codemirror_mode": {
    "name": "ipython",
    "version": 3
   },
   "file_extension": ".py",
   "mimetype": "text/x-python",
   "name": "python",
   "nbconvert_exporter": "python",
   "pygments_lexer": "ipython3",
   "version": "3.7.1"
  }
 },
 "nbformat": 4,
 "nbformat_minor": 2
}
