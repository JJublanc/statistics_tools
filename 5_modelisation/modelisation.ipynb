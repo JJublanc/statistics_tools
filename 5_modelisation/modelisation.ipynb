{
 "cells": [
  {
   "cell_type": "markdown",
   "metadata": {
    "slideshow": {
     "slide_type": "slide"
    }
   },
   "source": [
    "# <center> <h1> Modélisation linéaire </h1> </center>\n",
    "\n",
    "<img src=\"../images/example.png\" width=\"200\">"
   ]
  },
  {
   "cell_type": "markdown",
   "metadata": {},
   "source": [
    "## Le problème\n",
    "\n",
    "Les modèles linéaires sont intéressants en raison de leur interprétabilité. Ils donnent une approximation de phénomènes que l'on tente de comprendre.\n",
    "\n",
    "Lorsque l'on cherche à comprendre des phénomènes et déterminer des mécanismes explicatifs d'une variable de sortie, il peut être utile de réaliser une modélisation, notamment linéaire."
   ]
  },
  {
   "cell_type": "markdown",
   "metadata": {},
   "source": [
    "Pour chaque individu i (un individu correspond à une ligne) d'une base de données on a des informations $x^i_1, x^i_2,..., x^i_n$ et une valeur réelle $y^i$ que l'on cherche à approximer. \n",
    "\n",
    "On cherche un modèle permettant d'approximer une variable (output) $y^i$, grâce à les variables explicatives (features/input) $x^i_1, x^i_2,..., x^i_n$ par l'équation suivante :\n",
    "$$\\hat{y}^i = \\alpha_1x^i_1 + \\alpha_2x^i_2 + ... + \\alpha_nx^i_n$$\n",
    "\n",
    "Avec : \n",
    "- i : un individu i d'une base de données\n",
    "- $\\hat{y}^i$ l'approximation de $\\hat{y}$\n",
    "- $\\alpha_1, \\alpha_2,..., \\alpha_n$ des coefficients réels"
   ]
  },
  {
   "cell_type": "markdown",
   "metadata": {},
   "source": [
    "# Exemples d'application"
   ]
  },
  {
   "cell_type": "markdown",
   "metadata": {},
   "source": [
    "Lorsque l'on veut étudier l'effet d'une variable sur une autre il peut être intéressant d'avoir un modèle général d'explication de l'output pour estimer quelle influence va avoir la variable explicative d'intérêt tout en prenant en compte les autres facteurs explicatifs."
   ]
  },
  {
   "cell_type": "markdown",
   "metadata": {},
   "source": [
    "Imports"
   ]
  },
  {
   "cell_type": "code",
   "execution_count": 2,
   "metadata": {},
   "outputs": [
    {
     "data": {
      "text/html": [
       "<script type=\"text/javascript\">window.PlotlyConfig = {MathJaxConfig: 'local'};</script><script type=\"text/javascript\">if (window.MathJax) {MathJax.Hub.Config({SVG: {font: \"STIX-Web\"}});}</script><script>requirejs.config({paths: { 'plotly': ['https://cdn.plot.ly/plotly-latest.min']},});if(!window._Plotly) {require(['plotly'],function(plotly) {window._Plotly=plotly;});}</script>"
      ],
      "text/vnd.plotly.v1+html": [
       "<script type=\"text/javascript\">window.PlotlyConfig = {MathJaxConfig: 'local'};</script><script type=\"text/javascript\">if (window.MathJax) {MathJax.Hub.Config({SVG: {font: \"STIX-Web\"}});}</script><script>requirejs.config({paths: { 'plotly': ['https://cdn.plot.ly/plotly-latest.min']},});if(!window._Plotly) {require(['plotly'],function(plotly) {window._Plotly=plotly;});}</script>"
      ]
     },
     "metadata": {},
     "output_type": "display_data"
    }
   ],
   "source": [
    "get_ipython().magic(u'matplotlib inline')\n",
    "%run -i ../utils/credentials.py\n",
    "%run -i ../utils/imports.py\n",
    "%run -i ../utils/plots.py\n",
    "%run -i ../utils/stats.py\n",
    "\n",
    "import numpy as np"
   ]
  },
  {
   "cell_type": "markdown",
   "metadata": {},
   "source": [
    "Data"
   ]
  },
  {
   "cell_type": "code",
   "execution_count": 3,
   "metadata": {},
   "outputs": [],
   "source": [
    "data_path = \"../data/PUBG_train_sample.csv\"\n",
    "data_PUBG = pd.read_csv(data_path)\n",
    "data_PUBG = data_PUBG.sample(frac=0.01, replace=False, random_state=1234)\n",
    "data_PUBG_not_zero = data_PUBG[(data_PUBG[\"winPoints\"]!=0)&(data_PUBG[\"killPoints\"]!=0)]"
   ]
  },
  {
   "cell_type": "markdown",
   "metadata": {},
   "source": [
    "## I. Les moindres carrés ordinaires"
   ]
  },
  {
   "cell_type": "markdown",
   "metadata": {},
   "source": [
    "Avec les moindres carrés on tente de réaliser la meilleure approximation en choisissant des coefficient $\\hat{\\alpha_1}, \\hat{\\alpha_2},..., \\hat{\\alpha_n}$ qui vont minismiser l'erreur quadratique moyenne : \n",
    "$$\\frac{1}{n}\\sum_i(y^i-\\hat{y}^i)^2$$"
   ]
  },
  {
   "cell_type": "code",
   "execution_count": 4,
   "metadata": {
    "scrolled": true
   },
   "outputs": [
    {
     "data": {
      "text/plain": [
       "[<matplotlib.lines.Line2D at 0x1276e0ba8>]"
      ]
     },
     "execution_count": 4,
     "metadata": {},
     "output_type": "execute_result"
    },
    {
     "data": {
      "image/png": "[encoded data removed]",
      "text/plain": [
       "<Figure size 432x288 with 1 Axes>"
      ]
     },
     "metadata": {
      "needs_background": "light"
     },
     "output_type": "display_data"
    }
   ],
   "source": [
    "plt.scatter(data_PUBG[\"winPoints\"], data_PUBG[\"killPoints\"])\n",
    "plt.xlabel(\"x\", fontsize = 20)\n",
    "plt.ylabel(\"y\", fontsize = 20)\n",
    "plt.plot((1400,1700),(900,1900), c=\"r\")"
   ]
  },
  {
   "cell_type": "markdown",
   "metadata": {},
   "source": [
    "La solution des moindres carré existe et elle est analytique. Sous les hypothèses de Gauss-Markov elle a également la propriété d'être sans biais. Cela signifie que notre estimateur de $\\hat{\\alpha}$ vaut bien $\\alpha$ en moyenne.\n",
    "Ces conditions sont les suivantes : \n"
   ]
  },
  {
   "cell_type": "markdown",
   "metadata": {},
   "source": [
    "#### Hypothèses de Gauss-Markov.\n",
    "- Non colinéarité des variables explicatives : les variables explicatives ne sont pas des combinaisons linéaires des autres\n",
    "- Indépendance des erreurs : la valeur d'une erreur de dépend pas de celle d'une autre (ce qui est souvent faut pour les séries temporelles\n",
    "- Exogénéité : les variables sont indépendantes du terme d'erreur\n",
    "- Homoscédasticité : la variance des termes d'erreur est constante \n",
    "- Normalité des termes d'erreur : la distribution des termes d'erreur suit une loi normale"
   ]
  },
  {
   "cell_type": "markdown",
   "metadata": {},
   "source": [
    "# 2. Intérprétation du modèle"
   ]
  },
  {
   "cell_type": "markdown",
   "metadata": {},
   "source": [
    "__Les coefficient__\n",
    "Chaque coefficient $\\alpha_i$ donne l'effet de la variable $x_i$ sur l'output. Si $x_1$ augmente de 1 alors la variable $y$ augmente de $\\alpha_i$.\n",
    "\n",
    "__La qualité du modèle__\n",
    "Pour savoir si un modèle linéaire est bon, plusieurs points peuvent être vérifiés :\n",
    "- les hypothèses sont-elles respectées ?\n",
    "- l'ajustement est-il correct ?\n",
    "\n",
    "Pour répondre à la deuxième question on peut calculer la part de la variance (en d'autres termes un indicateur de la variation) de y"
   ]
  },
  {
   "cell_type": "markdown",
   "metadata": {},
   "source": [
    "##### Imports"
   ]
  },
  {
   "cell_type": "code",
   "execution_count": 5,
   "metadata": {},
   "outputs": [
    {
     "name": "stdout",
     "output_type": "stream",
     "text": [
      "-0.69955334723943\n",
      "0.825000858701489\n"
     ]
    }
   ],
   "source": [
    "x = data_PUBG[\"winPoints\"]\n",
    "y = data_PUBG[\"killPoints\"]\n",
    "slope, intercept, r_value, p_value, std_err = scs.linregress(x, y)\n",
    "\n",
    "print(intercept)\n",
    "print(slope)"
   ]
  },
  {
   "cell_type": "code",
   "execution_count": 24,
   "metadata": {},
   "outputs": [],
   "source": [
    "import statsmodels.api as sm\n",
    "x = data_PUBG[\"winPoints\"]\n",
    "x = sm.add_constant(x)\n",
    "y = data_PUBG[\"killPoints\"]\n",
    "\n",
    "MCO_model = sm.GLM(y, x)\n",
    "MCO_model = MCO_model.fit()"
   ]
  },
  {
   "cell_type": "code",
   "execution_count": 26,
   "metadata": {
    "scrolled": true
   },
   "outputs": [
    {
     "data": {
      "text/html": [
       "<table class=\"simpletable\">\n",
       "<caption>Generalized Linear Model Regression Results</caption>\n",
       "<tr>\n",
       "  <th>Dep. Variable:</th>     <td>killPoints</td>    <th>  No. Observations:  </th>   <td>  1000</td>  \n",
       "</tr>\n",
       "<tr>\n",
       "  <th>Model:</th>                 <td>GLM</td>       <th>  Df Residuals:      </th>   <td>   998</td>  \n",
       "</tr>\n",
       "<tr>\n",
       "  <th>Model Family:</th>       <td>Gaussian</td>     <th>  Df Model:          </th>   <td>     1</td>  \n",
       "</tr>\n",
       "<tr>\n",
       "  <th>Link Function:</th>      <td>identity</td>     <th>  Scale:             </th>  <td>  14006.</td> \n",
       "</tr>\n",
       "<tr>\n",
       "  <th>Method:</th>               <td>IRLS</td>       <th>  Log-Likelihood:    </th>  <td> -6191.6</td> \n",
       "</tr>\n",
       "<tr>\n",
       "  <th>Date:</th>           <td>Wed, 06 Nov 2019</td> <th>  Deviance:          </th> <td>1.3978e+07</td>\n",
       "</tr>\n",
       "<tr>\n",
       "  <th>Time:</th>               <td>19:10:41</td>     <th>  Pearson chi2:      </th>  <td>1.40e+07</td> \n",
       "</tr>\n",
       "<tr>\n",
       "  <th>No. Iterations:</th>         <td>3</td>        <th>  Covariance Type:   </th>  <td>nonrobust</td>\n",
       "</tr>\n",
       "</table>\n",
       "<table class=\"simpletable\">\n",
       "<tr>\n",
       "      <td></td>         <th>coef</th>     <th>std err</th>      <th>z</th>      <th>P>|z|</th>  <th>[0.025</th>    <th>0.975]</th>  \n",
       "</tr>\n",
       "<tr>\n",
       "  <th>const</th>     <td>   -0.6996</td> <td>    4.946</td> <td>   -0.141</td> <td> 0.888</td> <td>  -10.394</td> <td>    8.995</td>\n",
       "</tr>\n",
       "<tr>\n",
       "  <th>winPoints</th> <td>    0.8250</td> <td>    0.005</td> <td>  164.375</td> <td> 0.000</td> <td>    0.815</td> <td>    0.835</td>\n",
       "</tr>\n",
       "</table>"
      ],
      "text/plain": [
       "<class 'statsmodels.iolib.summary.Summary'>\n",
       "\"\"\"\n",
       "                 Generalized Linear Model Regression Results                  \n",
       "==============================================================================\n",
       "Dep. Variable:             killPoints   No. Observations:                 1000\n",
       "Model:                            GLM   Df Residuals:                      998\n",
       "Model Family:                Gaussian   Df Model:                            1\n",
       "Link Function:               identity   Scale:                          14006.\n",
       "Method:                          IRLS   Log-Likelihood:                -6191.6\n",
       "Date:                Wed, 06 Nov 2019   Deviance:                   1.3978e+07\n",
       "Time:                        19:10:41   Pearson chi2:                 1.40e+07\n",
       "No. Iterations:                     3   Covariance Type:             nonrobust\n",
       "==============================================================================\n",
       "                 coef    std err          z      P>|z|      [0.025      0.975]\n",
       "------------------------------------------------------------------------------\n",
       "const         -0.6996      4.946     -0.141      0.888     -10.394       8.995\n",
       "winPoints      0.8250      0.005    164.375      0.000       0.815       0.835\n",
       "==============================================================================\n",
       "\"\"\""
      ]
     },
     "execution_count": 26,
     "metadata": {},
     "output_type": "execute_result"
    }
   ],
   "source": [
    "MCO_model.summary()"
   ]
  },
  {
   "cell_type": "code",
   "execution_count": 8,
   "metadata": {},
   "outputs": [
    {
     "data": {
      "text/plain": [
       "const       -0.699553\n",
       "winPoints    0.825001\n",
       "dtype: float64"
      ]
     },
     "execution_count": 8,
     "metadata": {},
     "output_type": "execute_result"
    }
   ],
   "source": [
    "MCO_results.params"
   ]
  },
  {
   "cell_type": "code",
   "execution_count": 9,
   "metadata": {},
   "outputs": [
    {
     "data": {
      "text/plain": [
       "const        0.887532\n",
       "winPoints    0.000000\n",
       "dtype: float64"
      ]
     },
     "execution_count": 9,
     "metadata": {},
     "output_type": "execute_result"
    }
   ],
   "source": [
    "MCO_results.pvalues"
   ]
  },
  {
   "cell_type": "code",
   "execution_count": 10,
   "metadata": {},
   "outputs": [
    {
     "data": {
      "text/plain": [
       "[<matplotlib.lines.Line2D at 0x12d08ee80>]"
      ]
     },
     "execution_count": 10,
     "metadata": {},
     "output_type": "execute_result"
    },
    {
     "data": {
      "image/png": "[encoded data removed]",
      "text/plain": [
       "<Figure size 432x288 with 1 Axes>"
      ]
     },
     "metadata": {
      "needs_background": "light"
     },
     "output_type": "display_data"
    }
   ],
   "source": [
    "plt.scatter(data_PUBG[\"winPoints\"], data_PUBG[\"killPoints\"])\n",
    "\n",
    "# With all the data\n",
    "x = data_PUBG[\"winPoints\"]\n",
    "x = sm.add_constant(x)\n",
    "y = data_PUBG[\"killPoints\"]\n",
    "MCO_model = sm.GLM(y, x)\n",
    "MCO_results = MCO_model.fit()\n",
    "\n",
    "# With only non zero value\n",
    "x_not_zero = data_PUBG_not_zero[\"winPoints\"]\n",
    "x_not_zero = sm.add_constant(x_not_zero)\n",
    "y_not_zero = data_PUBG_not_zero[\"killPoints\"]\n",
    "MCO_model_not_zero = sm.GLM(y_not_zero, x_not_zero)\n",
    "MCO_results_not_zero = MCO_model_not_zero.fit()\n",
    "\n",
    "\n",
    "x_plot = np.linspace(0,1800)\n",
    "y_plot = MCO_results.params.const + MCO_results.params.winPoints*x_plot\n",
    "plt.plot(x_plot, y_plot, c = \"r\")\n",
    "\n",
    "x_plot_not_zero = np.linspace(0,1800)\n",
    "y_plot_not_zero = MCO_results_not_zero.params.const + MCO_results_not_zero.params.winPoints*x_plot\n",
    "plt.plot(x_plot_not_zero, y_plot_not_zero, c = \"g\")"
   ]
  },
  {
   "cell_type": "code",
   "execution_count": 11,
   "metadata": {},
   "outputs": [
    {
     "data": {
      "text/plain": [
       "572"
      ]
     },
     "execution_count": 11,
     "metadata": {},
     "output_type": "execute_result"
    }
   ],
   "source": [
    "len(data_PUBG) - len(data_PUBG_not_zero)"
   ]
  },
  {
   "cell_type": "code",
   "execution_count": 12,
   "metadata": {},
   "outputs": [
    {
     "data": {
      "text/plain": [
       "1000"
      ]
     },
     "execution_count": 12,
     "metadata": {},
     "output_type": "execute_result"
    }
   ],
   "source": [
    "len(data_PUBG)"
   ]
  },
  {
   "cell_type": "code",
   "execution_count": 13,
   "metadata": {
    "scrolled": true
   },
   "outputs": [
    {
     "data": {
      "text/html": [
       "<table class=\"simpletable\">\n",
       "<caption>Generalized Linear Model Regression Results</caption>\n",
       "<tr>\n",
       "  <th>Dep. Variable:</th>     <td>killPoints</td>    <th>  No. Observations:  </th>   <td>   428</td>  \n",
       "</tr>\n",
       "<tr>\n",
       "  <th>Model:</th>                 <td>GLM</td>       <th>  Df Residuals:      </th>   <td>   426</td>  \n",
       "</tr>\n",
       "<tr>\n",
       "  <th>Model Family:</th>       <td>Gaussian</td>     <th>  Df Model:          </th>   <td>     1</td>  \n",
       "</tr>\n",
       "<tr>\n",
       "  <th>Link Function:</th>      <td>identity</td>     <th>  Scale:             </th>  <td>  32001.</td> \n",
       "</tr>\n",
       "<tr>\n",
       "  <th>Method:</th>               <td>IRLS</td>       <th>  Log-Likelihood:    </th>  <td> -2826.2</td> \n",
       "</tr>\n",
       "<tr>\n",
       "  <th>Date:</th>           <td>Wed, 06 Nov 2019</td> <th>  Deviance:          </th> <td>1.3633e+07</td>\n",
       "</tr>\n",
       "<tr>\n",
       "  <th>Time:</th>               <td>19:07:32</td>     <th>  Pearson chi2:      </th>  <td>1.36e+07</td> \n",
       "</tr>\n",
       "<tr>\n",
       "  <th>No. Iterations:</th>         <td>3</td>        <th>  Covariance Type:   </th>  <td>nonrobust</td>\n",
       "</tr>\n",
       "</table>\n",
       "<table class=\"simpletable\">\n",
       "<tr>\n",
       "      <td></td>         <th>coef</th>     <th>std err</th>      <th>z</th>      <th>P>|z|</th>  <th>[0.025</th>    <th>0.975]</th>  \n",
       "</tr>\n",
       "<tr>\n",
       "  <th>const</th>     <td> -863.9953</td> <td>  262.757</td> <td>   -3.288</td> <td> 0.001</td> <td>-1378.990</td> <td> -349.001</td>\n",
       "</tr>\n",
       "<tr>\n",
       "  <th>winPoints</th> <td>    1.3978</td> <td>    0.174</td> <td>    8.014</td> <td> 0.000</td> <td>    1.056</td> <td>    1.740</td>\n",
       "</tr>\n",
       "</table>"
      ],
      "text/plain": [
       "<class 'statsmodels.iolib.summary.Summary'>\n",
       "\"\"\"\n",
       "                 Generalized Linear Model Regression Results                  \n",
       "==============================================================================\n",
       "Dep. Variable:             killPoints   No. Observations:                  428\n",
       "Model:                            GLM   Df Residuals:                      426\n",
       "Model Family:                Gaussian   Df Model:                            1\n",
       "Link Function:               identity   Scale:                          32001.\n",
       "Method:                          IRLS   Log-Likelihood:                -2826.2\n",
       "Date:                Wed, 06 Nov 2019   Deviance:                   1.3633e+07\n",
       "Time:                        19:07:32   Pearson chi2:                 1.36e+07\n",
       "No. Iterations:                     3   Covariance Type:             nonrobust\n",
       "==============================================================================\n",
       "                 coef    std err          z      P>|z|      [0.025      0.975]\n",
       "------------------------------------------------------------------------------\n",
       "const       -863.9953    262.757     -3.288      0.001   -1378.990    -349.001\n",
       "winPoints      1.3978      0.174      8.014      0.000       1.056       1.740\n",
       "==============================================================================\n",
       "\"\"\""
      ]
     },
     "execution_count": 13,
     "metadata": {},
     "output_type": "execute_result"
    }
   ],
   "source": [
    "MCO_results_not_zero.summary()"
   ]
  },
  {
   "cell_type": "code",
   "execution_count": 14,
   "metadata": {},
   "outputs": [],
   "source": [
    "# With only non zero value\n",
    "x_not_zero = data_PUBG_not_zero[\"winPoints\"]\n",
    "x_not_zero = sm.add_constant(x_not_zero)\n",
    "y_not_zero = data_PUBG_not_zero[\"killPoints\"]\n",
    "MCO_model_not_zero = sm.GLM(y_not_zero, x_not_zero)\n",
    "MCO_results_not_zero = MCO_model_not_zero.fit()\n",
    "\n",
    "# With only non zero value\n",
    "x_not_zero_two_X = data_PUBG_not_zero[[\"winPoints\",\"winPoints\"]]\n",
    "x_not_zero_two_X = sm.add_constant(x_not_zero_two_X)\n",
    "MCO_model_not_zero_two_X = sm.GLM(y_not_zero, x_not_zero_two_X)\n",
    "MCO_results_not_zero_two_X = MCO_model_not_zero_two_X.fit()"
   ]
  },
  {
   "cell_type": "code",
   "execution_count": 15,
   "metadata": {},
   "outputs": [
    {
     "data": {
      "text/html": [
       "<table class=\"simpletable\">\n",
       "<caption>Generalized Linear Model Regression Results</caption>\n",
       "<tr>\n",
       "  <th>Dep. Variable:</th>     <td>killPoints</td>    <th>  No. Observations:  </th>   <td>   428</td>  \n",
       "</tr>\n",
       "<tr>\n",
       "  <th>Model:</th>                 <td>GLM</td>       <th>  Df Residuals:      </th>   <td>   426</td>  \n",
       "</tr>\n",
       "<tr>\n",
       "  <th>Model Family:</th>       <td>Gaussian</td>     <th>  Df Model:          </th>   <td>     1</td>  \n",
       "</tr>\n",
       "<tr>\n",
       "  <th>Link Function:</th>      <td>identity</td>     <th>  Scale:             </th>  <td>  32001.</td> \n",
       "</tr>\n",
       "<tr>\n",
       "  <th>Method:</th>               <td>IRLS</td>       <th>  Log-Likelihood:    </th>  <td> -2826.2</td> \n",
       "</tr>\n",
       "<tr>\n",
       "  <th>Date:</th>           <td>Wed, 06 Nov 2019</td> <th>  Deviance:          </th> <td>1.3633e+07</td>\n",
       "</tr>\n",
       "<tr>\n",
       "  <th>Time:</th>               <td>19:07:33</td>     <th>  Pearson chi2:      </th>  <td>1.36e+07</td> \n",
       "</tr>\n",
       "<tr>\n",
       "  <th>No. Iterations:</th>         <td>3</td>        <th>  Covariance Type:   </th>  <td>nonrobust</td>\n",
       "</tr>\n",
       "</table>\n",
       "<table class=\"simpletable\">\n",
       "<tr>\n",
       "      <td></td>         <th>coef</th>     <th>std err</th>      <th>z</th>      <th>P>|z|</th>  <th>[0.025</th>    <th>0.975]</th>  \n",
       "</tr>\n",
       "<tr>\n",
       "  <th>const</th>     <td> -863.9953</td> <td>  262.757</td> <td>   -3.288</td> <td> 0.001</td> <td>-1378.990</td> <td> -349.001</td>\n",
       "</tr>\n",
       "<tr>\n",
       "  <th>winPoints</th> <td>    0.6989</td> <td>    0.087</td> <td>    8.014</td> <td> 0.000</td> <td>    0.528</td> <td>    0.870</td>\n",
       "</tr>\n",
       "<tr>\n",
       "  <th>winPoints</th> <td>    0.6989</td> <td>    0.087</td> <td>    8.014</td> <td> 0.000</td> <td>    0.528</td> <td>    0.870</td>\n",
       "</tr>\n",
       "</table>"
      ],
      "text/plain": [
       "<class 'statsmodels.iolib.summary.Summary'>\n",
       "\"\"\"\n",
       "                 Generalized Linear Model Regression Results                  \n",
       "==============================================================================\n",
       "Dep. Variable:             killPoints   No. Observations:                  428\n",
       "Model:                            GLM   Df Residuals:                      426\n",
       "Model Family:                Gaussian   Df Model:                            1\n",
       "Link Function:               identity   Scale:                          32001.\n",
       "Method:                          IRLS   Log-Likelihood:                -2826.2\n",
       "Date:                Wed, 06 Nov 2019   Deviance:                   1.3633e+07\n",
       "Time:                        19:07:33   Pearson chi2:                 1.36e+07\n",
       "No. Iterations:                     3   Covariance Type:             nonrobust\n",
       "==============================================================================\n",
       "                 coef    std err          z      P>|z|      [0.025      0.975]\n",
       "------------------------------------------------------------------------------\n",
       "const       -863.9953    262.757     -3.288      0.001   -1378.990    -349.001\n",
       "winPoints      0.6989      0.087      8.014      0.000       0.528       0.870\n",
       "winPoints      0.6989      0.087      8.014      0.000       0.528       0.870\n",
       "==============================================================================\n",
       "\"\"\""
      ]
     },
     "execution_count": 15,
     "metadata": {},
     "output_type": "execute_result"
    }
   ],
   "source": [
    "MCO_results_not_zero_two_X.summary()"
   ]
  },
  {
   "cell_type": "code",
   "execution_count": 16,
   "metadata": {
    "scrolled": true
   },
   "outputs": [
    {
     "data": {
      "text/html": [
       "<table class=\"simpletable\">\n",
       "<caption>Generalized Linear Model Regression Results</caption>\n",
       "<tr>\n",
       "  <th>Dep. Variable:</th>     <td>killPoints</td>    <th>  No. Observations:  </th>   <td>   428</td>  \n",
       "</tr>\n",
       "<tr>\n",
       "  <th>Model:</th>                 <td>GLM</td>       <th>  Df Residuals:      </th>   <td>   426</td>  \n",
       "</tr>\n",
       "<tr>\n",
       "  <th>Model Family:</th>       <td>Gaussian</td>     <th>  Df Model:          </th>   <td>     1</td>  \n",
       "</tr>\n",
       "<tr>\n",
       "  <th>Link Function:</th>      <td>identity</td>     <th>  Scale:             </th>  <td>  32001.</td> \n",
       "</tr>\n",
       "<tr>\n",
       "  <th>Method:</th>               <td>IRLS</td>       <th>  Log-Likelihood:    </th>  <td> -2826.2</td> \n",
       "</tr>\n",
       "<tr>\n",
       "  <th>Date:</th>           <td>Wed, 06 Nov 2019</td> <th>  Deviance:          </th> <td>1.3633e+07</td>\n",
       "</tr>\n",
       "<tr>\n",
       "  <th>Time:</th>               <td>19:07:33</td>     <th>  Pearson chi2:      </th>  <td>1.36e+07</td> \n",
       "</tr>\n",
       "<tr>\n",
       "  <th>No. Iterations:</th>         <td>3</td>        <th>  Covariance Type:   </th>  <td>nonrobust</td>\n",
       "</tr>\n",
       "</table>\n",
       "<table class=\"simpletable\">\n",
       "<tr>\n",
       "      <td></td>         <th>coef</th>     <th>std err</th>      <th>z</th>      <th>P>|z|</th>  <th>[0.025</th>    <th>0.975]</th>  \n",
       "</tr>\n",
       "<tr>\n",
       "  <th>const</th>     <td> -863.9953</td> <td>  262.757</td> <td>   -3.288</td> <td> 0.001</td> <td>-1378.990</td> <td> -349.001</td>\n",
       "</tr>\n",
       "<tr>\n",
       "  <th>winPoints</th> <td>    1.3978</td> <td>    0.174</td> <td>    8.014</td> <td> 0.000</td> <td>    1.056</td> <td>    1.740</td>\n",
       "</tr>\n",
       "</table>"
      ],
      "text/plain": [
       "<class 'statsmodels.iolib.summary.Summary'>\n",
       "\"\"\"\n",
       "                 Generalized Linear Model Regression Results                  \n",
       "==============================================================================\n",
       "Dep. Variable:             killPoints   No. Observations:                  428\n",
       "Model:                            GLM   Df Residuals:                      426\n",
       "Model Family:                Gaussian   Df Model:                            1\n",
       "Link Function:               identity   Scale:                          32001.\n",
       "Method:                          IRLS   Log-Likelihood:                -2826.2\n",
       "Date:                Wed, 06 Nov 2019   Deviance:                   1.3633e+07\n",
       "Time:                        19:07:33   Pearson chi2:                 1.36e+07\n",
       "No. Iterations:                     3   Covariance Type:             nonrobust\n",
       "==============================================================================\n",
       "                 coef    std err          z      P>|z|      [0.025      0.975]\n",
       "------------------------------------------------------------------------------\n",
       "const       -863.9953    262.757     -3.288      0.001   -1378.990    -349.001\n",
       "winPoints      1.3978      0.174      8.014      0.000       1.056       1.740\n",
       "==============================================================================\n",
       "\"\"\""
      ]
     },
     "execution_count": 16,
     "metadata": {},
     "output_type": "execute_result"
    }
   ],
   "source": [
    " MCO_results_not_zero.summary()"
   ]
  },
  {
   "cell_type": "markdown",
   "metadata": {},
   "source": [
    "# 3. Qualité des résultats"
   ]
  },
  {
   "cell_type": "markdown",
   "metadata": {},
   "source": [
    "## 3.1 Le coefficient de détermination $R^2$"
   ]
  },
  {
   "cell_type": "markdown",
   "metadata": {},
   "source": [
    "Le $R^2$ est une première mesure de qualité du modèle qui donne une bonne idée de la qualité de la régression."
   ]
  },
  {
   "cell_type": "markdown",
   "metadata": {},
   "source": [
    "Calcul du $R^2$ : \n",
    "$$R^2 = \\frac{SSR}{SST}$$ \n",
    "- $SSR$ (regression sum of squares) $= \\sum_i(\\hat{y_i} - \\bar{y})^2$\n",
    "- $SST$ (total sum of squares) $= \\sum_i(y_i - \\bar{y})^2$\n",
    "\n",
    "Intuitivement le coefficient de détermination donne le rapport de la variance expliquée par le modèle ($\\frac{SSR}{n}$, variation de $\\hat{y}$) sur la variance totale ($\\frac{SST}{n}$, variation de $y$), c'est-à-dire la part de variance expliquée par le modèle."
   ]
  },
  {
   "cell_type": "code",
   "execution_count": 36,
   "metadata": {},
   "outputs": [],
   "source": [
    "def compute_R_square(y,y_hat):\n",
    "    SSR = np.sum((y_hat - np.mean(y_hat))**2)\n",
    "    SST = np.sum((y - np.mean(y_hat))**2)\n",
    "    return SSR/SST"
   ]
  },
  {
   "cell_type": "code",
   "execution_count": 33,
   "metadata": {},
   "outputs": [
    {
     "data": {
      "text/plain": [
       "0.9643790495829452"
      ]
     },
     "execution_count": 33,
     "metadata": {},
     "output_type": "execute_result"
    }
   ],
   "source": [
    "from sklearn.metrics import r2_score\n",
    "r2_score(y, MCO_results.predict(x))"
   ]
  },
  {
   "cell_type": "code",
   "execution_count": 37,
   "metadata": {
    "scrolled": true
   },
   "outputs": [
    {
     "data": {
      "text/plain": [
       "0.9643790495829442"
      ]
     },
     "execution_count": 37,
     "metadata": {},
     "output_type": "execute_result"
    }
   ],
   "source": [
    "compute_R_square(y, MCO_results.predict(x))"
   ]
  },
  {
   "cell_type": "code",
   "execution_count": 45,
   "metadata": {},
   "outputs": [
    {
     "data": {
      "text/plain": [
       "0.13099831840193663"
      ]
     },
     "execution_count": 45,
     "metadata": {},
     "output_type": "execute_result"
    }
   ],
   "source": [
    "compute_R_square(y_not_zero, MCO_results_not_zero.predict(x_not_zero))"
   ]
  },
  {
   "cell_type": "markdown",
   "metadata": {},
   "source": [
    "## 3.2 Le coefficient de détermination ajusté $\\bar{R}^2$"
   ]
  },
  {
   "cell_type": "markdown",
   "metadata": {},
   "source": [
    "$$\\bar{R}^2= 1 - (1-R^2)\\times \\big(\\frac{n-1}{n-p-1}\\big)$$\n",
    "\n",
    "Avec :\n",
    "- $n$ : la taille de l'échantillon ($i \\in [1,...,n]$)\n",
    "- $p$ : le nombre de variables explicatives (hors cnostante)"
   ]
  },
  {
   "cell_type": "code",
   "execution_count": 40,
   "metadata": {},
   "outputs": [],
   "source": [
    "def adjusted_R_square(y,y_hat, n, p):\n",
    "    r2 = compute_R_square(y,y_hat)\n",
    "    adj_r2 = 1 - (1-r2)*(n-1)/(n-p-1)\n",
    "    return adj_r2"
   ]
  },
  {
   "cell_type": "code",
   "execution_count": 41,
   "metadata": {},
   "outputs": [
    {
     "data": {
      "text/plain": [
       "0.9599264307808122"
      ]
     },
     "execution_count": 41,
     "metadata": {},
     "output_type": "execute_result"
    }
   ],
   "source": [
    "adjusted_R_square(y,MCO_results.predict(x), 10, 1)"
   ]
  },
  {
   "cell_type": "markdown",
   "metadata": {},
   "source": [
    "<center> <h1>Take away</h1> </center>\n",
    "\n",
    "<img src=\"../images/coffee.png\" width=\"200\">\n",
    "\n",
    "\n",
    "__Expresso__ : \n",
    "\n",
    "* point 1\n",
    "* point 2\n",
    "\n",
    "__Sugar Story__ :\n",
    "\n",
    "* point 1\n",
    "* point 2"
   ]
  },
  {
   "cell_type": "markdown",
   "metadata": {},
   "source": [
    "# Get more on my github <img src=\"../images/github.png\" width=\"100\">\n",
    "https://github.com/JJublanc/statistics_tools"
   ]
  },
  {
   "cell_type": "code",
   "execution_count": null,
   "metadata": {},
   "outputs": [],
   "source": []
  }
 ],
 "metadata": {
  "celltoolbar": "Format de la Cellule Texte Brut",
  "kernelspec": {
   "display_name": "Python 3",
   "language": "python",
   "name": "python3"
  },
  "language_info": {
   "codemirror_mode": {
    "name": "ipython",
    "version": 3
   },
   "file_extension": ".py",
   "mimetype": "text/x-python",
   "name": "python",
   "nbconvert_exporter": "python",
   "pygments_lexer": "ipython3",
   "version": "3.7.1"
  }
 },
 "nbformat": 4,
 "nbformat_minor": 2
}
