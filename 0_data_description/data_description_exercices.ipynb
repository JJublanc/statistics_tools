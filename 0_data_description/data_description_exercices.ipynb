{
 "cells": [
  {
   "cell_type": "markdown",
   "metadata": {},
   "source": [
    "# <center> <h1>Data description - exercices </h1> </center>\n",
    "\n",
    "<img src=\"../images/description.png\" width=\"200\">"
   ]
  },
  {
   "cell_type": "markdown",
   "metadata": {},
   "source": [
    "Source de données : https://www.kaggle.com/c/pubg-finish-placement-prediction/data"
   ]
  },
  {
   "cell_type": "code",
   "execution_count": 1,
   "metadata": {},
   "outputs": [
    {
     "data": {
      "text/html": [
       "        <script type=\"text/javascript\">\n",
       "        window.PlotlyConfig = {MathJaxConfig: 'local'};\n",
       "        if (window.MathJax) {MathJax.Hub.Config({SVG: {font: \"STIX-Web\"}});}\n",
       "        if (typeof require !== 'undefined') {\n",
       "        require.undef(\"plotly\");\n",
       "        requirejs.config({\n",
       "            paths: {\n",
       "                'plotly': ['https://cdn.plot.ly/plotly-latest.min']\n",
       "            }\n",
       "        });\n",
       "        require(['plotly'], function(Plotly) {\n",
       "            window._Plotly = Plotly;\n",
       "        });\n",
       "        }\n",
       "        </script>\n",
       "        "
      ]
     },
     "metadata": {},
     "output_type": "display_data"
    }
   ],
   "source": [
    "get_ipython().magic(u'matplotlib inline')\n",
    "%run -i ../utils/credentials.py\n",
    "%run -i ../utils/imports.py"
   ]
  },
  {
   "cell_type": "code",
   "execution_count": 2,
   "metadata": {},
   "outputs": [],
   "source": [
    "data_path = \"../data/PUBG_train_sample.csv\""
   ]
  },
  {
   "cell_type": "code",
   "execution_count": 3,
   "metadata": {},
   "outputs": [],
   "source": [
    "data_PUBG = pd.read_csv(data_path)"
   ]
  },
  {
   "cell_type": "markdown",
   "metadata": {
    "slideshow": {
     "slide_type": "-"
    }
   },
   "source": [
    "Dans une partie PUBG (PlayerUnknown's Battlegrounds), jusqu'à 100 joueurs commencent à chaque match (matchId). Les joueurs peuvent faire partie d'équipes (groupId) classées à la fin du jeu (winPlacePerc) en fonction du nombre d'équipes encore en vie au moment de leur élimination. Dans le jeu, les joueurs peuvent choisir différentes munitions, raviver leurs coéquipiers morts au combat, conduire des véhicules, nager, courir, tirer et en subir toutes les conséquences, telles que tomber trop loin ou se renverser se débarrasser d'eux-mêmes.\n",
    "\n",
    "La table de données regroupe des informations relatives à des parties de jeux PUBG anonymisées. Chaque ligne contient les résultats d'un joueur après la partie. Les données proviennent de tous types de partie : solos, duos, squads et custom."
   ]
  },
  {
   "cell_type": "code",
   "execution_count": 4,
   "metadata": {},
   "outputs": [
    {
     "data": {
      "text/plain": [
       "Index(['Id', 'groupId', 'matchId', 'assists', 'boosts', 'damageDealt', 'DBNOs',\n",
       "       'headshotKills', 'heals', 'killPlace', 'killPoints', 'kills',\n",
       "       'killStreaks', 'longestKill', 'matchDuration', 'matchType', 'maxPlace',\n",
       "       'numGroups', 'rankPoints', 'revives', 'rideDistance', 'roadKills',\n",
       "       'swimDistance', 'teamKills', 'vehicleDestroys', 'walkDistance',\n",
       "       'weaponsAcquired', 'winPoints', 'winPlacePerc'],\n",
       "      dtype='object')"
      ]
     },
     "execution_count": 4,
     "metadata": {},
     "output_type": "execute_result"
    }
   ],
   "source": [
    "data_PUBG.columns"
   ]
  },
  {
   "cell_type": "markdown",
   "metadata": {},
   "source": [
    "# Description des variables 'teamKills' et 'vehicleDestroys'"
   ]
  },
  {
   "cell_type": "markdown",
   "metadata": {},
   "source": [
    "###### Quelle est la moyenne des 'teamKills' et 'vehicleDestroys' ?"
   ]
  },
  {
   "cell_type": "code",
   "execution_count": 5,
   "metadata": {},
   "outputs": [],
   "source": [
    "cols = ['teamKills', 'vehicleDestroys']"
   ]
  },
  {
   "cell_type": "code",
   "execution_count": 6,
   "metadata": {},
   "outputs": [
    {
     "data": {
      "text/plain": [
       "teamKills          0.02370\n",
       "vehicleDestroys    0.00785\n",
       "dtype: float64"
      ]
     },
     "execution_count": 6,
     "metadata": {},
     "output_type": "execute_result"
    }
   ],
   "source": [
    "data_PUBG[cols].mean()"
   ]
  },
  {
   "cell_type": "markdown",
   "metadata": {},
   "source": [
    "###### Comment interpréter ces moyennes ?"
   ]
  },
  {
   "cell_type": "markdown",
   "metadata": {},
   "source": [
    "Il semble qu'en général les joueurs ne détruisent pas de véhicule et ne tuent pas de membres de leur équipe."
   ]
  },
  {
   "cell_type": "markdown",
   "metadata": {},
   "source": [
    "###### Connaissez_vous un autre indicateur de tendance centrale qui pourrait confirmer cela ? Quel est sa définition ?"
   ]
  },
  {
   "cell_type": "markdown",
   "metadata": {},
   "source": [
    "La médiane est un indicateur de tendance centrale qui n'est pas sensible aux valeurs extrêmes. C'est la valeur telle que la moitié des  (𝑥1,...,𝑥𝑛) sont supérieurs à la médiane et l'autre moitié ont une valeur inférieure."
   ]
  },
  {
   "cell_type": "code",
   "execution_count": 7,
   "metadata": {
    "scrolled": true
   },
   "outputs": [
    {
     "data": {
      "text/plain": [
       "teamKills          0.0\n",
       "vehicleDestroys    0.0\n",
       "dtype: float64"
      ]
     },
     "execution_count": 7,
     "metadata": {},
     "output_type": "execute_result"
    }
   ],
   "source": [
    "data_PUBG[cols].median()"
   ]
  },
  {
   "cell_type": "markdown",
   "metadata": {},
   "source": [
    "La médiane confirme qu'au moins la moitier des joueurs n'ont tué aucun de leurs coéquipier au cours de la partie."
   ]
  },
  {
   "cell_type": "markdown",
   "metadata": {},
   "source": [
    "###### Quels indicateurs nous permettrait d'affiner notre compréhension de ces variables ? Que nous disent-ils ?"
   ]
  },
  {
   "cell_type": "markdown",
   "metadata": {},
   "source": [
    "Ici on peut utiliser les quantiles (comme les quartiles sauf que l'on découpe les données en n classes)."
   ]
  },
  {
   "cell_type": "code",
   "execution_count": 8,
   "metadata": {},
   "outputs": [
    {
     "data": {
      "text/html": [
       "<div>\n",
       "<style scoped>\n",
       "    .dataframe tbody tr th:only-of-type {\n",
       "        vertical-align: middle;\n",
       "    }\n",
       "\n",
       "    .dataframe tbody tr th {\n",
       "        vertical-align: top;\n",
       "    }\n",
       "\n",
       "    .dataframe thead th {\n",
       "        text-align: right;\n",
       "    }\n",
       "</style>\n",
       "<table border=\"1\" class=\"dataframe\">\n",
       "  <thead>\n",
       "    <tr style=\"text-align: right;\">\n",
       "      <th></th>\n",
       "      <th>quantiles</th>\n",
       "      <th>valeurs</th>\n",
       "    </tr>\n",
       "  </thead>\n",
       "  <tbody>\n",
       "    <tr>\n",
       "      <th>98</th>\n",
       "      <td>0.98</td>\n",
       "      <td>1.0</td>\n",
       "    </tr>\n",
       "    <tr>\n",
       "      <th>99</th>\n",
       "      <td>0.99</td>\n",
       "      <td>1.0</td>\n",
       "    </tr>\n",
       "    <tr>\n",
       "      <th>100</th>\n",
       "      <td>1.00</td>\n",
       "      <td>5.0</td>\n",
       "    </tr>\n",
       "  </tbody>\n",
       "</table>\n",
       "</div>"
      ],
      "text/plain": [
       "     quantiles  valeurs\n",
       "98        0.98      1.0\n",
       "99        0.99      1.0\n",
       "100       1.00      5.0"
      ]
     },
     "execution_count": 8,
     "metadata": {},
     "output_type": "execute_result"
    }
   ],
   "source": [
    "var = 'teamKills'\n",
    "n = 100 # nombre de classe\n",
    "q = [ii/(n) for ii in range(n+1)] # découpage de l'intervalle [0,1] en n classes\n",
    "\n",
    "q_values = np.quantile(data_PUBG[var],q=q)\n",
    "Quantiles = pd.DataFrame({\"quantiles\":q, \"valeurs\":q_values})\n",
    "\n",
    "Quantiles[Quantiles[\"valeurs\"]>0] # on ne retourne que les valeurs positives"
   ]
  },
  {
   "cell_type": "markdown",
   "metadata": {},
   "source": [
    "Environ 2% des joueurs ont tué un membre de leur équipe pendant la partie. Et si certains ont tué plus d'1 membre de leur équipe, ils sont moins de 1% dans ce cas. Au moins 1 joueur a tué 9 membres de son équipe."
   ]
  },
  {
   "cell_type": "markdown",
   "metadata": {},
   "source": [
    "# Description de la variable 'walkDistance'"
   ]
  },
  {
   "cell_type": "markdown",
   "metadata": {},
   "source": [
    "###### Quelles est l'ordre de grandeur de la distance parcourue à pieds par un joueur lors d'une partie ? Comment estimer si les joueurs ont des stratégies de déplacement à pied très différentes ?"
   ]
  },
  {
   "cell_type": "markdown",
   "metadata": {},
   "source": [
    "Pour la distance parcourue à pied il est pertinent d'utiliser la moyenne et l'écart-type. On peut également contrôler avec la médiane si la moyenne n'est pas \"perturbée\" par quelques valeurs extrêmes."
   ]
  },
  {
   "cell_type": "code",
   "execution_count": 9,
   "metadata": {
    "scrolled": false
   },
   "outputs": [
    {
     "data": {
      "text/plain": [
       "(1152.4796119880004, 682.3499999999999, 1183.0346755899054)"
      ]
     },
     "execution_count": 9,
     "metadata": {},
     "output_type": "execute_result"
    }
   ],
   "source": [
    "col = 'walkDistance'\n",
    "data_PUBG[col].mean(), data_PUBG[col].median(), data_PUBG[col].std()"
   ]
  },
  {
   "cell_type": "markdown",
   "metadata": {},
   "source": [
    "Les joueurs marchent aux alentours de 1,1km par partie. Mais la motier d'entre eux ne se déplace de pas plus que 680m. De plus, cette variable présente un écart-type très élevé (ordre de grandeur de la moyenne). Il y a donc des comportement très variés. On peut par exemple se dire que certains sont très mobiles, alors que d'autres restent \"en blanque\" ou ont choisi d'utiliser un véhicule ou de nager (!!)."
   ]
  },
  {
   "cell_type": "markdown",
   "metadata": {},
   "source": [
    "## Description assist"
   ]
  },
  {
   "cell_type": "markdown",
   "metadata": {},
   "source": [
    "###### Certaines variables quantitatives peuvent être vue comme des variables qualitatives en raison du nombre réduit de valeurs qu'elles prennent. Décrivez la variable 'assist' comme une variable qualitative."
   ]
  },
  {
   "cell_type": "code",
   "execution_count": 10,
   "metadata": {},
   "outputs": [],
   "source": [
    "var = \"assists\""
   ]
  },
  {
   "cell_type": "code",
   "execution_count": 11,
   "metadata": {},
   "outputs": [],
   "source": [
    "x = data_PUBG.groupby(var).Id.count().index\n",
    "y = data_PUBG.groupby(var).Id.count()/len(data_PUBG)"
   ]
  },
  {
   "cell_type": "code",
   "execution_count": 12,
   "metadata": {},
   "outputs": [
    {
     "data": {
      "text/plain": [
       "<BarContainer object of 13 artists>"
      ]
     },
     "execution_count": 12,
     "metadata": {},
     "output_type": "execute_result"
    },
    {
     "data": {
      "image/png": "[encoded data removed]",
      "text/plain": [
       "<Figure size 432x288 with 1 Axes>"
      ]
     },
     "metadata": {
      "needs_background": "light"
     },
     "output_type": "display_data"
    }
   ],
   "source": [
    "import matplotlib.pyplot as plt\n",
    "plt.bar(x, round(y,2))"
   ]
  },
  {
   "cell_type": "markdown",
   "metadata": {},
   "source": [
    "###### Que peut-on en conclure ?"
   ]
  },
  {
   "cell_type": "markdown",
   "metadata": {},
   "source": [
    "Plus de 80% des joueurs ne portent pas assistance à un coéquipier lors d'une partie. Ce qui le font trois fois ou plus sont raricimes."
   ]
  },
  {
   "cell_type": "markdown",
   "metadata": {},
   "source": [
    "# Corrélation entre les distances parcourues"
   ]
  },
  {
   "cell_type": "markdown",
   "metadata": {},
   "source": [
    "###### Existe-il un lien entre la distance parcourue à pied et celle parcourue en véhicule ?"
   ]
  },
  {
   "cell_type": "code",
   "execution_count": 13,
   "metadata": {},
   "outputs": [],
   "source": [
    "data_PUBG.columns\n",
    "x = data_PUBG[\"walkDistance\"]\n",
    "y = data_PUBG[\"rideDistance\"]"
   ]
  },
  {
   "cell_type": "code",
   "execution_count": 14,
   "metadata": {},
   "outputs": [
    {
     "data": {
      "text/plain": [
       "array([[1.        , 0.31027131],\n",
       "       [0.31027131, 1.        ]])"
      ]
     },
     "execution_count": 14,
     "metadata": {},
     "output_type": "execute_result"
    }
   ],
   "source": [
    "np.corrcoef(x,y)"
   ]
  },
  {
   "cell_type": "markdown",
   "metadata": {},
   "source": [
    "Il existe un lien linéaire positif modéré entre les variables. Les joueurs mobiles avec un véhicule aurait une propention à marcher un peu plus que la moyenne, sans que ce constat soit vraiment très marqué.\n",
    "Cela ne veut pas dire qu'il n'y a pas une relation non-linéaire plus forte entre ces variables qui ne serait pas captée par les coefficients de corrélation."
   ]
  },
  {
   "cell_type": "markdown",
   "metadata": {},
   "source": [
    "# Get more on my github <img src=\"../images/github.png\" width=\"100\">\n",
    "https://github.com/JJublanc/statistics_tools"
   ]
  },
  {
   "cell_type": "code",
   "execution_count": 16,
   "metadata": {},
   "outputs": [],
   "source": [
    "# convert to slides\n",
    "# jupyter nbconvert --to slides data_description_exercices.ipynb --post serve "
   ]
  }
 ],
 "metadata": {
  "celltoolbar": "Format de la Cellule Texte Brut",
  "kernelspec": {
   "display_name": "Python 3",
   "language": "python",
   "name": "python3"
  },
  "language_info": {
   "codemirror_mode": {
    "name": "ipython",
    "version": 3
   },
   "file_extension": ".py",
   "mimetype": "text/x-python",
   "name": "python",
   "nbconvert_exporter": "python",
   "pygments_lexer": "ipython3",
   "version": "3.7.3"
  }
 },
 "nbformat": 4,
 "nbformat_minor": 2
}
