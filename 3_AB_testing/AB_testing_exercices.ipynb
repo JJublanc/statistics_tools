{
 "cells": [
  {
   "cell_type": "markdown",
   "metadata": {
    "slideshow": {
     "slide_type": "slide"
    }
   },
   "source": [
    "# <center> <h1>AB testing - exercices </h1> </center>\n",
    "\n",
    "<img src=\"../images/ab_testing.png\" width=\"200\">"
   ]
  },
  {
   "cell_type": "markdown",
   "metadata": {},
   "source": [
    "# Pourquoi faire un AB testing ?\n",
    "Tester une différence de résultat en fonction d'un paramètre à deux modalités.\n",
    "Exemple : taux de conversion en fonction du modèle de recommandation choisi (modèle A vs modèle B)\n",
    "\n",
    "Warning : Comparer juste des moyennes ne permet pas de conclure ! Même si le résultat semble évident."
   ]
  },
  {
   "cell_type": "code",
   "execution_count": null,
   "metadata": {
    "scrolled": true,
    "slideshow": {
     "slide_type": "skip"
    }
   },
   "outputs": [],
   "source": [
    "get_ipython().magic(u'matplotlib inline')\n",
    "%run -i ../utils/credentials.py\n",
    "%run -i ../utils/imports.py\n",
    "%run -i ../utils/plots.py\n",
    "%run -i ../utils/stats.py"
   ]
  },
  {
   "cell_type": "markdown",
   "metadata": {},
   "source": [
    "# Question 1"
   ]
  },
  {
   "cell_type": "markdown",
   "metadata": {},
   "source": [
    "Explorer pour différents niveaux de risque les valeurs associées pour une loi de student avec 20 degrés de liberté."
   ]
  },
  {
   "cell_type": "code",
   "execution_count": null,
   "metadata": {
    "scrolled": false,
    "slideshow": {
     "slide_type": "slide"
    }
   },
   "outputs": [],
   "source": [
    "loi = scs.t(20)\n",
    "p=interactive(plot_ppf_loi(loi), p=[0.5,0.6, 0.8, 0.9, 0.95, 0.975, 0.99])\n",
    "display(p)"
   ]
  },
  {
   "cell_type": "markdown",
   "metadata": {},
   "source": [
    "# Question 2"
   ]
  },
  {
   "cell_type": "markdown",
   "metadata": {},
   "source": [
    "Un risque de première espèce à 5% et de seconde espèce à 20% sont-il compatibles avec un effet minimum détectable de 2 et un écart-type de 1 ?"
   ]
  },
  {
   "cell_type": "code",
   "execution_count": null,
   "metadata": {
    "scrolled": false
   },
   "outputs": [],
   "source": [
    "loi1 = scs.norm(0,1)\n",
    "loi2 = scs.norm(2,1)\n",
    "\n",
    "p=interactive(plot_cdf_2_lois(loi1, loi2,annoted=True), t=np.linspace(0.1, 3, 20))\n",
    "display(p)"
   ]
  },
  {
   "cell_type": "markdown",
   "metadata": {},
   "source": [
    "__Réponse__\n",
    "\n",
    "Non car sous ces conditions (mde et var) il y a des seuils pour lesquels les deux types de risques sont supérieurs à ceux fixés dans l'énoncé. "
   ]
  },
  {
   "cell_type": "markdown",
   "metadata": {},
   "source": [
    "# En pratique comment ça se passe ?"
   ]
  },
  {
   "cell_type": "markdown",
   "metadata": {},
   "source": [
    "## Question 3"
   ]
  },
  {
   "cell_type": "markdown",
   "metadata": {},
   "source": [
    "Déterminer la taille d'un échantillon pour un AB testing ayant les caractéristiques suivantes : \n",
    "* un risque de première espèce de 5%\n",
    "* un risque de deuxième espèce de 20% (i.e la puissance du test est de 80%)\n",
    "* un taux de clics de base de 5%\n",
    "* une différence détectable minimale de 5\n",
    "* un écart-type de 40"
   ]
  },
  {
   "cell_type": "markdown",
   "metadata": {},
   "source": [
    "__Réponse__"
   ]
  },
  {
   "cell_type": "code",
   "execution_count": null,
   "metadata": {},
   "outputs": [],
   "source": [
    "risk1 = 0.05\n",
    "risk2 = 0.2\n",
    "mde = 5\n",
    "var = 40**2"
   ]
  },
  {
   "cell_type": "code",
   "execution_count": null,
   "metadata": {
    "scrolled": true
   },
   "outputs": [],
   "source": [
    "sample_size = size_sample_AB_test(risk1 = risk1, risk2 = risk2, var = var, mde = mde)\n",
    "sample_size = int(sample_size)\n",
    "sample_size"
   ]
  },
  {
   "cell_type": "markdown",
   "metadata": {},
   "source": [
    "## Question 4"
   ]
  },
  {
   "cell_type": "markdown",
   "metadata": {},
   "source": [
    "Tester si les moyennes des vecteurs A et B sont égales ou non (test unilatérale : l'hypothèse alternative est que la moyenne du groupe B est supérieure)"
   ]
  },
  {
   "cell_type": "code",
   "execution_count": null,
   "metadata": {},
   "outputs": [],
   "source": [
    "x_A = np.random.normal(500, np.sqrt(var) ,size=sample_size)\n",
    "x_B = np.random.normal(500 + mde, np.sqrt(var) , size=sample_size)"
   ]
  },
  {
   "cell_type": "markdown",
   "metadata": {},
   "source": [
    "__Réponse__\n",
    "On accepte l'égalité si notre test renvoie \"True\""
   ]
  },
  {
   "cell_type": "code",
   "execution_count": null,
   "metadata": {},
   "outputs": [],
   "source": [
    "test_H0(x_A, x_B, risk1)"
   ]
  },
  {
   "cell_type": "markdown",
   "metadata": {},
   "source": [
    "# Question 5"
   ]
  },
  {
   "cell_type": "markdown",
   "metadata": {},
   "source": [
    "Réaliser une simulation pour vérifier si les risques associés au test sont bien ceux souhaités."
   ]
  },
  {
   "cell_type": "markdown",
   "metadata": {},
   "source": [
    "__Réponse__"
   ]
  },
  {
   "cell_type": "code",
   "execution_count": null,
   "metadata": {},
   "outputs": [],
   "source": [
    "results_test_simu = []\n",
    "mean_A = 500\n",
    "mean_B = 500 + mde\n",
    "\n",
    "for ii in range(0,10000):\n",
    "    \n",
    "    # loi normale centrée en mean_A avec un écart-type de np.sqrt(var)\n",
    "    x_A = np.random.normal(mean_A, np.sqrt(var) ,size=sample_size)\n",
    "    \n",
    "    # loi normale centrée en mean_B avec un écart-type de np.sqrt(var)\n",
    "    x_B = np.random.normal(mean_B, np.sqrt(var) , size=sample_size)\n",
    "    results_test_simu.append(test_H0(x_A, x_B, risk1)[0])\n",
    "\n",
    "\"Calcul par simulation de la puissance du test : {}%\".format(int((1 - np.mean(results_test_simu))*100))"
   ]
  },
  {
   "cell_type": "code",
   "execution_count": null,
   "metadata": {},
   "outputs": [],
   "source": [
    "results_test_simu = []\n",
    "mean_A = 500\n",
    "mean_B = 500\n",
    "\n",
    "for ii in range(0,10000):\n",
    "   # loi normale centrée en mean_A avec un écart-type de np.sqrt(var)\n",
    "    x_A = np.random.normal(mean_A, np.sqrt(var) ,size=sample_size)\n",
    "    \n",
    "    # loi normale centrée en mean_B avec un écart-type de np.sqrt(var)\n",
    "    x_B = np.random.normal(mean_B, np.sqrt(var) , size=sample_size)\n",
    "    \n",
    "    results_test_simu.append(test_H0(x_A, x_B, risk1)[0])\n",
    "\n",
    "\"Calcul par simulation de l'erreur de première espèce du test : {}%\".format(int((1 - np.mean(results_test_simu))*100))"
   ]
  },
  {
   "cell_type": "markdown",
   "metadata": {},
   "source": [
    "# Question 6"
   ]
  },
  {
   "cell_type": "markdown",
   "metadata": {},
   "source": [
    "Relancer le test sur les données suivantes. Si le test permet de rejeter l'hypothèse nulle présenter les résultats au métier. Sinon relancez le test ;)"
   ]
  },
  {
   "cell_type": "code",
   "execution_count": null,
   "metadata": {},
   "outputs": [],
   "source": [
    "x_A = np.random.normal(500, np.sqrt(var) ,size=sample_size)\n",
    "x_B = np.random.normal(500 + mde, np.sqrt(var) , size=sample_size)"
   ]
  },
  {
   "cell_type": "markdown",
   "metadata": {},
   "source": [
    "__Réponse__"
   ]
  },
  {
   "cell_type": "code",
   "execution_count": null,
   "metadata": {},
   "outputs": [],
   "source": [
    "test_H0(x_A, x_B, risk1)"
   ]
  },
  {
   "cell_type": "code",
   "execution_count": null,
   "metadata": {
    "scrolled": true
   },
   "outputs": [],
   "source": [
    "confidence_interval_diff(x_A, x_B)"
   ]
  },
  {
   "cell_type": "markdown",
   "metadata": {},
   "source": [
    "# Un problème complet : use-case de type multi-armed bandit"
   ]
  },
  {
   "cell_type": "markdown",
   "metadata": {},
   "source": [
    "### Enoncé\n",
    "\n",
    "On envisage de donner trois types de traitement à des personnes atteintes d'une maladie mortelle. La fonction de réponse __play_multi_armed_bandit__ permet d'obtenir la situation du patient après 6 mois de traitement en fonction du traitement qu'il a reçu. Le traitement à lui seul ne permet pas de prédire parfaitement l'état du patient, il y a donc une part aléatoire qui joue sur la situation finale de chacun des individus. \n",
    "\n",
    "L'exercice est de construire un algorithme permettant de choisir parmis les trois traitements \"A\", \"B\" et \"C\" pour chacun des 1000 patients de l'étude en maximisant le plus possible le nombre de patients en vie après 6 mois de traitement.\n",
    "\n",
    "Comparer les résultats de cet algorithme avec ceux d'un algorithme de choix purement random.\n",
    "\n",
    "Interpréter les résultats.\n",
    "\n",
    "__NB__ : cet exercice est purement théorique et n'a d'autre objectif que de faire comprendre les qualités et défauts de stratégies différentes. Il n'est ici nullement discuté des enjeux moraux et médicaux. De plus, il est possible et même probable que de meilleures solutions existent pour résoudre ce problème."
   ]
  },
  {
   "cell_type": "code",
   "execution_count": null,
   "metadata": {},
   "outputs": [],
   "source": [
    "params = {\"A\": 0.5,\n",
    "          \"B\": 0.6,\n",
    "          \"C\": 0.2}\n",
    "\n",
    "nb_steps = 2500\n",
    "\n",
    "sep1 = \"\\n_____________________________\"\n",
    "sep2 = \"_____________________________\\n\""
   ]
  },
  {
   "cell_type": "code",
   "execution_count": null,
   "metadata": {},
   "outputs": [],
   "source": [
    "def play_multi_armed_bandit(chosen_arm, params = params):\n",
    "    for ii in params.keys():\n",
    "        if chosen_arm == ii:\n",
    "            value = np.random.binomial(1, params[ii], size=1)[0]\n",
    "    return value"
   ]
  },
  {
   "cell_type": "code",
   "execution_count": null,
   "metadata": {},
   "outputs": [],
   "source": [
    "def get_UCB(results, t):\n",
    "    UCB = results.copy()\n",
    "    for arm in results.keys():\n",
    "        UCB[arm] = np.mean(results[arm]) + np.sqrt(2*np.log(t)/len(results[arm]))\n",
    "    return UCB"
   ]
  },
  {
   "cell_type": "code",
   "execution_count": null,
   "metadata": {},
   "outputs": [],
   "source": [
    "def solve_problem(nb_step, algo):\n",
    "    results = {\"A\": [play_multi_armed_bandit(\"A\")],\n",
    "               \"B\": [play_multi_armed_bandit(\"B\")],\n",
    "               \"C\": [play_multi_armed_bandit(\"C\")]}\n",
    "    t = 0\n",
    "\n",
    "    for ii in range (nb_steps - len(results)):\n",
    "        \n",
    "        t +=1\n",
    "        \n",
    "        if algo==\"UCB\":\n",
    "            UCB = get_UCB(results,t)\n",
    "            chosen_arm = max(UCB.items(), key=operator.itemgetter(1))[0]\n",
    "        elif algo == \"random\":\n",
    "            chosen_arm = random.choice([\"A\",\"B\",\"C\"])\n",
    "        \n",
    "        results[chosen_arm] += [play_multi_armed_bandit(chosen_arm)]\n",
    "\n",
    "    return results"
   ]
  },
  {
   "cell_type": "code",
   "execution_count": null,
   "metadata": {},
   "outputs": [],
   "source": [
    "results_UCB = solve_problem(nb_steps, \"UCB\")\n",
    "results_random = solve_problem(nb_steps, \"random\")"
   ]
  },
  {
   "cell_type": "code",
   "execution_count": null,
   "metadata": {},
   "outputs": [],
   "source": [
    "def evaluate_results(results):\n",
    "\n",
    "    print(sep1)\n",
    "    for ii in results.keys():\n",
    "        \n",
    "        print(\"moyenne pour le bras {} : {}\".format(ii,np.mean(results[ii])))\n",
    "    print(sep2)\n",
    "\n",
    "\n",
    "    print(sep1)\n",
    "    for ii in results.keys():\n",
    "        print(\"nombre de coups pour le bras {} : {}\".format(ii,len(results[ii])))\n",
    "    print(sep2)\n",
    "        \n",
    "    length = 0\n",
    "    score = 0\n",
    "    for ii in results.keys():\n",
    "        length += len(results[ii]) \n",
    "        score  += params[ii]*len(results[ii])\n",
    "\n",
    "    for ii in results:\n",
    "        regret = 0.6*length - score\n",
    "    print(sep1)\n",
    "    print(\"le regret vaut : {}\".format(regret))\n",
    "    print(sep2)\n",
    "    \n",
    "    return score, regret"
   ]
  },
  {
   "cell_type": "code",
   "execution_count": null,
   "metadata": {
    "scrolled": true
   },
   "outputs": [],
   "source": [
    "score_UCB, regret_UCB = evaluate_results(results_UCB)"
   ]
  },
  {
   "cell_type": "markdown",
   "metadata": {},
   "source": [
    "Par rapport à la stratégie optimale (qui n'est réalisable qu'en cas d'omniscience), l'algorithme UCB a un regret de N. Cela signifie qu'en moyenne sur 1000 visiteurs, un choix  obtimal aurait permis de faire convertir N personnes de plus."
   ]
  },
  {
   "cell_type": "code",
   "execution_count": null,
   "metadata": {
    "scrolled": false
   },
   "outputs": [],
   "source": [
    "score_random, regret_random = evaluate_results(results_random)"
   ]
  },
  {
   "cell_type": "markdown",
   "metadata": {},
   "source": [
    "L'algorithme UCB est bien meilleure qu'une décision randomisée qui elle a un regret supérieur, la différence est une estimation du nombre de personnes convertir en plus par la méthode UCB."
   ]
  },
  {
   "cell_type": "markdown",
   "metadata": {},
   "source": [
    "#### Calculer l'intervalle de confiance de la différence entre les options A et B"
   ]
  },
  {
   "cell_type": "code",
   "execution_count": null,
   "metadata": {},
   "outputs": [],
   "source": [
    "confidence_interval_diff(results_UCB[\"A\"], results_UCB[\"B\"]) # x_B - x_A"
   ]
  },
  {
   "cell_type": "markdown",
   "metadata": {},
   "source": [
    "# Get more on my github <img src=\"./images/github.png\" width=\"100\">\n",
    "https://github.com/JohanJublancPerso/datascience_statistics_tools"
   ]
  },
  {
   "cell_type": "code",
   "execution_count": null,
   "metadata": {},
   "outputs": [],
   "source": [
    "# jupyter nbconvert --to slides AB_testing_exercices.ipynb --post serve"
   ]
  }
 ],
 "metadata": {
  "celltoolbar": "Format de la Cellule Texte Brut",
  "kernelspec": {
   "display_name": "Python 3",
   "language": "python",
   "name": "python3"
  },
  "language_info": {
   "codemirror_mode": {
    "name": "ipython",
    "version": 3
   },
   "file_extension": ".py",
   "mimetype": "text/x-python",
   "name": "python",
   "nbconvert_exporter": "python",
   "pygments_lexer": "ipython3",
   "version": "3.7.3"
  }
 },
 "nbformat": 4,
 "nbformat_minor": 2
}
