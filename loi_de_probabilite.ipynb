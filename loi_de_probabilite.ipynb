{
 "cells": [
  {
   "cell_type": "markdown",
   "metadata": {
    "slideshow": {
     "slide_type": "slide"
    }
   },
   "source": [
    "# <center> <h1> Loi de probabilité </h1> </center>\n",
    "\n",
    "<img src=\"./images/dice.png\" width=\"150\">"
   ]
  },
  {
   "cell_type": "code",
   "execution_count": null,
   "metadata": {},
   "outputs": [],
   "source": [
    "get_ipython().magic(u'matplotlib inline')\n",
    "%run -i ./utils/credentials.py\n",
    "%run -i ./utils/imports.py\n",
    "%run -i ./utils/plots.py\n",
    "%run -i ./utils/stats.py"
   ]
  },
  {
   "cell_type": "markdown",
   "metadata": {},
   "source": [
    "Introduction"
   ]
  },
  {
   "cell_type": "markdown",
   "metadata": {},
   "source": [
    "# Les variables aléatoires"
   ]
  },
  {
   "cell_type": "markdown",
   "metadata": {},
   "source": [
    "## Définition"
   ]
  },
  {
   "cell_type": "markdown",
   "metadata": {},
   "source": [
    "Une __variable aléatoire__ représente une expérience dont on ne connaît pas l'issue mais pour laquelle on a une information/hypothèse sur la régularité de l'issue. \n",
    "\n",
    "Cette régularité c'est la répartition des résultats lorsque l'on répète un grand nombre de fois l'expérience."
   ]
  },
  {
   "cell_type": "markdown",
   "metadata": {},
   "source": [
    "__Exemple__\n",
    "\n",
    "On choisit comme expérience le fait de tirer une boule dans l'urne ci-dessous.\n",
    "\n",
    "<img src=\"./images/urne.png\" width=\"250\">\n",
    "\n",
    "\n",
    "Si on répète l'expérience un grand nombre de fois (avec remise bien sûr !) on aura tiré à peu près :\n",
    "* 50% de boules bleues\n",
    "* 30% de boules jaunes\n",
    "* 20% de boules rouges\n",
    "\n",
    "Cette répartition permet de caractériser l'expérience. On ne sait pas quel va être l'issue du tirage mais on a une information sur la régularité du résultat."
   ]
  },
  {
   "cell_type": "markdown",
   "metadata": {},
   "source": [
    "__Interprétation probabiliste__\n",
    "\n",
    "On peut voir également cette régularité de la variable aléatoire non pas comme une répartition _a posteriori_ mais comme une probabilité _a priori_\n",
    "\n",
    "Dans cette optique, pour l'expérience de l'urne on a :\n",
    "* 50% de chance de tirer une boule bleue\n",
    "* 30% de chance de tirer une boule jaune\n",
    "* 20% de chance de tirer une boule rouge"
   ]
  },
  {
   "cell_type": "markdown",
   "metadata": {},
   "source": [
    "## Loi de probabilité de variable aléatoires discrètes"
   ]
  },
  {
   "cell_type": "markdown",
   "metadata": {},
   "source": [
    "Lorsque les issues possibles est un ensemble fini, la variable aléatoire est dite __discrète__. Dans ce cas, pour caractériser une variable aléatoire on peut donc lui associer une loi de probabilité qui est une fonction associant une issue possible avec la probabilité de cette issue.\n",
    "\n",
    "__Exemple__\n",
    "\n",
    "Avec l'exemple de l'urne on définit la loi de probabilité \n",
    "$$P_{urne} : \\{\\text{issues possibles}\\} \\rightarrow [0,1] $$ \n",
    "\n",
    "définie par :\n",
    "$$ P_{urne}(\\text{\"tirer une boule bleue\"}) = 0.5$$\n",
    "$$ P_{urne}(\\text{\"tirer une boule jaune\"}) = 0.3$$\n",
    "$$ P_{urne}(\\text{\"tirer une boule rouge\"}) = 0.2$$\n",
    "\n",
    "__NB :__ la somme des probabilités vaut 1. Cela signifie qu'une issue certaines a une probabilité de 1 et que lorsque l'expérience a lieu il y a forcémment une issue."
   ]
  },
  {
   "cell_type": "markdown",
   "metadata": {},
   "source": [
    "### Exemples de loi discrètes"
   ]
  },
  {
   "cell_type": "markdown",
   "metadata": {},
   "source": [
    "Pour les variables aléatoires discrètes, comme le nombre d'issues est dénombrable (on peut les compter), on peut représenter l'ensemble des issues possibles par un sous-ensemble des entiers naturels ($\\mathbb{N}$).\n",
    "\n",
    "On note dans la suite $X$ une variable aléatorie et $P_X$ sa loi de probabilité."
   ]
  },
  {
   "cell_type": "markdown",
   "metadata": {},
   "source": [
    "__Loi de Bernouilli__\n",
    "\n",
    "<img src=\"./images/coin.png\" width=\"50\">\n",
    "\n",
    "Lorsqu'il y a seulement deux issues possibles (tirer à pile ou face) celle-ci sont codées par $0$ et $1$. On note $p$ la probabilité de l'évènement $0$ (tirer pile par exemple). \n",
    "\n",
    "Dans ce cas la loi de probabilité caractérisant la variable aléatoire est appelée loi de Bernouilli de paramètre $p$. \n",
    "\n",
    "Si $X$ suit une loi Bernouilli de paramètre $p$on note : \n",
    "$$X \\sim \\mathcal{B}(p)$$\n",
    "\n",
    "Et on a :\n",
    "$$ P_X(0) = p $$\n",
    "$$ P_X(1) = (1-p) $$"
   ]
  },
  {
   "cell_type": "markdown",
   "metadata": {},
   "source": [
    "__Loi Binomiale__\n",
    "\n",
    "<img src=\"./images/multiple_coins.png\" width=\"300\">\n",
    "\n",
    "Une loi binomiale de paramètres ($p$,$n$) caractérise des expériences dont ayant exctament $n$ issues possibles. \n",
    "\n",
    "Si $X$ suit une loi binomiale de paramètres ($p$,$n$) on a pour toute issue $k\\in \\{1,...,n\\}$ :\n",
    "$$ P_X(k) = C_{K}^{k}p^k(1-p)^{n-k} $$\n",
    "\n",
    "__A noter :__ la loi binomiale est en fait la loi qu'aurait la somme de $K$ variables aléatoires (indépendantes !) suivant une loi de Bernouilli de paramètre p."
   ]
  },
  {
   "cell_type": "markdown",
   "metadata": {},
   "source": [
    "__Loi de poisson__\n",
    "\n",
    "<img src=\"./images/fish.png\" width=\"100\">\n",
    "\n",
    "La loi de poisson de paramètre $\\lambda$ donne la probabilité d'occurrence d'un nombre d'évenement par unité de temps, lorsque l'on connaît le nombre moyen d'occurence par unité de temps $\\lambda$. La loi de poisson fait l'hypothèse que la probabilité d'une occurrence est indépendante du temps écoulé depuis la dernière occurrence.\n",
    "\n",
    "Cette loi est noté $\\mathcal{P}(\\lambda)$\n",
    "\n",
    "Si $X$ suit une loi de poisson de paramètres $\\lambda$ on a pour toute issue $k\\in \\mathbb{N}^+$ :\n",
    "$$ P_X(k) = \\frac{e^{\\lambda}\\lambda^k}{k!} $$\n",
    "\n",
    "_Exemple_\n",
    "\n",
    "_On sait qu'en moyenne 300 voitures passent à un péage par minute. Si le phénomène suit une loi de poisson on peut déterminer la probabilité qu'il y ait 150 voitures qui passe au péage dans la minute qui vient est de $\\frac{e^{300}300^{150}}{150!}$. Dans ce cas on fait l'hypothèse que la probabilité qu'une voiture passe par le péage est indépendante du temps écoulé depuis la dernier fois qu'une voiture est passée._"
   ]
  },
  {
   "cell_type": "markdown",
   "metadata": {},
   "source": [
    "__Equiprobabilité__\n",
    "\n",
    "<img src=\"./images/equal.png\" width=\"100\">\n",
    "\n",
    "Si une variable aléatoire $X$ suit une loi équiprobable de paramètre $n$ (noté $\\mathcal{E}(n)$), toutes les issues possibles ont la même probabilité. On a $\\forall k \\in \\{1,...,n\\} $ alors : \n",
    "$$ P_X(k) = \\frac{1}{n} $$"
   ]
  },
  {
   "cell_type": "markdown",
   "metadata": {},
   "source": [
    "## Lois de probabilité de variables aléatoires continues"
   ]
  },
  {
   "cell_type": "markdown",
   "metadata": {},
   "source": [
    "Certaines variables aléatoires sont à valeur dans un ensemble continu, souvent $\\mathbb{R}$. Dans ce cas elles ne peuvent pas être caractérisées par les lois précédentes. Plus généralement, elles ne peuvent pas être caractérisé par une fonction qui associe à chaque issue une probabilité, puisque par définition il existe une infinité d'issues possibles.\n",
    "\n",
    "Pour ces variables aléatoires la probabilité d'une issue particulière est nulle.\n",
    "\n",
    "__Exemple__\n",
    "\n",
    "On considère comme expérience la mesure de la distance de la terre à l'étoile la plus proche (après le soleil). L'issue de l'expérience est l'erreur entre la \"vraie distance\" et la distance mesurée.\n",
    "\n",
    "Pour cette expérience, la probabilité que l'erreur soit exactement de 1m est aussi faible que la probabilité qu'elle soit de 1,0000000001m. En revanche, la probabilité que l'erreur soit comprise entre 0 et 10AL n'est pas nulle.\n",
    "\n",
    "On va donc calculer la probabilité d'intervalle."
   ]
  },
  {
   "cell_type": "markdown",
   "metadata": {},
   "source": [
    "### Caractérisation des lois continues"
   ]
  },
  {
   "cell_type": "markdown",
   "metadata": {},
   "source": [
    "Si on répète un grand nombre de fois une expérience, dont le résultat est à valeur dans $\\mathcal{R}$, on peut calculer les fréquences d'occurrence par tranche de valeur."
   ]
  },
  {
   "cell_type": "code",
   "execution_count": null,
   "metadata": {
    "scrolled": true
   },
   "outputs": [],
   "source": [
    "effectifs = 500\n",
    "x = np.random.normal(3,1,effectifs)\n",
    "plt.hist(x, bins = 10, density=True)\n",
    "\n",
    "plt.show()"
   ]
  },
  {
   "cell_type": "markdown",
   "metadata": {},
   "source": [
    "Si on reproduit l'expérience un très grand nombre de fois et que l'on prend des intervalles très petits, on va avoir un histogramme de la forme suivante."
   ]
  },
  {
   "cell_type": "code",
   "execution_count": null,
   "metadata": {},
   "outputs": [],
   "source": [
    "effectifs = 100000\n",
    "x = np.random.normal(3,1,effectifs)\n",
    "plt.hist(x, bins = 100, density=True)\n",
    "\n",
    "plt.show()"
   ]
  },
  {
   "cell_type": "markdown",
   "metadata": {},
   "source": [
    "En passant à la limite on va obtenir une courbe qui va permettre de carcatériser la loi de probabilité. La fonction permettant de tracer cette courbe est appelée __fonction de densité__ (ou simplement densité). Elle caractérise la loi."
   ]
  },
  {
   "cell_type": "code",
   "execution_count": null,
   "metadata": {
    "scrolled": false
   },
   "outputs": [],
   "source": [
    "effectifs = 100000\n",
    "x = np.random.normal(3,1,effectifs)\n",
    "plt.hist(x, bins = 100, density=True)\n",
    "\n",
    "y = np.linspace(-2, 8, 1000)\n",
    "loi = scs.norm(3,1)\n",
    "plt.plot(y, loi.pdf(y),\"b\")\n",
    "\n",
    "plt.show()"
   ]
  },
  {
   "cell_type": "markdown",
   "metadata": {},
   "source": [
    "La fonction de densité permet de calculer la probabilité que l'issue de l'expérience se situe dans un intervalle $[a,b]$ quelles que soient les valeurs $a$ et $b$."
   ]
  },
  {
   "cell_type": "code",
   "execution_count": null,
   "metadata": {},
   "outputs": [],
   "source": [
    "import numpy as np\n",
    "import matplotlib.pyplot as plt\n",
    "from matplotlib.patches import Polygon\n",
    "\n",
    "def plot_proba(a, b):\n",
    "\n",
    "    # integral limits\n",
    "    x = np.linspace(0, 10)\n",
    "    y = loi.pdf(x)\n",
    "\n",
    "    fig, ax = plt.subplots()\n",
    "    ax.plot(x, y, 'r', linewidth=2)\n",
    "    ax.set_ylim(bottom=0)\n",
    "\n",
    "    # Make the shaded region\n",
    "    ix = np.linspace(a, b)\n",
    "    iy = loi.pdf(ix)\n",
    "    verts = [(a, 0), *zip(ix, iy), (b, 0)]\n",
    "    poly = Polygon(verts, facecolor='0.8', edgecolor='0.5')\n",
    "    ax.add_patch(poly)\n",
    "\n",
    "    ax.text(0.6 * (a + b), 0.25 * (np.max(y)), r\"$P(X\\in[a,b])$\",\n",
    "            horizontalalignment='center', fontsize=10)\n",
    "\n",
    "    fig.text(0.9, 0.05, '$x$')\n",
    "    fig.text(0.1, 0.9, '$y$')\n",
    "\n",
    "    ax.spines['right'].set_visible(False)\n",
    "    ax.spines['top'].set_visible(False)\n",
    "    ax.xaxis.set_ticks_position('bottom')\n",
    "\n",
    "    ax.set_xticks((a, b))\n",
    "    ax.set_xticklabels(('$a$', '$b$'))\n",
    "    ax.set_yticks([])\n",
    "\n",
    "    plt.show()"
   ]
  },
  {
   "cell_type": "code",
   "execution_count": null,
   "metadata": {},
   "outputs": [],
   "source": [
    "plot_proba(3,5)"
   ]
  },
  {
   "cell_type": "markdown",
   "metadata": {},
   "source": [
    "### Quelques lois continues"
   ]
  },
  {
   "cell_type": "markdown",
   "metadata": {},
   "source": [
    "__Loi normale ou gaussienne $\\mathcal{N}(\\mu,\\sigma)$__"
   ]
  },
  {
   "cell_type": "markdown",
   "metadata": {},
   "source": [
    "La loi normale est centrée autour de sa moyenne et est d'autant plus \"étalée\" que $\\sigma$ est grand. Cette loi représente très bien les erreurs de mesure non systématiques, car ce sont des variations symétriques autour de la \"vraie valeur\"."
   ]
  },
  {
   "cell_type": "code",
   "execution_count": null,
   "metadata": {},
   "outputs": [],
   "source": [
    "mu = 2\n",
    "sigma = 1\n",
    "\n",
    "y = np.linspace(-2, 6, 1000)\n",
    "loi = scs.norm(mu,sigma)\n",
    "plt.plot(y, loi.pdf(y),\"b\")\n",
    "\n",
    "plt.show()"
   ]
  },
  {
   "cell_type": "markdown",
   "metadata": {},
   "source": [
    "Cette loi est centrale dans la théorie des probabilités car elle permet d'approximer le comportement asymptotique de nombreux phénomènes"
   ]
  },
  {
   "cell_type": "markdown",
   "metadata": {},
   "source": [
    "__Loi uniforme $\\mathcal{U}([a,b])$__"
   ]
  },
  {
   "cell_type": "markdown",
   "metadata": {},
   "source": [
    "La loi uniforme donne une probabilité identique à tous les intervalles de même taille."
   ]
  },
  {
   "cell_type": "code",
   "execution_count": null,
   "metadata": {},
   "outputs": [],
   "source": [
    "a = 1\n",
    "b = 5\n",
    "\n",
    "loc = a\n",
    "scale = b-a\n",
    "\n",
    "y = np.linspace(0, 6, 1000)\n",
    "loi = scs.uniform(loc, scale)\n",
    "plt.plot(y, loi.pdf(y),\"b\")\n",
    "\n",
    "plt.show()"
   ]
  },
  {
   "cell_type": "markdown",
   "metadata": {},
   "source": [
    "### Deux lois combinées très utiles pour réaliser des tests"
   ]
  },
  {
   "cell_type": "markdown",
   "metadata": {},
   "source": [
    "__La loi du Chi2 $\\chi^2(k)$__"
   ]
  },
  {
   "cell_type": "markdown",
   "metadata": {},
   "source": [
    "La somme de $k$ variables aléatoires $(X_1,...,X_k)$ indépendantes suivant toute une loi normale centrée réduite ($\\mathcal{N}(0,1)$) suit une loi du chi2 de paramètre $k$. Cela s'écrit : \n",
    "\n",
    "$$(X_i)_{i=1,...k} \\text{ i.i.d,}$$\n",
    "\n",
    "$$\\text{tq } \\forall i \\text{, } X_i \\sim \\mathcal{N}(0,1)$$\n",
    "\n",
    "$$ \\Rightarrow \\sum_iX_i^2 \\sim \\chi^2(k)$$"
   ]
  },
  {
   "cell_type": "markdown",
   "metadata": {},
   "source": [
    "__Loi de student $t(k)$__"
   ]
  },
  {
   "cell_type": "markdown",
   "metadata": {},
   "source": [
    "$$X \\sim \\mathcal{N}(0,1)$$\n",
    "\n",
    "$$X \\sim \\chi^2(k)$$\n",
    "\n",
    "$$\\Rightarrow \\frac{X}{\\sqrt{\\frac{Z}{k}}} \\sim t(k)$$"
   ]
  },
  {
   "cell_type": "markdown",
   "metadata": {},
   "source": [
    "## Un exemple de loi à valeur dans $\\mathbb{R}^T$"
   ]
  },
  {
   "cell_type": "markdown",
   "metadata": {},
   "source": [
    "__La loi de Dirichlet $Dir_T(\\alpha)$__"
   ]
  },
  {
   "cell_type": "markdown",
   "metadata": {},
   "source": [
    "Cette loi est à valeur dans un simplexe unitaire (généralisation du triangle en dimension égale ou supérieures) de dimension $T$. \n",
    "\n",
    "En dimension 3, le simplexe est un triangle. Cela signifie que pourn une variable aléatoire $X$, telle que : \n",
    "\n",
    "$$X \\sim Dir_3(\\alpha)$$\n",
    "\n",
    "Les issues possibles sont des triplet $(x_1, x_2, x_3)$ vérifiant :\n",
    "\n",
    "$$ x_1 + x_2 + x_3 = 1$$\n",
    "et \n",
    "$$ x_1 > 0, x_2 > 0 \\text{ et } x_3 > 0$$"
   ]
  },
  {
   "cell_type": "markdown",
   "metadata": {},
   "source": [
    "Ces valeurs donnent la répartition entre trois valeurs. \n",
    "\n",
    "Par exemple lorsque si notre expérience est de couper une ficelle entre 3 morceaux au hasard, comment la taille des morceaux va être répartie ?"
   ]
  },
  {
   "cell_type": "code",
   "execution_count": null,
   "metadata": {},
   "outputs": [],
   "source": [
    "def get_xy_simplex_sample(x_size = 100):\n",
    "    y=[]\n",
    "    x=[]\n",
    "\n",
    "    for xi in np.linspace(0, 1, x_size):\n",
    "        i_size = int(x_size*(1 - xi))\n",
    "        y += list(np.linspace(0, 1-xi, i_size))\n",
    "        x += list(np.linspace(xi,xi,i_size))\n",
    "    \n",
    "    return x,y"
   ]
  },
  {
   "cell_type": "code",
   "execution_count": null,
   "metadata": {},
   "outputs": [],
   "source": [
    "def get_dirich_pdf(x,y,alpha):\n",
    "    \n",
    "    dirich = scs.dirichlet(alpha)\n",
    "    \n",
    "    # transform the coordinates of each couple x_i, y_i in x,y\n",
    "    # into coordinates in the simplexe defined by (0,0) (0,1) (1,0)\n",
    "    if ((x + y) > 1) | (x<0) | (y<0) :\n",
    "        print(x, y,\"warning\")\n",
    "    else :\n",
    "        b = x\n",
    "        c = y\n",
    "        a = 1 - b - c\n",
    "        return dirich.pdf([a, b, c])\n",
    "    "
   ]
  },
  {
   "cell_type": "code",
   "execution_count": null,
   "metadata": {},
   "outputs": [],
   "source": [
    "def simplex_to_cart(a,b,c):\n",
    "    return b, c"
   ]
  },
  {
   "cell_type": "code",
   "execution_count": null,
   "metadata": {},
   "outputs": [],
   "source": [
    "top = cm.get_cmap('Oranges_r', 128)\n",
    "bottom = cm.get_cmap('Blues', 128)\n",
    "\n",
    "newcolors = np.vstack((top(np.linspace(0, 1, 128)),\n",
    "                       bottom(np.linspace(0, 1, 128))))\n",
    "cmp_orange_blue = ListedColormap(newcolors, name='OrangeBlue')"
   ]
  },
  {
   "cell_type": "code",
   "execution_count": null,
   "metadata": {},
   "outputs": [],
   "source": [
    "def plot_dirichlet(alpha, sample_size=150):\n",
    "    \n",
    "    # get x,y sample in the support simplex\n",
    "    X, Y = get_xy_simplex_sample(sample_size)\n",
    "    \n",
    "    # each entry must be different from zero if alpha < 1\n",
    "    if np.min(alpha) < 1 :\n",
    "        x = [xx for xx,yy in zip(X,Y) if (xx>0)&(yy>0)&((xx+yy)<1)]\n",
    "        y = [yy for xx,yy in zip(X,Y) if (xx>0)&(yy>0)&((xx+yy)<1)]\n",
    "    else : \n",
    "        x=X\n",
    "        y=Y\n",
    "    # get the density points of density \n",
    "    # corresponding to each point of the sample\n",
    "    z = [get_dirich_pdf(x_i,y_i,alpha) for x_i, y_i in zip(x,y)]\n",
    "    fig = plt.figure()\n",
    "    ax = plt.axes(projection='3d')\n",
    "\n",
    "    ax.scatter3D(x, y, z, c=z, cmap=cmp_orange_blue);\n",
    "    ax.set_title('surface');"
   ]
  },
  {
   "cell_type": "code",
   "execution_count": null,
   "metadata": {
    "scrolled": true
   },
   "outputs": [],
   "source": [
    "plot_dirichlet([1,6,6])"
   ]
  },
  {
   "cell_type": "markdown",
   "metadata": {},
   "source": [
    "Dans ce cas les ficelles sont a souvent de taille comparable."
   ]
  },
  {
   "cell_type": "code",
   "execution_count": null,
   "metadata": {},
   "outputs": [],
   "source": [
    "plot_dirichlet([6,6,6],300)"
   ]
  },
  {
   "cell_type": "markdown",
   "metadata": {},
   "source": [
    "Alors que dans ce cas, les deux derniers morceaux sont souvent très petits."
   ]
  },
  {
   "cell_type": "code",
   "execution_count": null,
   "metadata": {},
   "outputs": [],
   "source": [
    "plot_dirichlet([8,1,1],300)"
   ]
  },
  {
   "cell_type": "code",
   "execution_count": null,
   "metadata": {},
   "outputs": [],
   "source": [
    "plot_dirichlet([0.8,0.8,0.8], sample_size=400)"
   ]
  },
  {
   "cell_type": "code",
   "execution_count": null,
   "metadata": {},
   "outputs": [],
   "source": [
    "plot_dirichlet([0.8,1,1], sample_size=400)"
   ]
  },
  {
   "cell_type": "markdown",
   "metadata": {},
   "source": [
    "# Les applications de la théorie des probabilités"
   ]
  },
  {
   "cell_type": "markdown",
   "metadata": {},
   "source": [
    "## Les cas d'usage"
   ]
  },
  {
   "cell_type": "markdown",
   "metadata": {},
   "source": [
    "Les cas d'utilisation des probabilité et de leurs lois sont fréquents et couvrent un champ très vaste. On peut distinguer trois types d'applications qui peuvent être utiles dans la data : \n",
    "* modéliser un phénomène comportant une part d'aléatoire en vue de l'étudier\n",
    "* simuler un phénomène pour le répéter\n",
    "* réaliser des tests statistiques pour prendre des décisions\n",
    "\n",
    "__Exemple__\n",
    "L'allocation latente de Dirichlet est utilisée en NLP pour modéliser l'allocation de mots par thème et celle de thèmes par document."
   ]
  },
  {
   "cell_type": "markdown",
   "metadata": {},
   "source": [
    "## Les propriétés utiles"
   ]
  },
  {
   "cell_type": "code",
   "execution_count": null,
   "metadata": {},
   "outputs": [],
   "source": []
  },
  {
   "cell_type": "code",
   "execution_count": null,
   "metadata": {},
   "outputs": [],
   "source": []
  },
  {
   "cell_type": "code",
   "execution_count": null,
   "metadata": {},
   "outputs": [],
   "source": []
  },
  {
   "cell_type": "code",
   "execution_count": null,
   "metadata": {},
   "outputs": [],
   "source": []
  },
  {
   "cell_type": "markdown",
   "metadata": {},
   "source": [
    "# Pratique"
   ]
  },
  {
   "cell_type": "markdown",
   "metadata": {},
   "source": [
    "##### Imports"
   ]
  },
  {
   "cell_type": "code",
   "execution_count": null,
   "metadata": {
    "scrolled": true,
    "slideshow": {
     "slide_type": "skip"
    }
   },
   "outputs": [],
   "source": [
    "get_ipython().magic(u'matplotlib inline')\n",
    "%run -i ./utils/credentials.py\n",
    "%run -i ./utils/imports.py\n",
    "%run -i ./utils/plots.py\n",
    "%run -i ./utils/stats.py"
   ]
  },
  {
   "cell_type": "markdown",
   "metadata": {},
   "source": [
    "<center> <h1>Take away</h1> </center>\n",
    "\n",
    "<img src=\"./images/coffee.png\" width=\"200\">\n",
    "\n",
    "\n",
    "__Expresso__ : \n",
    "\n",
    "* point 1\n",
    "* point 2\n",
    "\n",
    "__Sugar Story__ :\n",
    "\n",
    "* point 1\n",
    "* point 2"
   ]
  },
  {
   "cell_type": "markdown",
   "metadata": {},
   "source": [
    "# Get more on my github <img src=\"./images/github.png\" width=\"100\">\n",
    "https://github.com/JJublanc/statistics_tools"
   ]
  },
  {
   "cell_type": "code",
   "execution_count": null,
   "metadata": {},
   "outputs": [],
   "source": [
    "# jupyter nbconvert --to slides loi_de_proba.ipynb --post serve"
   ]
  }
 ],
 "metadata": {
  "celltoolbar": "Format de la Cellule Texte Brut",
  "kernelspec": {
   "display_name": "Python 3",
   "language": "python",
   "name": "python3"
  },
  "language_info": {
   "codemirror_mode": {
    "name": "ipython",
    "version": 3
   },
   "file_extension": ".py",
   "mimetype": "text/x-python",
   "name": "python",
   "nbconvert_exporter": "python",
   "pygments_lexer": "ipython3",
   "version": "3.7.1"
  }
 },
 "nbformat": 4,
 "nbformat_minor": 2
}
