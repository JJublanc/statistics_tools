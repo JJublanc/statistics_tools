{
 "cells": [
  {
   "cell_type": "markdown",
   "metadata": {
    "slideshow": {
     "slide_type": "slide"
    }
   },
   "source": [
    "# <center> <h1> Testing </h1> </center>\n",
    "\n",
    "<img src=\"../images/tests.png\" width=\"200\">"
   ]
  },
  {
   "cell_type": "markdown",
   "metadata": {},
   "source": [
    "_TODO :_\n",
    "- mettre la référence de la page wikipédia\n",
    "- mettre la fonction plot proba dans un script\n",
    "- écrire une introduction"
   ]
  },
  {
   "cell_type": "code",
   "execution_count": null,
   "metadata": {
    "scrolled": true,
    "slideshow": {
     "slide_type": "skip"
    }
   },
   "outputs": [],
   "source": [
    "get_ipython().magic(u'matplotlib inline')\n",
    "%run -i ../utils/credentials.py\n",
    "%run -i ../utils/imports.py\n",
    "%run -i ../utils/plots.py\n",
    "%run -i ../utils/stats.py"
   ]
  },
  {
   "cell_type": "markdown",
   "metadata": {},
   "source": [
    "# Le principe"
   ]
  },
  {
   "cell_type": "markdown",
   "metadata": {},
   "source": [
    "On cherche à valider ou invalider une hypothèse $H_0$ face à une hypothèse alternative. Pour cela on on procède en plusieurs étapes : \n",
    "* On pose l'hypothèse nulle $H_0$ et l'hypothèse alternative $H_1$\n",
    "* Ensuite on calcule une statistique de test notée $S$, qui est une variable aléatoire dont on connaît la loi de probabilité si H_0 est vraie\n",
    "* On calcule la réalisation de cette variable aléatoire que l'on note $S_{obs}$\n",
    "* On calcule la probabilité d'obtenir cette valeur si $H_0$ est vérifiée pour décider si cette hypothèse est crédible ou non"
   ]
  },
  {
   "cell_type": "code",
   "execution_count": null,
   "metadata": {},
   "outputs": [],
   "source": [
    "loi = scs.norm(0,1)"
   ]
  },
  {
   "cell_type": "code",
   "execution_count": null,
   "metadata": {},
   "outputs": [],
   "source": [
    "import numpy as np\n",
    "import matplotlib.pyplot as plt\n",
    "from matplotlib.patches import Polygon\n",
    "\n",
    "def plot_proba(S, \n",
    "               label_pos, \n",
    "               limite_name, \n",
    "               stat_name=\"S\", \n",
    "               sym = False,\n",
    "               message = True,\n",
    "               message_1 = False,\n",
    "               message_2 = False,\n",
    "               loi = scs.norm(0,1)):\n",
    "    \n",
    "    sigma = loi.std()\n",
    "    mean = loi.mean()\n",
    "    a = S\n",
    "    b = a + sigma*8\n",
    "    \n",
    "    if not message :\n",
    "        message_1 = \"\"\n",
    "        message_2 = \"\"\n",
    "    else:\n",
    "        if not message_1:\n",
    "            message_1 = r\"$P({} < ${})\".format(stat_name,limite_name)\n",
    "        if not message_2:\n",
    "            message_2 = r\"$P({} < -${})\".format(stat_name,limite_name)\n",
    "\n",
    "    \n",
    "    # integral limits\n",
    "    x = np.linspace(mean-4*sigma,mean+4*sigma)\n",
    "    y = loi.pdf(x)\n",
    "\n",
    "    fig, ax = plt.subplots()\n",
    "    ax.plot(x, y, 'r', linewidth=2)\n",
    "    ax.set_ylim(bottom=0)\n",
    "\n",
    "    # Make the shaded region\n",
    "    ix = np.linspace(a, b)\n",
    "    iy = loi.pdf(ix)\n",
    "    verts = [(a, 0), *zip(ix, iy), (b, 0)]\n",
    "    poly = Polygon(verts, facecolor='0.8', edgecolor='0.5')\n",
    "    ax.add_patch(poly)\n",
    "    \n",
    "    ax.text(label_pos, 0.15 * (np.max(y)), message_1,\n",
    "            horizontalalignment='center', fontsize=10)\n",
    "\n",
    "\n",
    "    if sym :\n",
    "        ix_sym = np.linspace(mean-b, mean-a)\n",
    "        iy_sym = loi.pdf(ix_sym)\n",
    "        verts_sym = [(mean-b, 0), *zip(ix_sym, iy_sym), (mean-a, 0)]\n",
    "        poly_sym = Polygon(verts_sym, facecolor='0.8', edgecolor='0.5')\n",
    "        ax.add_patch(poly_sym)\n",
    "        \n",
    "        ax.text(mean-label_pos, 0.15 * (np.max(y)), message_2 ,\n",
    "            horizontalalignment='center', fontsize=10)\n",
    "\n",
    "    fig.text(0.9, 0.05, 'Values')\n",
    "    fig.text(0.1, 0.9, 'Density')\n",
    "\n",
    "    ax.spines['right'].set_visible(False)\n",
    "    ax.spines['top'].set_visible(False)\n",
    "    ax.xaxis.set_ticks_position('bottom')\n",
    "\n",
    "    ax.set_xticks([])\n",
    "    ax.set_xticklabels(('$a$', '$b$'))\n",
    "    ax.set_yticks([])"
   ]
  },
  {
   "cell_type": "code",
   "execution_count": null,
   "metadata": {},
   "outputs": [],
   "source": [
    "plot_proba(S = 1.96,\n",
    "           label_pos = 2.8,\n",
    "           limite_name = \"$S_{obs}$\",\n",
    "           stat_name = \"S\",\n",
    "           sym = False)"
   ]
  },
  {
   "cell_type": "markdown",
   "metadata": {},
   "source": [
    "Pour déterminer si on accepte ou non $H_0$ on détermine un seuil (souvent 5% ou 1%) en deça duquel on rejette $H_0$.\n",
    "\n",
    "_Par exemple :_\n",
    "\n",
    "* Si $|S_{Obs}| > 1,96 \\text{  alors  } P(S>S_{Obs})<0.05 \\text{ et on rejette } H_0$\n",
    "* Si $|S_{Obs}| < 1,96 \\text{  alors  } P(S>S_{Obs})>0.05 \\text{ et on accepte } H_0$"
   ]
  },
  {
   "cell_type": "code",
   "execution_count": null,
   "metadata": {
    "scrolled": true
   },
   "outputs": [],
   "source": [
    "plot_proba(S = 1.96,\n",
    "           label_pos = 2.8,\n",
    "           limite_name = \"$|S_{obs}|$\",\n",
    "           stat_name = \"S\",\n",
    "           sym = True,\n",
    "           message_1 = \"zone de rejet\",\n",
    "           message_2= \"zone de rejet\")"
   ]
  },
  {
   "cell_type": "markdown",
   "metadata": {},
   "source": [
    "Le test peut être unilatéral ou bilatéral.\n",
    "\n",
    "__Exemple__\n",
    "\n",
    "_Test unilatéral_ \n",
    "\n",
    "On veut tester si la valeur d'une moyenne est inférieur ou égale à un nombre $\\mu$. On ne va rejeter l'hypothèse nulle que lorsque la moyenne empirique $\\bar{x}$ est significativement plus grand que $\\mu$. On a alors :\n",
    "\n",
    "* $H_0 : E[X]=\\mu$\n",
    "* $H_1 : E[X]>\\mu$"
   ]
  },
  {
   "cell_type": "code",
   "execution_count": null,
   "metadata": {},
   "outputs": [],
   "source": [
    "plot_proba(S = 1.64,\n",
    "           label_pos = 2.8,\n",
    "           limite_name = \"$|S_{obs}|$\",\n",
    "           stat_name = \"S\",\n",
    "           sym = False,\n",
    "           message_1 = \"zone de rejet\",\n",
    "           message_2= \"zone de rejet\")"
   ]
  },
  {
   "cell_type": "markdown",
   "metadata": {},
   "source": [
    "_Test bilatéral_ \n",
    "\n",
    "On veut tester si la valeur d'une moyenne est différente de $\\mu$. On va rejeter l'hypothèse nulle dès que la moyenne empirique $\\bar{x}$ est significativement différente de $\\mu$. On a alors :\n",
    "\n",
    "* $H_0 : E[X]=\\mu$\n",
    "* $H_1 : E[X] \\neq \\mu$"
   ]
  },
  {
   "cell_type": "code",
   "execution_count": null,
   "metadata": {},
   "outputs": [],
   "source": [
    "plot_proba(S = 1.96,\n",
    "           label_pos = 2.8,\n",
    "           limite_name = \"$|S_{obs}|$\",\n",
    "           stat_name = \"S\",\n",
    "           sym = True,\n",
    "           message_1 = \"zone de rejet\",\n",
    "           message_2= \"zone de rejet\")"
   ]
  },
  {
   "cell_type": "markdown",
   "metadata": {},
   "source": [
    "## Mise en pratique d'un test d'indépendance du $\\chi^2$"
   ]
  },
  {
   "cell_type": "markdown",
   "metadata": {},
   "source": [
    "Lorsque l'on a des variables qualitatives on peut vouloir tester leur indépendance deux à deux pour savoir si des caractéristiques son liées entre elles.\n",
    "\n",
    "Si on a deux variables X et Y, dont les modalités sont respectivement $(X_1,X_2,X_3)$ et $(Y_1,Y_2)$, on veut donc savoir si le groupe des individus ayant la caractéristique $Y_1$ et celui des individus ayant la caractéristique $Y_2$ se répartissent de la même manière selon la variable $X$.\n",
    "\n",
    "__NB__ : le problème est symétrique, on peut donc chercher à savoir si les sous-groupes selon la variables X se répartissent de la même manière selon la variable Y.\n",
    "\n",
    "On note $I$ l'ensemble des modalités de $X$ et $J$ l'ensemble des modalités de $Y$."
   ]
  },
  {
   "cell_type": "markdown",
   "metadata": {},
   "source": [
    "#### Use case\n",
    "\n",
    "Ici on souhaite savoir si la répartition du nombre de kill (variable quantitiative considérée ici comme une variable quatégorielle) est statistiquement la même pour les parties de type 'solo-fpp' ou les parties de type 'squade'."
   ]
  },
  {
   "cell_type": "code",
   "execution_count": null,
   "metadata": {},
   "outputs": [],
   "source": [
    "data_path = \"../data/PUBG_train_sample.csv\"\n",
    "data_PUBG = pd.read_csv(data_path)\n",
    "data_PUBG = data_PUBG.loc[data_PUBG[\"matchType\"].isin([\"solo-fpp\",\"squad\"]),:]"
   ]
  },
  {
   "cell_type": "code",
   "execution_count": null,
   "metadata": {
    "scrolled": true
   },
   "outputs": [],
   "source": [
    "cont = pd.crosstab(data_PUBG.matchType, data_PUBG.killStreaks)\n",
    "cont"
   ]
  },
  {
   "cell_type": "markdown",
   "metadata": {},
   "source": [
    "### 1/ Table de contingence en cas d'indépendance parfaite"
   ]
  },
  {
   "cell_type": "markdown",
   "metadata": {},
   "source": [
    "Pour chaque couple possible $(i,j)$ on note $O_{ij}$ le nombre d'individus pour lesquel la caractéristique $X$ vaut $X_i$ et la caractéristique $Y$ vaut $Y_j$.\n",
    "\n",
    "Pour chaque couple $(i,j)$, on commence par calculer la répartition théorique en cas d'indépendance parfaite (notée $E_{ij}$). Pour chaque couple de modalité $(i,j)$ (par exemple (killStreaks = 3, matchType= \"squad\"), cette répartition est donnée par :\n",
    "\n",
    "$$E_{ij} = \\frac{O_{i+} \\times O_{+j}}{N}$$\n",
    "\n",
    "Avec :\n",
    "- $O_{i+} = \\sum_{j}O_{ij}$ : le nombre d'individus pour lesquel la caractéristique $X$ vaut $X_i$\n",
    "- $O_{+j} = \\sum_{i}O_{ij}$ : le nombre d'individus pour lesquel la caractéristique $Y$ vaut $Y_j$\n",
    "- $N$ : le nomre d'individu total"
   ]
  },
  {
   "cell_type": "code",
   "execution_count": null,
   "metadata": {},
   "outputs": [],
   "source": [
    "N = cont.sum(axis=1).sum(axis=0)\n",
    "E_table = pd.DataFrame(columns=cont.columns, index=cont.index)\n",
    "\n",
    "for i in range(len(E_table)):\n",
    "    for j in range(len(E_table.columns)):\n",
    "        E_table.iloc[i,j] = (cont.iloc[:,j].sum()*cont.iloc[i,:].sum())/N"
   ]
  },
  {
   "cell_type": "code",
   "execution_count": null,
   "metadata": {
    "scrolled": true
   },
   "outputs": [],
   "source": [
    "E_table"
   ]
  },
  {
   "cell_type": "markdown",
   "metadata": {},
   "source": [
    "### 2/ Distance entre la table théorique et la table réelle"
   ]
  },
  {
   "cell_type": "markdown",
   "metadata": {},
   "source": [
    "Ensuite on compare cette répartition théorique idéale en cas d'indépendance avec la répartition réelle. On note $T$ la valeur de la distance entre les deux situations :\n",
    "$$T = \\sum_{ij}\\frac{(O_{ij}-E_{ij})^2}{E_{ij}} $$"
   ]
  },
  {
   "cell_type": "code",
   "execution_count": null,
   "metadata": {},
   "outputs": [],
   "source": [
    "T_ij = ((E_table - cont)**2)/E_table\n",
    "T = dist_ij.sum(axis=0).sum()"
   ]
  },
  {
   "cell_type": "code",
   "execution_count": null,
   "metadata": {},
   "outputs": [],
   "source": [
    "T"
   ]
  },
  {
   "cell_type": "markdown",
   "metadata": {},
   "source": [
    "### 3/ Utilisier la théorie statistique pour déterminer la loi de T sous l'hypothèse d'indépendance"
   ]
  },
  {
   "cell_type": "markdown",
   "metadata": {},
   "source": [
    "On fait deux hypothèses :\n",
    "- $H_0$ : X et Y sont des variables indépendantes\n",
    "- $H_1$ : X et Y sont liées\n",
    "\n",
    "Or on sait que sous l'hypothèse $H_0$ on a :\n",
    "$$T \\sim \\chi^2 (M)$$\n",
    "\n",
    "Avec : \n",
    "$M = (card(I)-1)(card(J)-1)$"
   ]
  },
  {
   "cell_type": "code",
   "execution_count": null,
   "metadata": {},
   "outputs": [],
   "source": [
    "loi_T = scs.chi2(8)\n",
    "confidence = 0.95"
   ]
  },
  {
   "cell_type": "code",
   "execution_count": null,
   "metadata": {},
   "outputs": [],
   "source": [
    "plt.rcParams[\"figure.figsize\"] = (5,5)\n",
    "plot_proba(S = loi_T.ppf(confidence),\n",
    "           label_pos = 2.8,\n",
    "           sym = False,\n",
    "           limite_name = \"\",\n",
    "           message = False,\n",
    "           stat_name = \"\",\n",
    "           loi = loi_T)\n",
    "plt.show()"
   ]
  },
  {
   "cell_type": "code",
   "execution_count": null,
   "metadata": {},
   "outputs": [],
   "source": [
    "plt.rcParams[\"figure.figsize\"] = (20,5)\n",
    "plot_proba(S = loi_T.ppf(confidence),\n",
    "           label_pos = 2.8,\n",
    "           sym = False,\n",
    "           limite_name = \"\",\n",
    "           message = False,\n",
    "           stat_name = \"\",\n",
    "           loi = loi_T)\n",
    "\n",
    "plt.plot((T,T),(0,1))\n",
    "plt.show()"
   ]
  },
  {
   "cell_type": "markdown",
   "metadata": {},
   "source": [
    "### 4/ décider si on retient l'hypothèse nulle ou non"
   ]
  },
  {
   "cell_type": "code",
   "execution_count": null,
   "metadata": {},
   "outputs": [],
   "source": [
    "import scipy.stats as st\n",
    "st_chi2, st_p, st_dof, st_exp = st.chi2_contingency(contingency_table)"
   ]
  },
  {
   "cell_type": "code",
   "execution_count": null,
   "metadata": {},
   "outputs": [],
   "source": [
    "round(st_p*100,200)"
   ]
  },
  {
   "cell_type": "markdown",
   "metadata": {},
   "source": [
    "<center> <h1>Take away</h1> </center>\n",
    "\n",
    "<img src=\"./images/coffee.png\" width=\"200\">\n",
    "\n",
    "\n",
    "__Expresso__ : \n",
    "\n",
    "* point 1\n",
    "* point 2\n",
    "\n",
    "__Sugar Story__ :\n",
    "\n",
    "* point 1\n",
    "* point 2"
   ]
  },
  {
   "cell_type": "markdown",
   "metadata": {},
   "source": [
    "# Get more on my github <img src=\"./images/github.png\" width=\"100\">\n",
    "https://github.com/JJublanc/statistics_tools"
   ]
  }
 ],
 "metadata": {
  "celltoolbar": "Format de la Cellule Texte Brut",
  "kernelspec": {
   "display_name": "Python 3",
   "language": "python",
   "name": "python3"
  },
  "language_info": {
   "codemirror_mode": {
    "name": "ipython",
    "version": 3
   },
   "file_extension": ".py",
   "mimetype": "text/x-python",
   "name": "python",
   "nbconvert_exporter": "python",
   "pygments_lexer": "ipython3",
   "version": "3.7.3"
  }
 },
 "nbformat": 4,
 "nbformat_minor": 2
}
