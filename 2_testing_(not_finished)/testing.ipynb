{
 "cells": [
  {
   "cell_type": "markdown",
   "metadata": {
    "slideshow": {
     "slide_type": "slide"
    }
   },
   "source": [
    "# <center> <h1> Testing </h1> </center>\n",
    "\n",
    "<img src=\"../images/testing.png\" width=\"200\">"
   ]
  },
  {
   "cell_type": "markdown",
   "metadata": {},
   "source": [
    "_TODO :_\n",
    "- mettre la référence de la page wikipédia\n",
    "- écrire une introduction"
   ]
  },
  {
   "cell_type": "code",
   "execution_count": null,
   "metadata": {
    "scrolled": true,
    "slideshow": {
     "slide_type": "skip"
    }
   },
   "outputs": [],
   "source": [
    "get_ipython().magic(u'matplotlib inline')\n",
    "%run -i ../utils/credentials.py\n",
    "%run -i ../utils/imports.py\n",
    "%run -i ../utils/plots.py\n",
    "%run -i ../utils/stats.py"
   ]
  },
  {
   "cell_type": "code",
   "execution_count": null,
   "metadata": {},
   "outputs": [],
   "source": [
    "import string\n",
    "from numpy.random import choice, sample\n",
    "import scipy.stats as st"
   ]
  },
  {
   "cell_type": "markdown",
   "metadata": {},
   "source": [
    "# Le principe"
   ]
  },
  {
   "cell_type": "markdown",
   "metadata": {},
   "source": [
    "On cherche à valider ou invalider une hypothèse $H_0$ face à une hypothèse alternative. Pour cela on procède en plusieurs étapes : \n",
    "* On pose l'hypothèse nulle $H_0$ et l'hypothèse alternative $H_1$\n",
    "* Ensuite on calcule une statistique de test notée $S$, qui est une variable aléatoire dont on connaît la loi de probabilité si $H_0$ est vraie\n",
    "* On calcule la réalisation de cette variable aléatoire que l'on note $S_{obs}$\n",
    "* On calcule la probabilité d'obtenir cette valeur si $H_0$ est vérifiée pour décider si cette hypothèse est crédible ou non"
   ]
  },
  {
   "cell_type": "markdown",
   "metadata": {},
   "source": [
    "### Exemple d'un test unilatéral\n",
    "\n",
    "On veut tester si la valeur de l'espérance d'une variable aléatoire est inférieure ou égale à un nombre $\\mu$. On ne va rejeter l'hypothèse nulle que lorsque la moyenne empirique $\\bar{x}$ est significativement plus grand que $\\mu$. \n",
    "\n",
    "Nos hypothèses sont :\n",
    "\n",
    "* $H_0 : E[X]=\\mu$\n",
    "* $H_1 : E[X]>\\mu$ (inégalité car le test est unilatéral)\n",
    "\n",
    "Sous $H_0$, le théorème central limite nous donne que si n est suffisamment grand on a :\n",
    "$$\\frac{\\bar{X}-\\mu}{\\sqrt{\\frac{\\sigma^2}{n}}} \\sim \\mathcal{N}\\Big(0,1\\Big)$$ \n",
    "\n",
    "Toutefois, nous ne connaissons pas $\\sigma$. Nous devons estimer la variance de la moyenne par la variance empirique :\n",
    "$$ \\hat{\\sigma}^2=\\sum_i{\\frac{(X_i-\\bar{X})^2}{n}}$$\n",
    "\n",
    "Sous$H_0$, les proriétés sur les lois de probabilité nous donnent :\n",
    "$$S = \\frac{\\bar{X}-\\mu}{\\sqrt{\\frac{\\sigma^2}{n}}} \\sim \\mathcal{t}(n-1)$$ \n",
    "\n",
    "On va utiliser cette propriété est rejeter $H_0$ si $S$ dépasse un certain seuil.\n",
    "\n",
    "Ce test est __unilatéral__ car l'hypothèse alternative est une inégalité, ce qui signifie que l'on ne rejette pas l'hypothèse $H_0$ si la valeur de la moyenne empirique est plus petite que $\\mu$."
   ]
  },
  {
   "cell_type": "code",
   "execution_count": null,
   "metadata": {},
   "outputs": [],
   "source": [
    "plot_proba(S = 1.64,\n",
    "           label_pos = 2.8,\n",
    "           limite_name = \"$|S_{obs}|$\",\n",
    "           stat_name = \"S\",\n",
    "           sym = False,\n",
    "           message_1 = \"zone de rejet\",\n",
    "           message_2= \"zone de rejet\")"
   ]
  },
  {
   "cell_type": "markdown",
   "metadata": {},
   "source": [
    "### Exemple d'un test bilatéral\n",
    "\n",
    "On veut tester si la valeur d'une moyenne est différente de $\\mu$. On va rejeter l'hypothèse nulle dès que la moyenne empirique $\\bar{x}$ est significativement différente de $\\mu$. On a alors :\n",
    "\n",
    "* $H_0 : E[X]=\\mu$\n",
    "* $H_1 : E[X] \\neq \\mu$"
   ]
  },
  {
   "cell_type": "code",
   "execution_count": null,
   "metadata": {},
   "outputs": [],
   "source": [
    "plot_proba(S = 1.96,\n",
    "           label_pos = 2.8,\n",
    "           limite_name = \"$|S_{obs}|$\",\n",
    "           stat_name = \"S\",\n",
    "           sym = True,\n",
    "           message_1 = \"zone de rejet\",\n",
    "           message_2= \"zone de rejet\")"
   ]
  },
  {
   "cell_type": "markdown",
   "metadata": {},
   "source": [
    "## Mise en pratique d'un test d'indépendance du $\\chi^2$"
   ]
  },
  {
   "cell_type": "markdown",
   "metadata": {},
   "source": [
    "Lorsque l'on a des variables qualitatives on peut vouloir tester leur indépendance deux à deux pour savoir si des caractéristiques son liées entre elles.\n",
    "\n",
    "Si on a deux variables X et Y, dont les modalités sont respectivement $(X_1,X_2,X_3)$ et $(Y_1,Y_2)$, on veut donc savoir si le groupe des individus ayant la caractéristique $Y_1$ et celui des individus ayant la caractéristique $Y_2$ se répartissent de la même manière selon la variable $X$.\n",
    "\n",
    "__NB__ : le problème est symétrique, on peut donc chercher à savoir si les sous-groupes selon la variables X se répartissent de la même manière selon la variable Y.\n",
    "\n",
    "On note $I$ l'ensemble des modalités de $X$ et $J$ l'ensemble des modalités de $Y$."
   ]
  },
  {
   "cell_type": "markdown",
   "metadata": {},
   "source": [
    "#### Use case\n",
    "\n",
    "Ici on souhaite savoir si la répartition du nombre de kill (variable quantitiative considérée ici comme une variable quatégorielle) est statistiquement la même pour les parties de type 'solo-fpp' ou les parties de type 'squade'."
   ]
  },
  {
   "cell_type": "code",
   "execution_count": null,
   "metadata": {},
   "outputs": [],
   "source": [
    "data_path = \"../data/PUBG_train_sample.csv\"\n",
    "data_PUBG = pd.read_csv(data_path)\n",
    "data_PUBG = data_PUBG.loc[data_PUBG[\"matchType\"].isin([\"solo-fpp\",\"squad\"]),:].sample(frac=0.05, \n",
    "                                                                                      replace=False, \n",
    "                                                                                      random_state=1234)"
   ]
  },
  {
   "cell_type": "code",
   "execution_count": null,
   "metadata": {
    "scrolled": true
   },
   "outputs": [],
   "source": [
    "cont = pd.crosstab(data_PUBG.matchType, data_PUBG.killStreaks)\n",
    "cont"
   ]
  },
  {
   "cell_type": "markdown",
   "metadata": {},
   "source": [
    "### 1/ Table de contingence en cas d'indépendance parfaite"
   ]
  },
  {
   "cell_type": "markdown",
   "metadata": {},
   "source": [
    "Pour chaque couple possible $(i,j)$ on note $O_{ij}$ le nombre d'individus pour lesquel la caractéristique $X$ vaut $X_i$ et la caractéristique $Y$ vaut $Y_j$.\n",
    "\n",
    "Pour chaque couple $(i,j)$, on commence par calculer la répartition théorique en cas d'indépendance parfaite (notée $E_{ij}$). Pour chaque couple de modalité $(i,j)$ (par exemple (killStreaks = 3, matchType= \"squad\"), cette répartition est donnée par :\n",
    "\n",
    "$$E_{ij} = \\frac{O_{i+} \\times O_{+j}}{N}$$\n",
    "\n",
    "Avec :\n",
    "- $O_{i+} = \\sum_{j}O_{ij}$ : le nombre d'individus pour lesquel la caractéristique $X$ vaut $X_i$\n",
    "- $O_{+j} = \\sum_{i}O_{ij}$ : le nombre d'individus pour lesquel la caractéristique $Y$ vaut $Y_j$\n",
    "- $N$ : le nomre d'individu total"
   ]
  },
  {
   "cell_type": "code",
   "execution_count": null,
   "metadata": {},
   "outputs": [],
   "source": [
    "N = cont.sum(axis=1).sum(axis=0)\n",
    "E_table = pd.DataFrame(columns=cont.columns, index=cont.index)\n",
    "\n",
    "for i in range(len(E_table)):\n",
    "    for j in range(len(E_table.columns)):\n",
    "        E_table.iloc[i,j] = (cont.iloc[:,j].sum()*cont.iloc[i,:].sum())/N"
   ]
  },
  {
   "cell_type": "code",
   "execution_count": null,
   "metadata": {
    "scrolled": true
   },
   "outputs": [],
   "source": [
    "E_table"
   ]
  },
  {
   "cell_type": "markdown",
   "metadata": {},
   "source": [
    "### 2/ Distance entre la table théorique et la table réelle"
   ]
  },
  {
   "cell_type": "markdown",
   "metadata": {},
   "source": [
    "Ensuite on compare cette répartition théorique idéale en cas d'indépendance avec la répartition réelle. On note $T$ la valeur de la distance entre les deux situations :\n",
    "$$T = \\sum_{ij}\\frac{(O_{ij}-E_{ij})^2}{E_{ij}} $$"
   ]
  },
  {
   "cell_type": "markdown",
   "metadata": {},
   "source": [
    "T est une variable aléatoire qui peu prendre plusieurs valeurs. On peu calculer la valeur prise par $T$ dans notre expérience , que l'on appellera $T_{exp}$ est qui sera un nombre (i.e une réalisation de la variable aléatoire $T$)."
   ]
  },
  {
   "cell_type": "code",
   "execution_count": null,
   "metadata": {},
   "outputs": [],
   "source": [
    "T_ij = ((E_table - cont)**2)/E_table\n",
    "T_exp = T_ij.sum(axis=0).sum()"
   ]
  },
  {
   "cell_type": "code",
   "execution_count": null,
   "metadata": {},
   "outputs": [],
   "source": [
    "T_exp"
   ]
  },
  {
   "cell_type": "markdown",
   "metadata": {},
   "source": [
    "### 3/ Utilisier la théorie statistique pour déterminer la loi de T sous l'hypothèse d'indépendance"
   ]
  },
  {
   "cell_type": "markdown",
   "metadata": {},
   "source": [
    "On fait deux hypothèses :\n",
    "- $H_0$ : X et Y sont des variables indépendantes\n",
    "- $H_1$ : X et Y sont liées\n",
    "\n",
    "Or on sait que sous l'hypothèse $H_0$ on a :\n",
    "$$T \\sim \\chi^2 (M)$$\n",
    "\n",
    "Avec : \n",
    "$M = (card(I)-1)\\times(card(J)-1)$"
   ]
  },
  {
   "cell_type": "markdown",
   "metadata": {},
   "source": [
    "On note $Z_{5\\%}$ la valeur telle qu'une variable aléatoire de loi i $\\chi^2 (M)$ a 5% de chance de prendre un valeur plus grande que ce seuil.\n",
    "\n",
    "Sous l'hypothèse nulle $H_0$, la probabilité que T prenne une valeur plus grande que $Z_{5\\%}$ est donc de 5% (l'air grise sous la courbe vaut 5%)."
   ]
  },
  {
   "cell_type": "code",
   "execution_count": null,
   "metadata": {},
   "outputs": [],
   "source": [
    "loi_T = scs.chi2(8)\n",
    "confidence = 0.95"
   ]
  },
  {
   "cell_type": "code",
   "execution_count": null,
   "metadata": {},
   "outputs": [],
   "source": [
    "plt.rcParams[\"figure.figsize\"] = (20,5)\n",
    "plot_proba(S = loi_T.ppf(confidence),\n",
    "           label_pos = 16,\n",
    "           sym = False,\n",
    "           limite_name = \"test\",\n",
    "           message_1 = \"$Z_{5\\%}$\",\n",
    "           stat_name = \"\",\n",
    "           fontsize_message_1=15,\n",
    "           loi = loi_T)\n",
    "plt.show()"
   ]
  },
  {
   "cell_type": "markdown",
   "metadata": {},
   "source": [
    "### 4/ Décider si on retient l'hypothèse nulle ou non"
   ]
  },
  {
   "cell_type": "markdown",
   "metadata": {},
   "source": [
    "Or la valeur réelle prise par T est dans notre cas bien plus élevée que ce seuil. Sou l'hypothèse $H_0$, Il y a donc très peu de chance que nous soyons tombé sur cette valeur. Nous rejetons donc l'hypothèse nulle."
   ]
  },
  {
   "cell_type": "code",
   "execution_count": null,
   "metadata": {
    "scrolled": true
   },
   "outputs": [],
   "source": [
    "plt.rcParams[\"figure.figsize\"] = (20,5)\n",
    "plot_proba(S = loi_T.ppf(confidence),\n",
    "           label_pos = 17,\n",
    "           sym = False,\n",
    "           limite_name = \"\",\n",
    "           message_1 = \"S\",\n",
    "           fontsize_message_1 = 20,\n",
    "           stat_name = \"\",\n",
    "           loi = loi_T)\n",
    "\n",
    "plt.plot((T_exp,T_exp),(0,1))\n",
    "plt.text(T_exp,0.02,\"$T_{exp}$\", fontsize = 20)\n",
    "\n",
    "plt.show()"
   ]
  },
  {
   "cell_type": "markdown",
   "metadata": {},
   "source": [
    "## Interpréter la p-value"
   ]
  },
  {
   "cell_type": "markdown",
   "metadata": {},
   "source": [
    "On peut également calculer la probabilité que la variable $T$ prenne la même valeur ou une valeur plus élevée que $T_{exp}$ sous l'hypothèse nulle. Cela évite d'avoir à effectuer une comparaison par rapport à un seuil.\n",
    "\n",
    "La valeur calculée est appelée la $p-value$"
   ]
  },
  {
   "cell_type": "code",
   "execution_count": null,
   "metadata": {},
   "outputs": [],
   "source": [
    "st_chi2, st_p, st_dof, st_exp = st.chi2_contingency(cont)"
   ]
  },
  {
   "cell_type": "code",
   "execution_count": null,
   "metadata": {},
   "outputs": [],
   "source": [
    "st_chi2"
   ]
  },
  {
   "cell_type": "code",
   "execution_count": null,
   "metadata": {},
   "outputs": [],
   "source": [
    "print(\"la probabilité d'obtenir une statistique plus élevée sous $H_0$ est de {}%\".format(round(st_p*100)))"
   ]
  },
  {
   "cell_type": "markdown",
   "metadata": {},
   "source": [
    "Ici la $p-value$ est extrêmement faible."
   ]
  },
  {
   "cell_type": "code",
   "execution_count": null,
   "metadata": {},
   "outputs": [],
   "source": [
    "round(st_p*100,200)"
   ]
  },
  {
   "cell_type": "markdown",
   "metadata": {},
   "source": [
    "On a de bonnes raison de rejeter l'hypothèse nulle d'indépendance des variables."
   ]
  },
  {
   "cell_type": "markdown",
   "metadata": {},
   "source": [
    "## Une alternative : le test exact de Fisher"
   ]
  },
  {
   "cell_type": "markdown",
   "metadata": {},
   "source": [
    "Le test exact de Fisher peut être utilisé lorsque les échantillons sont de taille faible.\n",
    "cf. : https://fr.wikipedia.org/wiki/Test_exact_de_Fisher"
   ]
  },
  {
   "cell_type": "code",
   "execution_count": null,
   "metadata": {},
   "outputs": [],
   "source": [
    "p_val = st.fisher_exact(cont.iloc[0:2,0:2], alternative='two-sided')[1]\n",
    "print(\"la probabilité d'obtenir une statistique plus élevée sous $H_0$ est de {}%\".format(round(p_val*100)))"
   ]
  },
  {
   "cell_type": "code",
   "execution_count": null,
   "metadata": {},
   "outputs": [],
   "source": [
    "print(\"Conclusion : \")\n",
    "if p_val > 0.05:\n",
    "    print(\"   On accepte $H_0$\")\n",
    "else:\n",
    "    print(\"   On rejette $H_0$\")"
   ]
  },
  {
   "cell_type": "markdown",
   "metadata": {},
   "source": [
    "<center> <h1>Take away</h1> </center>\n",
    "\n",
    "<img src=\"../images/coffee.png\" width=\"200\">\n",
    "\n",
    "\n",
    "__Expresso__ : \n",
    "\n",
    "* point 1\n",
    "* point 2\n",
    "\n",
    "__Sugar Story__ :\n",
    "\n",
    "* point 1\n",
    "* point 2"
   ]
  },
  {
   "cell_type": "markdown",
   "metadata": {},
   "source": [
    "# Get more on my github <img src=\"../images/github.png\" width=\"100\">\n",
    "https://github.com/JJublanc/statistics_tools"
   ]
  }
 ],
 "metadata": {
  "celltoolbar": "Format de la Cellule Texte Brut",
  "kernelspec": {
   "display_name": "Python 3",
   "language": "python",
   "name": "python3"
  },
  "language_info": {
   "codemirror_mode": {
    "name": "ipython",
    "version": 3
   },
   "file_extension": ".py",
   "mimetype": "text/x-python",
   "name": "python",
   "nbconvert_exporter": "python",
   "pygments_lexer": "ipython3",
   "version": "3.7.1"
  }
 },
 "nbformat": 4,
 "nbformat_minor": 2
}
