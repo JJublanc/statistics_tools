{
 "cells": [
  {
   "cell_type": "markdown",
   "metadata": {
    "slideshow": {
     "slide_type": "slide"
    }
   },
   "source": [
    "# <center> <h1> Testing </h1> </center>\n",
    "\n",
    "<img src=\"../images/tests.png\" width=\"200\">"
   ]
  },
  {
   "cell_type": "code",
   "execution_count": null,
   "metadata": {
    "scrolled": true,
    "slideshow": {
     "slide_type": "skip"
    }
   },
   "outputs": [],
   "source": [
    "get_ipython().magic(u'matplotlib inline')\n",
    "%run -i ../utils/credentials.py\n",
    "%run -i ../utils/imports.py\n",
    "%run -i ../utils/plots.py\n",
    "%run -i ../utils/stats.py"
   ]
  },
  {
   "cell_type": "code",
   "execution_count": null,
   "metadata": {},
   "outputs": [],
   "source": [
    "import string\n",
    "from numpy.random import choice, sample\n",
    "import scipy.stats as st"
   ]
  },
  {
   "cell_type": "markdown",
   "metadata": {},
   "source": [
    "# Problème \n",
    "### Test d'indépendance : montrer que la taille d'échantillon compte"
   ]
  },
  {
   "cell_type": "markdown",
   "metadata": {},
   "source": [
    "La suite de questions qui suivent ont pour objectif de montrer que le test d'indépendance du $\\chi^2$ n'est pas approprié lorsque la taille de l'échantillon est faible et qu'un test de Fisher peut être envisagé à la place... à certaines conditions.\n",
    "\n",
    "Les théorèmes utilisée pour réaliser des tests (théorème central limite) étant souvent asymptotiques, il faut rester prudent lorsque les effectifs sont faibles. \n",
    "\n",
    "Pour s'en convaincre on va réaliser quelques tests sur des échantillon de taille différents."
   ]
  },
  {
   "cell_type": "markdown",
   "metadata": {},
   "source": [
    "## Question 1\n",
    "1/ Construire un fonction renvoyant un DataFrame à deux colonnes, dont chacune est une variable aléatoires qualitative (les modalités peuvent être prises parmis les lettres de l'alphabet par exemple). Dans cette question les deux variables sont indépendantes, i.e le tirage de l'une et de l'autre sont réalisés séparemment.\n",
    "\n",
    "Les **arguments** de la fonction sont : \n",
    "* p1 : les probabilités donnant la répartition des modalités pour la première variable, la somme doit faire 1 et la taille de cette liste donne le nombre de modalités pour cette variable.\n",
    "* p2 : les probabilités donnant la répartition des modalités pour la deuxième variable, la somme doit faire 1 et la taille de cette liste donne le nombre de modalités pour cette variable.\n",
    "* sample_size : la taille de l'échantillon que l'on créer\n",
    "\n",
    "Le **dataFrame** de sortie : \n",
    "* les colonnes sont nommées : \"Y1\" et \"Y2\"\n",
    "\n",
    "2/ Calculer la matrice de contingence d'un tirage de deux variables qualitatives indépendantes ayant les caractéristiqeques suivantes."
   ]
  },
  {
   "cell_type": "markdown",
   "metadata": {},
   "source": [
    "### Réponse 1"
   ]
  },
  {
   "cell_type": "code",
   "execution_count": null,
   "metadata": {},
   "outputs": [],
   "source": [
    "def simu_sample_indep_Y1_Y2(p1, p2, sample_size):\n",
    "    \"\"\"\n",
    "    simu_sample_indep_Y1_Y2([0.1,0.1,0.2,0.6], [0.5,0.5], 10)\n",
    "    \"\"\"\n",
    "    choices1 = list(string.ascii_lowercase)[0:len(p1)]\n",
    "    choices2 = list(string.ascii_lowercase)[-len(p2):]\n",
    "    data_Y1 = choice(choices1, sample_size, p = p1)\n",
    "    data_Y2 = choice(choices2, sample_size, p = p2)\n",
    "    df = pd.DataFrame({\"Y1\":data_Y1,\"Y2\":data_Y2})\n",
    "    return df"
   ]
  },
  {
   "cell_type": "code",
   "execution_count": null,
   "metadata": {},
   "outputs": [],
   "source": [
    "p1 = [0.1,0.1,0.2,0.6]\n",
    "p2 = [0.5,0.5]\n",
    "sample_size = 1000"
   ]
  },
  {
   "cell_type": "code",
   "execution_count": null,
   "metadata": {},
   "outputs": [],
   "source": [
    "df = simu_sample_indep_Y1_Y2(p1, p2, sample_size)\n",
    "cont = pd.crosstab(df.Y1,df.Y2)\n",
    "cont"
   ]
  },
  {
   "cell_type": "markdown",
   "metadata": {},
   "source": [
    "## Question 2\n",
    "1/ Réaliser un test d'indépendance du $\\chi^2$ à partir de la table de contingence et vérifier que le test est bien symétrique (les deux colonnes peuvent être inversées)"
   ]
  },
  {
   "cell_type": "markdown",
   "metadata": {},
   "source": [
    "2/ Est-ce que l'on rejette ou non l'hypothèse d'indépendance ? Si oui que peut on en conclure ?"
   ]
  },
  {
   "cell_type": "markdown",
   "metadata": {},
   "source": [
    "### Réponse 2"
   ]
  },
  {
   "cell_type": "code",
   "execution_count": null,
   "metadata": {},
   "outputs": [],
   "source": [
    "st_chi2, st_p, st_dof, st_exp = st.chi2_contingency(cont)\n",
    "print(\"valeur de la statistique : {}\".format(st_chi2))\n",
    "print(\"valeur de la p_value : {}\".format(st_p))"
   ]
  },
  {
   "cell_type": "code",
   "execution_count": null,
   "metadata": {},
   "outputs": [],
   "source": [
    "st_chi2, st_p, st_dof, st_exp = st.chi2_contingency(cont.transpose())\n",
    "print(\"valeur de la statistique : {}\".format(st_chi2))\n",
    "print(\"valeur de la p_value : {}\".format(st_p))"
   ]
  },
  {
   "cell_type": "markdown",
   "metadata": {},
   "source": [
    "On rejette l'hypothèse d'indépendance à 5% si la p_value est inférieure à 5%. Comme nous avons réalisé une simulation nous savons que les variables sont bien indépendantes. Si nous rejetons l'hypothèse nulle cela signifie que nous sommes tombé sur les 5% de cas où l'on rejette à tort. Dans ce cas faites retourner le test plusieurs fois. On doit l'accépter dans la plupart des cas."
   ]
  },
  {
   "cell_type": "markdown",
   "metadata": {},
   "source": [
    "## Question 3\n",
    "On utilise la fonction suivante pour construire deux vecteurs qualitatifs non indépendantes."
   ]
  },
  {
   "cell_type": "code",
   "execution_count": null,
   "metadata": {},
   "outputs": [],
   "source": [
    "def simu_sample_notindep_Y1_Y2(p1, p2, sample_size):\n",
    "    \"\"\"\n",
    "    Exemple : \n",
    "        simu_sample_notindep_Y1_Y2(p1 = [0.2,0.8], \n",
    "                                   p2 = [0.2,0.8,0.5,0.5],\n",
    "                                   sample_size = 10)\n",
    "    \"\"\"    \n",
    "    \n",
    "    assert((len(p2)%len(p1))==0), \"len(p2) is not a multiple of len(p1)\"\n",
    "    \n",
    "    # The first column is sampled\n",
    "    choices1 = list(string.ascii_lowercase)[0:len(p1)]\n",
    "    data_Y1 = choice(choices1, sample_size, p = p1)\n",
    "    df = pd.DataFrame({\"Y1\":data_Y1})\n",
    "    \n",
    "    len_1 = len(choices1)\n",
    "    choices2 = list(string.ascii_lowercase)[0:(len(p2)//len_1)]\n",
    "    \n",
    "    # For each modality of the first column, the second is sampled with a different probability distribution\n",
    "    for i in range(len(choices1)):\n",
    "        size = np.sum(df[\"Y1\"]==choices1[i])\n",
    "        Y_2_i = choice(choices2, size, p = p2[i*(len(p2)//len_1):(1+i)*(len(p2)//len_1)])\n",
    "        df.loc[df[\"Y1\"]==choices1[i],\"Y2\"] = Y_2_i\n",
    "    \n",
    "    return df"
   ]
  },
  {
   "cell_type": "markdown",
   "metadata": {},
   "source": [
    "1/ Créer une fonction pour répéter un grand nombre de fois un test du $\\chi^2$ sur un grand nombre d'échantillons de variables qualitatives non appariées. Utiliser les paramètres suivants. "
   ]
  },
  {
   "cell_type": "code",
   "execution_count": null,
   "metadata": {},
   "outputs": [],
   "source": [
    "sample_size = 200\n",
    "p1 = [0.4,0.5,0.1]\n",
    "p2 = [0.1,0.9,0.2,0.8,0.5,0.5]"
   ]
  },
  {
   "cell_type": "markdown",
   "metadata": {},
   "source": [
    "2/ Visualiser les résultats à l'aide de boxplots"
   ]
  },
  {
   "cell_type": "markdown",
   "metadata": {},
   "source": [
    "### Réponse 3"
   ]
  },
  {
   "cell_type": "code",
   "execution_count": null,
   "metadata": {},
   "outputs": [],
   "source": [
    "def repeat_experience(simu_func, p1, p2, sample_size, nb_repeat = 1000):\n",
    "    \"\"\"\n",
    "    Exemple :\n",
    "        repeat_experience(simu_sample_notindep_Y1_Y2, \n",
    "                         p1 = [0.1,0.9],\n",
    "                         p2 = [0.1, 0.9, 0.5, 0.5],\n",
    "                         sample_size =100,\n",
    "                         nb_repeat = 10)\n",
    "    \"\"\"\n",
    "    pvals=[]\n",
    "    T_obs = []\n",
    "    \n",
    "    for ii in range(nb_repeat):\n",
    "        df = simu_func(p1,p2,sample_size)\n",
    "        cont = pd.crosstab(df.Y1,df.Y2)\n",
    "        st_chi2, st_p, st_dof, st_exp = st.chi2_contingency(cont)\n",
    "        T_obs.append(st_chi2)\n",
    "        pvals.append(round(st_p,5))\n",
    "    \n",
    "    return T_obs, pvals"
   ]
  },
  {
   "cell_type": "code",
   "execution_count": null,
   "metadata": {},
   "outputs": [],
   "source": [
    "T_obs, pvals = repeat_experience(simu_sample_notindep_Y1_Y2, p1, p2, sample_size)"
   ]
  },
  {
   "cell_type": "code",
   "execution_count": null,
   "metadata": {
    "scrolled": true
   },
   "outputs": [],
   "source": [
    "plt.boxplot(pvals)\n",
    "plt.show()"
   ]
  },
  {
   "cell_type": "markdown",
   "metadata": {},
   "source": [
    "# Question 4\n",
    "Faire la même chose en faisant varier la taille des échantillons comme suit."
   ]
  },
  {
   "cell_type": "code",
   "execution_count": null,
   "metadata": {},
   "outputs": [],
   "source": [
    "sizes = [10,30,50,100,200]"
   ]
  },
  {
   "cell_type": "markdown",
   "metadata": {},
   "source": [
    "Intérpréter les résultats."
   ]
  },
  {
   "cell_type": "markdown",
   "metadata": {},
   "source": [
    "### Réponse 4"
   ]
  },
  {
   "cell_type": "code",
   "execution_count": null,
   "metadata": {},
   "outputs": [],
   "source": [
    "def repeat_experience_several_sample_size(sizes, simu_func, p1, p2):\n",
    "    results = {}\n",
    "    for sample_size in sizes:\n",
    "        T_obs, pvals = repeat_experience(simu_sample_notindep_Y1_Y2, p1, p2, sample_size)\n",
    "        results[\"p_values_{}\".format(sample_size)] = pvals\n",
    "        results[\"T_obs_{}\".format(sample_size)] = T_obs    \n",
    "    return results"
   ]
  },
  {
   "cell_type": "code",
   "execution_count": null,
   "metadata": {},
   "outputs": [],
   "source": [
    "result_notindep_chi2 = repeat_experience_several_sample_size(sizes, \n",
    "                                                        simu_sample_notindep_Y1_Y2, \n",
    "                                                        p1,\n",
    "                                                        p2)"
   ]
  },
  {
   "cell_type": "code",
   "execution_count": null,
   "metadata": {},
   "outputs": [],
   "source": [
    "result_notindep_pvals_chi2 = pd.DataFrame(result_notindep_chi2).iloc[:,[0,2,4,6,8]].transpose()"
   ]
  },
  {
   "cell_type": "code",
   "execution_count": null,
   "metadata": {
    "scrolled": false
   },
   "outputs": [],
   "source": [
    "plt.boxplot(result_notindep_pvals_chi2)\n",
    "plt.xticks([1,2,3,4,5], sizes, fontsize = 15)\n",
    "plt.yticks(fontsize = 15)\n",
    "plt.ylabel(\"p-value\", fontsize = 15)\n",
    "plt.xlabel(\"Taille des échantillons\", fontsize = 15)\n",
    "plt.title(\"Répartition des p-value pour un test d'indépendance du $\\chi2$ \\n\\\n",
    "            pour 1000 échantillons\\n\\\n",
    "            en fonction de la taille des échantillons\", fontsize = 25)\n",
    "plt.plot((0,7),(0.05,0.05))\n",
    "plt.show()"
   ]
  },
  {
   "cell_type": "markdown",
   "metadata": {},
   "source": [
    "Lorsque l'échantillon est petit on va accépter souvent l'hypothèse d'indépendance alors que les de vecteur sont liés. La puissance du test dépend donc de la taille de l'échantillon"
   ]
  },
  {
   "cell_type": "markdown",
   "metadata": {},
   "source": [
    "# Question 5\n",
    "Réaliser la même expérience en réalisant des tests de Fisher. Pour cela on n'utilisera que deux modalités car la fonction ne supporte le test que pour des matrices $2\\times2$."
   ]
  },
  {
   "cell_type": "markdown",
   "metadata": {},
   "source": [
    "### Réponse 5"
   ]
  },
  {
   "cell_type": "code",
   "execution_count": null,
   "metadata": {},
   "outputs": [],
   "source": [
    "def fill_2_2_crosstab(cont):\n",
    "    \"\"\"\n",
    "    Exemple :\n",
    "        test_df = pd.DataFrame({\"Y1\":[\"a\",\"a\"],\"Y2\":[\"a\",\"a\"]})\n",
    "        test_cont = pd.crosstab(test_df.Y1,test_df.Y2)\n",
    "        fill_2_2_crosstab(test_cont)\n",
    "    \"\"\"\n",
    "    cont_inter = pd.DataFrame({\"a\":[0,0], \"b\":[0,0]}, index=[\"a\",\"b\"])\n",
    "    for i in cont.columns :\n",
    "        for j in cont.index :\n",
    "            cont_inter.loc[j,i] = cont.loc[j,i]\n",
    "    return cont_inter"
   ]
  },
  {
   "cell_type": "code",
   "execution_count": null,
   "metadata": {},
   "outputs": [],
   "source": [
    "def repeat_experience(simu_func, p1, p2, sample_size, test_type=\"chi2\", nb_repeat = 1000):\n",
    "    \"\"\"\n",
    "    Exemple : \n",
    "    _, pvals = repeat_experience(simu_func = simu_sample_notindep_Y1_Y2, \n",
    "                                 p1 = [0.4, 0.6],\n",
    "                                 p2 = [0.4, 0.6, 0.5, 0.5],\n",
    "                                 sample_size = 10,\n",
    "                                 test_type=\"fisher\",\n",
    "                                 nb_repeat = 3)\n",
    "    \"\"\"\n",
    "    pvals=[]\n",
    "    T_obs = []\n",
    "    \n",
    "    for ii in range(nb_repeat):\n",
    "        # Make a simulation of the data\n",
    "        df = simu_func(p1,p2,sample_size)\n",
    "        cont = pd.crosstab(df.Y1,df.Y2)\n",
    "        \n",
    "        # If the cross-tab size is not (2,2) fill the missing values with 0.\n",
    "        if cont.shape!=(2,2):\n",
    "            cont = fill_2_2_crosstab(cont)\n",
    "        \n",
    "        # Make the test with the chosen method\n",
    "        if test_type==\"chi2\":\n",
    "            st_chi2, st_p, st_dof, st_exp = st.chi2_contingency(cont)\n",
    "            T_obs.append(st_chi2)\n",
    "            pvals.append(round(st_p,5))    \n",
    "        elif (test_type==\"fisher\"):\n",
    "            pvals.append(st.fisher_exact(cont, alternative='two-sided')[1])\n",
    "    \n",
    "    return T_obs, pvals"
   ]
  },
  {
   "cell_type": "code",
   "execution_count": null,
   "metadata": {},
   "outputs": [],
   "source": [
    "def repeat_experience_several_sample_size(sample_sizes, simu_func, p1, p2, test_type=\"chi2\", nb_repeat = 1000):\n",
    "    \"\"\"\n",
    "    Exemple :\n",
    "    repeat_experience_several_sample_size(sample_sizes = [20,30],\n",
    "                                          simu_func = simu_sample_notindep_Y1_Y2, \n",
    "                                          p1 = [0.4, 0.6],\n",
    "                                          p2 = [0.4, 0.6, 0.5, 0.5],\n",
    "                                          test_type = \"fisher\", \n",
    "                                          nb_repeat = 3)\n",
    "    \"\"\"\n",
    "    results = {}\n",
    "    for sample_size in sample_sizes:\n",
    "        \n",
    "        # repeat the experience for the sample_size\n",
    "        T_obs, pvals = repeat_experience(simu_sample_notindep_Y1_Y2, p1, p2, sample_size, test_type, nb_repeat)\n",
    "        results[\"p_values_{}\".format(sample_size)] = pvals\n",
    "        \n",
    "        # return the value of the statistic only for the chi2 test\n",
    "        if test_type == \"chi2\":\n",
    "            results[\"T_obs_{}\".format(sample_size)] = T_obs    \n",
    "    \n",
    "    return results"
   ]
  },
  {
   "cell_type": "code",
   "execution_count": null,
   "metadata": {},
   "outputs": [],
   "source": [
    "sizes = [10,30,50,100,200]\n",
    "sample_size = 100\n",
    "p1 = [0.4,0.6]\n",
    "p2 = [0.1,0.9,0.5,0.5]\n",
    "result_notindep_fisher = repeat_experience_several_sample_size(sizes, \n",
    "                                                        simu_sample_notindep_Y1_Y2, \n",
    "                                                        p1,\n",
    "                                                        p2,\n",
    "                                                        \"fisher\")"
   ]
  },
  {
   "cell_type": "code",
   "execution_count": null,
   "metadata": {},
   "outputs": [],
   "source": [
    "result_notindep_pvals_fisher = pd.DataFrame(result_notindep_fisher).transpose()"
   ]
  },
  {
   "cell_type": "code",
   "execution_count": null,
   "metadata": {},
   "outputs": [],
   "source": [
    "result_notindep_pvals_fisher"
   ]
  },
  {
   "cell_type": "code",
   "execution_count": null,
   "metadata": {},
   "outputs": [],
   "source": [
    "plt.boxplot(result_notindep_pvals_fisher)\n",
    "plt.xticks([1,2,3,4,5], sizes, fontsize = 15)\n",
    "plt.yticks(fontsize = 15)\n",
    "plt.ylabel(\"p-value\", fontsize = 15)\n",
    "plt.xlabel(\"Taille des échantillons\", fontsize = 15)\n",
    "plt.title(\"Répartition des p-value pour un test d'indépendance du $\\chi2$ \\n\\\n",
    "            pour 1000 échantillons\\n\\\n",
    "            en fonction de la taille des échantillons\", fontsize = 15)\n",
    "plt.plot((0,7),(0.05,0.05))\n",
    "plt.show()"
   ]
  },
  {
   "cell_type": "markdown",
   "metadata": {},
   "source": [
    "# Get more on my github <img src=\"../images/github.png\" width=\"100\">\n",
    "https://github.com/JJublanc/statistics_tools"
   ]
  }
 ],
 "metadata": {
  "celltoolbar": "Format de la Cellule Texte Brut",
  "kernelspec": {
   "display_name": "Python 3",
   "language": "python",
   "name": "python3"
  },
  "language_info": {
   "codemirror_mode": {
    "name": "ipython",
    "version": 3
   },
   "file_extension": ".py",
   "mimetype": "text/x-python",
   "name": "python",
   "nbconvert_exporter": "python",
   "pygments_lexer": "ipython3",
   "version": "3.7.1"
  }
 },
 "nbformat": 4,
 "nbformat_minor": 2
}
